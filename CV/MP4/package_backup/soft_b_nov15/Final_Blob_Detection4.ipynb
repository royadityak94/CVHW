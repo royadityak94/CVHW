{
 "cells": [
  {
   "cell_type": "code",
   "execution_count": null,
   "metadata": {},
   "outputs": [],
   "source": [
    "import os\n",
    "import numpy as np\n",
    "import matplotlib.pyplot as plt\n",
    "from utils import imread, showMatches\n",
    "from detectBlobs import detectBlobs\n",
    "from drawBlobs import drawBlobs\n",
    "from skimage.color import rgb2gray\n",
    "from scipy.ndimage.filters import convolve\n",
    "from compute_sift import compute_sift\n",
    "from computeMatches import computeMatches\n",
    "from mergeImages import mergeImages\n",
    "from ransac import ransac\n",
    "\n",
    "import sys\n",
    "%matplotlib inline"
   ]
  },
  {
   "cell_type": "code",
   "execution_count": null,
   "metadata": {},
   "outputs": [],
   "source": [
    "#Image directory\n",
    "dataDir = os.path.join('..', 'data', 'stitching')\n",
    "\n",
    "#Read input images\n",
    "testExamples = ['hill', 'field', 'ledge', 'pier', 'river' 'roofs', 'building', 'uttower']\n",
    "exampleIndex = 3\n",
    "imageName1 = '{}1_r.jpg'.format(testExamples[exampleIndex])\n",
    "imageName2 = '{}2_r.jpg'.format(testExamples[exampleIndex])\n",
    "\n",
    "im1 = imread(os.path.join(dataDir, imageName1))\n",
    "im2 = imread(os.path.join(dataDir, imageName2))"
   ]
  },
  {
   "cell_type": "code",
   "execution_count": 3,
   "metadata": {},
   "outputs": [
    {
     "name": "stdout",
     "output_type": "stream",
     "text": [
      "Convolving with sigma=1.2\n",
      "Convolving with sigma=1.6099689438\n",
      "Convolving with sigma=2.16\n",
      "Convolving with sigma=2.89794409884\n",
      "Convolving with sigma=3.888\n",
      "Convolving with sigma=5.21629937791\n",
      "Convolving with sigma=6.9984\n",
      "Convolving with sigma=9.38933888024\n",
      "Convolving with sigma=12.59712\n",
      "Convolving with sigma=16.9008099844\n",
      "Convolving with sigma=22.674816\n",
      "Convolving with sigma=30.421457972\n",
      "Convolving with sigma=40.8146688\n",
      "Convolving with sigma=54.7586243496\n",
      "Iterating for Level=0\n",
      "Iterating for Level=1\n",
      "Iterating for Level=2\n",
      "Iterating for Level=3\n",
      "Iterating for Level=4\n",
      "Iterating for Level=5\n",
      "Iterating for Level=6\n",
      "Iterating for Level=7\n",
      "Iterating for Level=8\n",
      "Iterating for Level=9\n",
      "Iterating for Level=10\n",
      "Iterating for Level=11\n",
      "Iterating for Level=12\n",
      "Iterating for Level=13\n",
      "Convolving with sigma=1.2\n",
      "Convolving with sigma=1.6099689438\n",
      "Convolving with sigma=2.16\n",
      "Convolving with sigma=2.89794409884\n",
      "Convolving with sigma=3.888\n",
      "Convolving with sigma=5.21629937791\n",
      "Convolving with sigma=6.9984\n",
      "Convolving with sigma=9.38933888024\n",
      "Convolving with sigma=12.59712\n",
      "Convolving with sigma=16.9008099844\n",
      "Convolving with sigma=22.674816\n",
      "Convolving with sigma=30.421457972\n",
      "Convolving with sigma=40.8146688\n",
      "Convolving with sigma=54.7586243496\n",
      "Iterating for Level=0\n",
      "Iterating for Level=1\n",
      "Iterating for Level=2\n",
      "Iterating for Level=3\n",
      "Iterating for Level=4\n",
      "Iterating for Level=5\n",
      "Iterating for Level=6\n",
      "Iterating for Level=7\n",
      "Iterating for Level=8\n",
      "Iterating for Level=9\n",
      "Iterating for Level=10\n",
      "Iterating for Level=11\n",
      "Iterating for Level=12\n",
      "Iterating for Level=13\n"
     ]
    },
    {
     "ename": "IndexError",
     "evalue": "index 3 is out of bounds for axis 1 with size 3",
     "output_type": "error",
     "traceback": [
      "\u001b[0;31m---------------------------------------------------------------------------\u001b[0m",
      "\u001b[0;31mIndexError\u001b[0m                                Traceback (most recent call last)",
      "\u001b[0;32m<ipython-input-3-3c16ce846001>\u001b[0m in \u001b[0;36m<module>\u001b[0;34m()\u001b[0m\n\u001b[1;32m      4\u001b[0m \u001b[0;34m\u001b[0m\u001b[0m\n\u001b[1;32m      5\u001b[0m \u001b[0;31m#Compute SIFT features\u001b[0m\u001b[0;34m\u001b[0m\u001b[0;34m\u001b[0m\u001b[0m\n\u001b[0;32m----> 6\u001b[0;31m \u001b[0msift1\u001b[0m \u001b[0;34m=\u001b[0m \u001b[0mcompute_sift\u001b[0m\u001b[0;34m(\u001b[0m\u001b[0mim1\u001b[0m\u001b[0;34m,\u001b[0m \u001b[0mblobs1\u001b[0m\u001b[0;34m[\u001b[0m\u001b[0;34m:\u001b[0m\u001b[0;34m,\u001b[0m \u001b[0;36m0\u001b[0m\u001b[0;34m:\u001b[0m\u001b[0;36m3\u001b[0m\u001b[0;34m]\u001b[0m\u001b[0;34m)\u001b[0m\u001b[0;34m\u001b[0m\u001b[0m\n\u001b[0m\u001b[1;32m      7\u001b[0m \u001b[0msift2\u001b[0m \u001b[0;34m=\u001b[0m \u001b[0mcompute_sift\u001b[0m\u001b[0;34m(\u001b[0m\u001b[0mim2\u001b[0m\u001b[0;34m,\u001b[0m \u001b[0mblobs2\u001b[0m\u001b[0;34m[\u001b[0m\u001b[0;34m:\u001b[0m\u001b[0;34m,\u001b[0m \u001b[0;36m0\u001b[0m\u001b[0;34m:\u001b[0m\u001b[0;36m3\u001b[0m\u001b[0;34m]\u001b[0m\u001b[0;34m)\u001b[0m\u001b[0;34m\u001b[0m\u001b[0m\n\u001b[1;32m      8\u001b[0m \u001b[0;34m\u001b[0m\u001b[0m\n",
      "\u001b[0;32m/home/ec2-user/Courses/CVHW/CV/MP4/p4/code1/compute_sift.pyc\u001b[0m in \u001b[0;36mcompute_sift\u001b[0;34m(I, circles, enlarge_factor)\u001b[0m\n\u001b[1;32m     18\u001b[0m \u001b[0;34m\u001b[0m\u001b[0m\n\u001b[1;32m     19\u001b[0m     \u001b[0msift\u001b[0m \u001b[0;34m=\u001b[0m \u001b[0mcv2\u001b[0m\u001b[0;34m.\u001b[0m\u001b[0mxfeatures2d\u001b[0m\u001b[0;34m.\u001b[0m\u001b[0mSIFT_create\u001b[0m\u001b[0;34m(\u001b[0m\u001b[0;34m)\u001b[0m\u001b[0;34m\u001b[0m\u001b[0m\n\u001b[0;32m---> 20\u001b[0;31m     \u001b[0mangles\u001b[0m \u001b[0;34m=\u001b[0m \u001b[0mcircles\u001b[0m\u001b[0;34m[\u001b[0m\u001b[0;34m:\u001b[0m\u001b[0;34m,\u001b[0m \u001b[0;36m3\u001b[0m\u001b[0;34m]\u001b[0m\u001b[0;34m\u001b[0m\u001b[0m\n\u001b[0m\u001b[1;32m     21\u001b[0m \u001b[0;34m\u001b[0m\u001b[0m\n\u001b[1;32m     22\u001b[0m     \u001b[0mimg_gray\u001b[0m \u001b[0;34m=\u001b[0m \u001b[0;34m(\u001b[0m\u001b[0mI\u001b[0m\u001b[0;34m.\u001b[0m\u001b[0mcopy\u001b[0m\u001b[0;34m(\u001b[0m\u001b[0;34m)\u001b[0m\u001b[0;34m*\u001b[0m\u001b[0;36m255.0\u001b[0m\u001b[0;34m)\u001b[0m\u001b[0;34m.\u001b[0m\u001b[0mastype\u001b[0m\u001b[0;34m(\u001b[0m\u001b[0;34m'uint8'\u001b[0m\u001b[0;34m)\u001b[0m\u001b[0;34m\u001b[0m\u001b[0m\n",
      "\u001b[0;31mIndexError\u001b[0m: index 3 is out of bounds for axis 1 with size 3"
     ]
    }
   ],
   "source": [
    "#Detect keypoints\n",
    "blobs1 = detectBlobs(im1, {'level': 12})\n",
    "blobs2 = detectBlobs(im2, {'level': 12})\n",
    "\n",
    "\n",
    "#Compute SIFT features\n",
    "sift1 = compute_sift(im1, blobs1)\n",
    "sift2 = compute_sift(im2, blobs2)\n",
    "\n",
    "#Find the matching between features\n",
    "matches = computeMatches(sift1, sift2)\n",
    "showMatches(im1, im2, blobs1, blobs2, matches)\n",
    "\n",
    "#Ransac to find correct matches and compute transformation\n",
    "#inliers, transf = ransac(matches, blobs1, blobs2)"
   ]
  },
  {
   "cell_type": "code",
   "execution_count": 15,
   "metadata": {},
   "outputs": [
    {
     "name": "stdout",
     "output_type": "stream",
     "text": [
      "Uauua\n",
      "Uauua\n",
      "Uauua\n",
      "Uauua\n",
      "Uauua\n",
      "Uauua\n"
     ]
    },
    {
     "data": {
      "text/plain": [
       "<matplotlib.image.AxesImage at 0x7f1d04700210>"
      ]
     },
     "execution_count": 15,
     "metadata": {},
     "output_type": "execute_result"
    },
    {
     "data": {
      "image/png": "[encoded data removed]",
      "text/plain": [
       "<Figure size 432x288 with 1 Axes>"
      ]
     },
     "metadata": {
      "needs_background": "light"
     },
     "output_type": "display_data"
    }
   ],
   "source": [
    "#Compute SIFT features\n",
    "sift1 = compute_sift(im1, blobs1)\n",
    "sift2 = compute_sift(im2, blobs2)\n",
    "\n",
    "#Find the matching between features\n",
    "matches = computeMatches(sift1, sift2)\n",
    "#showMatches(im1, im2, blobs1, blobs2, matches)\n",
    "\n",
    "#Ransac to find correct matches and compute transformation\n",
    "inliers, transf = ransac(matches, blobs1[:, [0, 1, 4]], blobs2[:, [0, 1, 4]], \\\n",
    "                         {'max_iteration': 1000, 'reject_limit': 500})\n",
    "goodMatches = np.zeros_like(matches)\n",
    "goodMatches[inliers] = matches[inliers]\n",
    "\n",
    "stitchIm = mergeImages(im2, im1, transf)\n",
    "plt.figure()\n",
    "plt.imshow(stitchIm)"
   ]
  },
  {
   "cell_type": "code",
   "execution_count": null,
   "metadata": {},
   "outputs": [],
   "source": []
  },
  {
   "cell_type": "code",
   "execution_count": null,
   "metadata": {},
   "outputs": [],
   "source": []
  },
  {
   "cell_type": "code",
   "execution_count": null,
   "metadata": {},
   "outputs": [],
   "source": []
  },
  {
   "cell_type": "code",
   "execution_count": null,
   "metadata": {},
   "outputs": [],
   "source": []
  }
 ],
 "metadata": {
  "kernelspec": {
   "display_name": "Python 2",
   "language": "python",
   "name": "python2"
  },
  "language_info": {
   "codemirror_mode": {
    "name": "ipython",
    "version": 2
   },
   "file_extension": ".py",
   "mimetype": "text/x-python",
   "name": "python",
   "nbconvert_exporter": "python",
   "pygments_lexer": "ipython2",
   "version": "2.7.17"
  }
 },
 "nbformat": 4,
 "nbformat_minor": 2
}
