{
 "cells": [
  {
   "cell_type": "code",
   "execution_count": 1,
   "metadata": {},
   "outputs": [],
   "source": [
    "import os\n",
    "import numpy as np\n",
    "import matplotlib.pyplot as plt\n",
    "from utils import imread\n",
    "from detectBlobs import detectBlobs\n",
    "from drawBlobs import drawBlobs\n",
    "from skimage.color import rgb2gray\n",
    "from scipy.ndimage.filters import convolve\n",
    "import sys\n",
    "%matplotlib inline"
   ]
  },
  {
   "cell_type": "code",
   "execution_count": 8,
   "metadata": {},
   "outputs": [],
   "source": [
    "#Image directory\n",
    "dataDir = os.path.join('..', 'data', 'stitching')\n",
    "\n",
    "#Read input images\n",
    "testExamples = ['hill', 'field', 'ledge', 'pier', 'river' 'roofs', 'building', 'uttower']\n",
    "exampleIndex = 0\n",
    "imageName1 = '{}1_r.jpg'.format(testExamples[exampleIndex])\n",
    "imageName2 = '{}2_r.jpg'.format(testExamples[exampleIndex])\n",
    "\n",
    "im1 = imread(os.path.join(dataDir, imageName1))\n",
    "im2 = imread(os.path.join(dataDir, imageName2))"
   ]
  },
  {
   "cell_type": "code",
   "execution_count": 5,
   "metadata": {},
   "outputs": [],
   "source": [
    "#Detect keypoints\n",
    "blobs1 = detectBlobs(im1)\n",
    "blobs2 = detectBlobs(im2)\n",
    "\n",
    "#Compute SIFT features\n",
    "# sift1 = compute_sift(im1, blobs1[:, 0:3])\n",
    "# sift2 = compute_sift(im2, blobs2[:, 0:3])\n",
    "\n",
    "# #Find the matching between features\n",
    "# matches = computeMatches(sift1, sift2)\n",
    "# showMatches(im1, im2, blobs1, blobs2, matches)\n",
    "\n",
    "#Ransac to find correct matches and compute transformation\n",
    "#inliers, transf = ransac(matches, blobs1, blobs2)"
   ]
  },
  {
   "cell_type": "code",
   "execution_count": null,
   "metadata": {},
   "outputs": [
    {
     "name": "stdout",
     "output_type": "stream",
     "text": [
      "0.01 1.2 13 1.3416407864998738\n",
      "Convolving with sigma=1.2\n",
      "Convolving with sigma=1.6099689437998486\n",
      "Convolving with sigma=2.16\n",
      "Convolving with sigma=2.897944098839728\n",
      "Convolving with sigma=3.8880000000000003\n",
      "Convolving with sigma=5.21629937791151\n",
      "Convolving with sigma=6.998400000000001\n",
      "Convolving with sigma=9.389338880240718\n",
      "Convolving with sigma=12.597120000000002\n",
      "Convolving with sigma=16.900809984433295\n",
      "Convolving with sigma=22.674816000000007\n",
      "Convolving with sigma=30.421457971979933\n"
     ]
    }
   ],
   "source": [
    "blobs1 = detectBlobs(im1, {'cutoff': 0.01, 'sigma_seed':1.2, 'level': 13, 'scaling': np.sqrt(1.8)})\n",
    "drawBlobs(im, blob1, 1500)"
   ]
  },
  {
   "cell_type": "code",
   "execution_count": null,
   "metadata": {},
   "outputs": [],
   "source": [
    "im = imread(os.path.join(datadir, imgs[3]))\n",
    "blob1 = detectBlobs(im, {'cutoff': 0.01, 'sigma_seed':1.2, 'level': 13, 'scaling': np.sqrt(1.8)})\n",
    "drawBlobs(im, blob1, 1500)"
   ]
  }
 ],
 "metadata": {
  "kernelspec": {
   "display_name": "Python 3",
   "language": "python",
   "name": "python3"
  },
  "language_info": {
   "codemirror_mode": {
    "name": "ipython",
    "version": 3
   },
   "file_extension": ".py",
   "mimetype": "text/x-python",
   "name": "python",
   "nbconvert_exporter": "python",
   "pygments_lexer": "ipython3",
   "version": "3.7.4"
  }
 },
 "nbformat": 4,
 "nbformat_minor": 2
}
