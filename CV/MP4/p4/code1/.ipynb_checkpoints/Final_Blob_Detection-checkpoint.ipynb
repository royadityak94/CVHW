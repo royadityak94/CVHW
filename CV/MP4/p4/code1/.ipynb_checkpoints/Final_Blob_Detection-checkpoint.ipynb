{
 "cells": [
  {
   "cell_type": "code",
   "execution_count": 1,
   "metadata": {},
   "outputs": [],
   "source": [
    "import os\n",
    "import numpy as np\n",
    "import matplotlib.pyplot as plt\n",
    "from utils import imread\n",
    "from detectBlobs import detectBlobs\n",
    "from drawBlobs import drawBlobs\n",
    "#from skimage.color import rgb2gray\n",
    "from skimage.color import rgb2gray\n",
    "from scipy.ndimage.filters import convolve\n",
    "from scipy.ndimage import gaussian_laplace\n",
    "import sys\n",
    "%matplotlib inline"
   ]
  },
  {
   "cell_type": "code",
   "execution_count": 2,
   "metadata": {},
   "outputs": [],
   "source": [
    "imgs = ['butterfly.jpg', 'einstein.jpg', 'fishes.jpg', 'sunflowers.jpg']\n",
    "numBlobsToDraw = 500\n",
    "imageName = imgs[1]\n",
    "datadir = os.path.join('..', 'data', 'blobs')\n",
    "im = imread(os.path.join(datadir, imageName))"
   ]
  },
  {
   "cell_type": "code",
   "execution_count": 3,
   "metadata": {},
   "outputs": [],
   "source": [
    "def py_im2double(img):\n",
    "    original_img = img.astype('float')\n",
    "    img_min, img_max = np.min(im.ravel()), np.max(im.ravel())\n",
    "    return (original_img - img_min) / (img_max - img_min)\n",
    "\n",
    "def laplacian_scaled_space(im, scaling, sigma_seed, level):\n",
    "    h, w = im.shape\n",
    "    scale_space = np.zeros((h, w, level))\n",
    "    sigma = np.zeros((level+1))\n",
    "    sigma[0] = sigma_seed\n",
    "    \n",
    "    for itr in range(level):\n",
    "        print (\"Iterating for Sigma = {}\".format(sigma[itr]))\n",
    "        scale_space[:, :, itr] = gaussian_laplace(im, sigma=sigma[itr]) ** 2\n",
    "        sigma[itr+1] = sigma[itr] * scaling  \n",
    "    return scale_space, sigma\n",
    "\n",
    "def max_scaled_spaces(scale_spaces, i, j, l, l1):\n",
    "    h, w = scale_spaces[:, :, 0].shape\n",
    "    search_over = [(0, 1), (0, -1), (1, 1), (1, -1), (-1, 1), (-1, -1), (1, 0), (-1, 0)]\n",
    "    flag = True\n",
    "    for _i, _j in search_over:\n",
    "        if (i+_i in range(h)) and (j+_j in range(w)):\n",
    "            if scale_spaces[i+_i, j+_j, l1] >= scale_spaces[i, j, l]:\n",
    "                flag = False\n",
    "\n",
    "#     return all(scale_spaces[i + dx, j + dy, l1] < scale_spaces[i, j, l] \n",
    "#        for dx, dy in search_over \n",
    "#        if  0<= i + dx < h and 0<= j + dy <w)\n",
    "    \n",
    "    return flag\n",
    "\n",
    "def non_max_suppression_blobs(scale_spaces, scaling, sigma, level_, cutoff=0.003):\n",
    "    scale_spaces_max = scale_spaces.copy()\n",
    "    h, w = scale_spaces_max[:, :, 0].shape\n",
    "    blob_location = []\n",
    "    kernel = [int(np.ceil(s)*scaling) for s in sigma] #int(np.ceil(s)) int(np.ceil(np.sqrt(2)*sigma[i]))\n",
    "    print (kernel)\n",
    "    \n",
    "    for le in range(0, level_):\n",
    "        print (\"Iterating for Level={}\".format(le))\n",
    "        curr = kernel[le]\n",
    "        scale_spaces_max[-curr:, -curr:, le] = 0\n",
    "        scale_spaces_max[:curr, :curr, le] = 0\n",
    "        for i in range(curr+1, (h - curr - 1)):\n",
    "            for j in range(curr+1, (w - curr - 1)):\n",
    "                \n",
    "                if scale_spaces[i, j, le] < cutoff:\n",
    "                    continue\n",
    "                \n",
    "                curr_flag = max_scaled_spaces(scale_spaces, i, j, le, le)\n",
    "\n",
    "                lower_flag = (le > 0) and scale_spaces[i, j, le-1] < scale_spaces[i, j, le] and max_scaled_spaces(scale_spaces, i, j, le, le-1)\n",
    "\n",
    "                upper_flag = (le < level_) and scale_spaces[i, j, le+1] < scale_spaces[i, j, le]  and max_scaled_spaces(scale_spaces, i, j, le, le+1) \n",
    "                \n",
    "                #print (curr_flag, lower_flag, upper_flag)\n",
    "                if curr_flag  and upper_flag: #and lower_flag\n",
    "                    if (le > 3):\n",
    "                        x1, x2, x3 = (le > 0), (scale_spaces_max[i, j, le-1] < scale_spaces_max[i, j, le]), (max_scaled_spaces(scale_spaces_max, i, j, le, le-1))\n",
    "                        m1 = x1 and x2 and x3\n",
    "                        print (lower_flag, x1, x2, x3, m1)\n",
    "                    #print (\"HI\")\n",
    "                    blob_location.append([i, j, le, scale_spaces[i, j, le]])\n",
    "                    scale_spaces_max[i, j, le] = 1\n",
    "        \n",
    "    blobs = np.zeros((len(blob_location), 5))\n",
    "    i = 0\n",
    "    for item in blob_location:\n",
    "        x, y = item[0], item[1]\n",
    "        radius = sigma[item[2]]\n",
    "        score = item[3]\n",
    "        blobs[i] = [y, x, radius, -1, score] #(x, y, radius, angle, score)\n",
    "        i+=1\n",
    "    return blobs   "
   ]
  },
  {
   "cell_type": "code",
   "execution_count": 4,
   "metadata": {},
   "outputs": [
    {
     "name": "stdout",
     "output_type": "stream",
     "text": [
      "Iterating for Sigma = 0.3\n",
      "Iterating for Sigma = 0.4242640687119285\n",
      "Iterating for Sigma = 0.6000000000000001\n",
      "Iterating for Sigma = 0.8485281374238572\n",
      "[1, 1, 1, 1, 2]\n",
      "Iterating for Level=0\n",
      "Iterating for Level=1\n",
      "Iterating for Level=2\n",
      "Iterating for Level=3\n"
     ]
    },
    {
     "ename": "IndexError",
     "evalue": "index 4 is out of bounds for axis 2 with size 4",
     "output_type": "error",
     "traceback": [
      "\u001b[0;31m---------------------------------------------------------------------------\u001b[0m",
      "\u001b[0;31mIndexError\u001b[0m                                Traceback (most recent call last)",
      "\u001b[0;32m<ipython-input-4-e537b5d240f3>\u001b[0m in \u001b[0;36m<module>\u001b[0;34m\u001b[0m\n\u001b[1;32m      7\u001b[0m     \u001b[0mblobs\u001b[0m \u001b[0;34m=\u001b[0m \u001b[0mnon_max_suppression_blobs\u001b[0m\u001b[0;34m(\u001b[0m\u001b[0mscale_space\u001b[0m\u001b[0;34m,\u001b[0m \u001b[0mscaling\u001b[0m\u001b[0;34m,\u001b[0m \u001b[0msigma\u001b[0m\u001b[0;34m,\u001b[0m \u001b[0mlevel\u001b[0m\u001b[0;34m,\u001b[0m \u001b[0;36m.003\u001b[0m\u001b[0;34m)\u001b[0m\u001b[0;34m\u001b[0m\u001b[0;34m\u001b[0m\u001b[0m\n\u001b[1;32m      8\u001b[0m     \u001b[0;32mreturn\u001b[0m \u001b[0mblobs\u001b[0m\u001b[0;34m\u001b[0m\u001b[0;34m\u001b[0m\u001b[0m\n\u001b[0;32m----> 9\u001b[0;31m \u001b[0mblob1\u001b[0m \u001b[0;34m=\u001b[0m \u001b[0mdetectBlobs\u001b[0m\u001b[0;34m(\u001b[0m\u001b[0mim\u001b[0m\u001b[0;34m)\u001b[0m\u001b[0;34m\u001b[0m\u001b[0;34m\u001b[0m\u001b[0m\n\u001b[0m",
      "\u001b[0;32m<ipython-input-4-e537b5d240f3>\u001b[0m in \u001b[0;36mdetectBlobs\u001b[0;34m(im, param)\u001b[0m\n\u001b[1;32m      5\u001b[0m     \u001b[0mlevel\u001b[0m \u001b[0;34m=\u001b[0m \u001b[0;36m4\u001b[0m\u001b[0;34m\u001b[0m\u001b[0;34m\u001b[0m\u001b[0m\n\u001b[1;32m      6\u001b[0m     \u001b[0mscale_space\u001b[0m\u001b[0;34m,\u001b[0m \u001b[0msigma\u001b[0m \u001b[0;34m=\u001b[0m \u001b[0mlaplacian_scaled_space\u001b[0m\u001b[0;34m(\u001b[0m\u001b[0mprocessed_im\u001b[0m\u001b[0;34m,\u001b[0m \u001b[0mscaling\u001b[0m\u001b[0;34m,\u001b[0m \u001b[0msigma_seed\u001b[0m\u001b[0;34m,\u001b[0m \u001b[0mlevel\u001b[0m\u001b[0;34m)\u001b[0m\u001b[0;34m\u001b[0m\u001b[0;34m\u001b[0m\u001b[0m\n\u001b[0;32m----> 7\u001b[0;31m     \u001b[0mblobs\u001b[0m \u001b[0;34m=\u001b[0m \u001b[0mnon_max_suppression_blobs\u001b[0m\u001b[0;34m(\u001b[0m\u001b[0mscale_space\u001b[0m\u001b[0;34m,\u001b[0m \u001b[0mscaling\u001b[0m\u001b[0;34m,\u001b[0m \u001b[0msigma\u001b[0m\u001b[0;34m,\u001b[0m \u001b[0mlevel\u001b[0m\u001b[0;34m,\u001b[0m \u001b[0;36m.003\u001b[0m\u001b[0;34m)\u001b[0m\u001b[0;34m\u001b[0m\u001b[0;34m\u001b[0m\u001b[0m\n\u001b[0m\u001b[1;32m      8\u001b[0m     \u001b[0;32mreturn\u001b[0m \u001b[0mblobs\u001b[0m\u001b[0;34m\u001b[0m\u001b[0;34m\u001b[0m\u001b[0m\n\u001b[1;32m      9\u001b[0m \u001b[0mblob1\u001b[0m \u001b[0;34m=\u001b[0m \u001b[0mdetectBlobs\u001b[0m\u001b[0;34m(\u001b[0m\u001b[0mim\u001b[0m\u001b[0;34m)\u001b[0m\u001b[0;34m\u001b[0m\u001b[0;34m\u001b[0m\u001b[0m\n",
      "\u001b[0;32m<ipython-input-3-3aedf280b60b>\u001b[0m in \u001b[0;36mnon_max_suppression_blobs\u001b[0;34m(scale_spaces, scaling, sigma, level_, cutoff)\u001b[0m\n\u001b[1;32m     53\u001b[0m                 \u001b[0mlower_flag\u001b[0m \u001b[0;34m=\u001b[0m \u001b[0;34m(\u001b[0m\u001b[0mle\u001b[0m \u001b[0;34m>\u001b[0m \u001b[0;36m0\u001b[0m\u001b[0;34m)\u001b[0m \u001b[0;32mand\u001b[0m \u001b[0mscale_spaces\u001b[0m\u001b[0;34m[\u001b[0m\u001b[0mi\u001b[0m\u001b[0;34m,\u001b[0m \u001b[0mj\u001b[0m\u001b[0;34m,\u001b[0m \u001b[0mle\u001b[0m\u001b[0;34m-\u001b[0m\u001b[0;36m1\u001b[0m\u001b[0;34m]\u001b[0m \u001b[0;34m<\u001b[0m \u001b[0mscale_spaces\u001b[0m\u001b[0;34m[\u001b[0m\u001b[0mi\u001b[0m\u001b[0;34m,\u001b[0m \u001b[0mj\u001b[0m\u001b[0;34m,\u001b[0m \u001b[0mle\u001b[0m\u001b[0;34m]\u001b[0m \u001b[0;32mand\u001b[0m \u001b[0mmax_scaled_spaces\u001b[0m\u001b[0;34m(\u001b[0m\u001b[0mscale_spaces\u001b[0m\u001b[0;34m,\u001b[0m \u001b[0mi\u001b[0m\u001b[0;34m,\u001b[0m \u001b[0mj\u001b[0m\u001b[0;34m,\u001b[0m \u001b[0mle\u001b[0m\u001b[0;34m,\u001b[0m \u001b[0mle\u001b[0m\u001b[0;34m-\u001b[0m\u001b[0;36m1\u001b[0m\u001b[0;34m)\u001b[0m\u001b[0;34m\u001b[0m\u001b[0;34m\u001b[0m\u001b[0m\n\u001b[1;32m     54\u001b[0m \u001b[0;34m\u001b[0m\u001b[0m\n\u001b[0;32m---> 55\u001b[0;31m                 \u001b[0mupper_flag\u001b[0m \u001b[0;34m=\u001b[0m \u001b[0;34m(\u001b[0m\u001b[0mle\u001b[0m \u001b[0;34m<\u001b[0m \u001b[0mlevel_\u001b[0m\u001b[0;34m)\u001b[0m \u001b[0;32mand\u001b[0m \u001b[0mscale_spaces\u001b[0m\u001b[0;34m[\u001b[0m\u001b[0mi\u001b[0m\u001b[0;34m,\u001b[0m \u001b[0mj\u001b[0m\u001b[0;34m,\u001b[0m \u001b[0mle\u001b[0m\u001b[0;34m+\u001b[0m\u001b[0;36m1\u001b[0m\u001b[0;34m]\u001b[0m \u001b[0;34m<\u001b[0m \u001b[0mscale_spaces\u001b[0m\u001b[0;34m[\u001b[0m\u001b[0mi\u001b[0m\u001b[0;34m,\u001b[0m \u001b[0mj\u001b[0m\u001b[0;34m,\u001b[0m \u001b[0mle\u001b[0m\u001b[0;34m]\u001b[0m  \u001b[0;32mand\u001b[0m \u001b[0mmax_scaled_spaces\u001b[0m\u001b[0;34m(\u001b[0m\u001b[0mscale_spaces\u001b[0m\u001b[0;34m,\u001b[0m \u001b[0mi\u001b[0m\u001b[0;34m,\u001b[0m \u001b[0mj\u001b[0m\u001b[0;34m,\u001b[0m \u001b[0mle\u001b[0m\u001b[0;34m,\u001b[0m \u001b[0mle\u001b[0m\u001b[0;34m+\u001b[0m\u001b[0;36m1\u001b[0m\u001b[0;34m)\u001b[0m\u001b[0;34m\u001b[0m\u001b[0;34m\u001b[0m\u001b[0m\n\u001b[0m\u001b[1;32m     56\u001b[0m \u001b[0;34m\u001b[0m\u001b[0m\n\u001b[1;32m     57\u001b[0m                 \u001b[0;31m#print (curr_flag, lower_flag, upper_flag)\u001b[0m\u001b[0;34m\u001b[0m\u001b[0;34m\u001b[0m\u001b[0;34m\u001b[0m\u001b[0m\n",
      "\u001b[0;31mIndexError\u001b[0m: index 4 is out of bounds for axis 2 with size 4"
     ]
    }
   ],
   "source": [
    "def detectBlobs(im, param=None):\n",
    "    processed_im = py_im2double(rgb2gray(im))\n",
    "    scaling = np.sqrt(2)\n",
    "    sigma_seed = .3\n",
    "    level = 4\n",
    "    scale_space, sigma = laplacian_scaled_space(processed_im, scaling, sigma_seed, level)\n",
    "    blobs = non_max_suppression_blobs(scale_space, scaling, sigma, level, .003)\n",
    "    return blobs\n",
    "blob1 = detectBlobs(im)"
   ]
  },
  {
   "cell_type": "code",
   "execution_count": null,
   "metadata": {},
   "outputs": [],
   "source": [
    "x1 = set(blob1[:, 2])\n",
    "x1"
   ]
  },
  {
   "cell_type": "code",
   "execution_count": null,
   "metadata": {},
   "outputs": [],
   "source": [
    "drawBlobs(im, blob1[:, [0, 1, 2, 4]], 500)"
   ]
  },
  {
   "cell_type": "code",
   "execution_count": null,
   "metadata": {},
   "outputs": [],
   "source": []
  },
  {
   "cell_type": "code",
   "execution_count": null,
   "metadata": {},
   "outputs": [],
   "source": [
    "1.8/np.sqrt(2)"
   ]
  },
  {
   "cell_type": "code",
   "execution_count": null,
   "metadata": {},
   "outputs": [],
   "source": [
    "for s i"
   ]
  },
  {
   "cell_type": "code",
   "execution_count": null,
   "metadata": {},
   "outputs": [],
   "source": []
  },
  {
   "cell_type": "code",
   "execution_count": null,
   "metadata": {},
   "outputs": [],
   "source": [
    "c_max = check(k)\n",
    "l_max = u_max = True\n",
    "if k - 1 >= 0:\n",
    "    l_max = check(k - 1) and \\\n",
    "    scale_space[i, j, k - 1] < scale_space[i, j, k]\n",
    "if k + 1 < level:\n",
    "    u_max = check(k + 1) and \\\n",
    "    scale_space[i, j, k + 1] < scale_space[i, j, k]\n",
    "if c_max and l_max and u_max:\n",
    "    max_scale_space[i, j, k] = 1\n",
    "    blob_location.append((i, j, k, scale_space[i, j, k]))"
   ]
  },
  {
   "cell_type": "code",
   "execution_count": null,
   "metadata": {},
   "outputs": [],
   "source": [
    "max_scale_space = scale_space\n",
    "threshold_factor = .001\n",
    "mask = [0] * (level)\n",
    "index = [(1, 0), (-1, 0), (0, 1), (0, -1), \n",
    "         (1, 1), (1, -1), (-1, 1), (-1, -1)]\n",
    "for i in range(0, level):\n",
    "    mask[i]=int(np.ceil(np.sqrt(2)*sigma[i]))\n",
    "size = np.shape(scale_space[:,:,0])\n",
    "\n",
    "def check(l):\n",
    "    return all(scale_space[i + dx, j + dy, l] < scale_space[i, j, k] \n",
    "       for dx, dy in index \n",
    "       if  0<= i + dx < size[0] and 0<= j + dy <size[1])\n",
    "\n",
    "blob_location =[]\n",
    "for k in range(0,level):\n",
    "    max_scale_space[:mask[k],:mask[k],k] = 0\n",
    "    max_scale_space[-mask[k]:,-mask[k]:,k] = 0\n",
    "    \n",
    "    for i in range(mask[k]+1,size[0]-mask[k]-1):\n",
    "        \n",
    "        for j in range(mask[k]+1,size[1]-mask[k]-1):\n",
    "            \n",
    "            if scale_space[i, j, k] < threshold_factor:\n",
    "                continue\n",
    "            #print (k)\n",
    "            c_max = check(k)\n",
    "            l_max = u_max = True\n",
    "            if k - 1 >= 0:\n",
    "                l_max = check(k - 1) and \\\n",
    "                scale_space[i, j, k - 1] < scale_space[i, j, k]\n",
    "            if k + 1 < level:\n",
    "                u_max = check(k + 1) and \\\n",
    "                scale_space[i, j, k + 1] < scale_space[i, j, k]\n",
    "            if c_max and l_max and u_max:\n",
    "                max_scale_space[i, j, k] = 1\n",
    "                blob_location.append((i, j, k, scale_space[i, j, k]))"
   ]
  },
  {
   "cell_type": "code",
   "execution_count": null,
   "metadata": {},
   "outputs": [],
   "source": []
  },
  {
   "cell_type": "code",
   "execution_count": null,
   "metadata": {},
   "outputs": [],
   "source": [
    "def check1(l):\n",
    "    print (scale_space.shape, index)\n",
    "    return all(scale_space[i + dx, j + dy, l] < scale_space[i, j, k] \n",
    "       for dx, dy in index \n",
    "       if  0<= i + dx < size[0] and 0<= j + dy <size[1])"
   ]
  },
  {
   "cell_type": "code",
   "execution_count": null,
   "metadata": {},
   "outputs": [],
   "source": [
    "check1(5)"
   ]
  },
  {
   "cell_type": "code",
   "execution_count": null,
   "metadata": {},
   "outputs": [],
   "source": []
  },
  {
   "cell_type": "code",
   "execution_count": null,
   "metadata": {},
   "outputs": [],
   "source": [
    "processed_im = py_im2double(rgb2gray(im))\n",
    "scaling = np.sqrt(2)\n",
    "sigma_seed = 1\n",
    "level = 7\n",
    "scale_space, sigma = laplacian_scaled_space(processed_im, scaling, sigma_seed, level)"
   ]
  },
  {
   "cell_type": "code",
   "execution_count": null,
   "metadata": {},
   "outputs": [],
   "source": [
    "scale_space.shape"
   ]
  },
  {
   "cell_type": "code",
   "execution_count": null,
   "metadata": {},
   "outputs": [],
   "source": []
  },
  {
   "cell_type": "code",
   "execution_count": null,
   "metadata": {},
   "outputs": [],
   "source": []
  },
  {
   "cell_type": "code",
   "execution_count": null,
   "metadata": {},
   "outputs": [],
   "source": [
    "def detectBlobs(im, param=None):\n",
    "    # Input:\n",
    "    #   IM - input image\n",
    "    #\n",
    "    # Ouput:\n",
    "    #   BLOBS - n x 5 array with blob in each row in (x, y, radius, angle, score)\n",
    "    #\n",
    "    # Dummy - returns a blob at the center of the image\n",
    "    processed_im = py_im2double(rgb2gray(im))\n",
    "    initial_sigma = 1.4 #1.6\n",
    "    k = np.sqrt(2) #initial_scale\n",
    "    sigma_scale_factor = np.sqrt(1.7)\n",
    "    n_iterations = 15\n",
    "    level = 15 #10-15\n",
    "    threshold_factor = .003\n",
    "    h, w = processed_im.shape\n",
    "    scale_space = np.zeros((h, w, level))\n",
    "    scale_space, sigma = create_scale_space(processed_im,sigma_scale_factor, initial_sigma,level)\n",
    "    max_scale_space = np.copy(scale_space)\n",
    "    mask = [0] * (level)\n",
    "    index = [(1, 0), (-1, 0), (0, 1), (0, -1), \n",
    "             (1, 1), (1, -1), (-1, 1), (-1, -1)]\n",
    "    for i in range(0, level):\n",
    "        mask[i]=int(np.ceil(np.sqrt(2)*sigma[i]))\n",
    "    size = np.shape(scale_space[:,:,0])\n",
    "\n",
    "    def check(l):\n",
    "        return all(scale_space[i + dx, j + dy, l] < scale_space[i, j, k] \n",
    "           for dx, dy in index \n",
    "           if  0<= i + dx < size[0] and 0<= j + dy <size[1])\n",
    "\n",
    "    blob_location =[]\n",
    "    for k in range(0,level):\n",
    "        max_scale_space[:mask[k],:mask[k],k] = 0\n",
    "        max_scale_space[-mask[k]:,-mask[k]:,k] = 0\n",
    "        for i in range(mask[k]+1,size[0]-mask[k]-1):\n",
    "            for j in range(mask[k]+1,size[1]-mask[k]-1):\n",
    "                if scale_space[i, j, k] < threshold_factor:\n",
    "                    continue\n",
    "                c_max = check(k)\n",
    "                l_max = u_max = True\n",
    "                if k - 1 >= 0:\n",
    "                    l_max = check(k - 1) and \\\n",
    "                    scale_space[i, j, k - 1] < scale_space[i, j, k]\n",
    "                if k + 1 < level:\n",
    "                    u_max = check(k + 1) and \\\n",
    "                    scale_space[i, j, k + 1] < scale_space[i, j, k]\n",
    "                if c_max and l_max and u_max:\n",
    "                    max_scale_space[i, j, k] = 1\n",
    "                    blob_location.append((i, j, k, scale_space[i, j, k]))\n",
    "\n",
    "    blobs = np.zeros((len(blob_location), 5))\n",
    "    i = 0\n",
    "    for center in blob_location:\n",
    "        x, y = center[0], center[1]\n",
    "        radius = int(np.ceil(np.sqrt(2)*sigma[center[2]])) \n",
    "        score = center[3]\n",
    "        blobs[i] = [y, x, radius, -1, score] #(x, y, radius, angle, score)\n",
    "        i+=1\n",
    "    return np.array(blobs)\n"
   ]
  },
  {
   "cell_type": "code",
   "execution_count": null,
   "metadata": {},
   "outputs": [],
   "source": []
  },
  {
   "cell_type": "code",
   "execution_count": null,
   "metadata": {},
   "outputs": [],
   "source": []
  },
  {
   "cell_type": "code",
   "execution_count": null,
   "metadata": {},
   "outputs": [],
   "source": []
  },
  {
   "cell_type": "code",
   "execution_count": null,
   "metadata": {},
   "outputs": [],
   "source": []
  },
  {
   "cell_type": "code",
   "execution_count": null,
   "metadata": {},
   "outputs": [],
   "source": []
  },
  {
   "cell_type": "code",
   "execution_count": null,
   "metadata": {},
   "outputs": [],
   "source": []
  },
  {
   "cell_type": "code",
   "execution_count": null,
   "metadata": {},
   "outputs": [],
   "source": []
  },
  {
   "cell_type": "code",
   "execution_count": null,
   "metadata": {},
   "outputs": [],
   "source": [
    "drawBlobs(im, blobs[:, [0, 1, 2, 4]], numBlobsToDraw)"
   ]
  },
  {
   "cell_type": "code",
   "execution_count": null,
   "metadata": {},
   "outputs": [],
   "source": []
  },
  {
   "cell_type": "code",
   "execution_count": null,
   "metadata": {},
   "outputs": [],
   "source": [
    "if 5 in range(0, 5):\n",
    "    print (\"Yes\")\n",
    "else: print (\"NO\")"
   ]
  },
  {
   "cell_type": "code",
   "execution_count": null,
   "metadata": {},
   "outputs": [],
   "source": []
  },
  {
   "cell_type": "code",
   "execution_count": null,
   "metadata": {},
   "outputs": [],
   "source": [
    "k1 = 0.3\n",
    "for l in range(15):\n",
    "    k1 *= np.sqrt(2)\n",
    "    print (k1)"
   ]
  },
  {
   "cell_type": "code",
   "execution_count": null,
   "metadata": {},
   "outputs": [],
   "source": []
  }
 ],
 "metadata": {
  "kernelspec": {
   "display_name": "Python 3",
   "language": "python",
   "name": "python3"
  },
  "language_info": {
   "codemirror_mode": {
    "name": "ipython",
    "version": 3
   },
   "file_extension": ".py",
   "mimetype": "text/x-python",
   "name": "python",
   "nbconvert_exporter": "python",
   "pygments_lexer": "ipython3",
   "version": "3.7.4"
  }
 },
 "nbformat": 4,
 "nbformat_minor": 2
}
