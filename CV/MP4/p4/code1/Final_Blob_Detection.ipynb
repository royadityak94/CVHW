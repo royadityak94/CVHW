{
 "cells": [
  {
   "cell_type": "code",
   "execution_count": 1,
   "metadata": {},
   "outputs": [],
   "source": [
    "import os\n",
    "import numpy as np\n",
    "import matplotlib.pyplot as plt\n",
    "from utils import imread\n",
    "from detectBlobs import detectBlobs\n",
    "from drawBlobs import drawBlobs\n",
    "#from skimage.color import rgb2gray\n",
    "from skimage.color import rgb2gray\n",
    "from scipy.ndimage.filters import convolve\n",
    "from scipy.ndimage import gaussian_laplace\n",
    "import sys\n",
    "%matplotlib inline"
   ]
  },
  {
   "cell_type": "code",
   "execution_count": 2,
   "metadata": {},
   "outputs": [],
   "source": [
    "imgs = ['butterfly.jpg', 'einstein.jpg', 'fishes.jpg', 'sunflowers.jpg']\n",
    "numBlobsToDraw = 500\n",
    "imageName = imgs[1]\n",
    "datadir = os.path.join('..', 'data', 'blobs')\n",
    "im = imread(os.path.join(datadir, imageName))"
   ]
  },
  {
   "cell_type": "code",
   "execution_count": 3,
   "metadata": {},
   "outputs": [],
   "source": [
    "def py_im2double(img):\n",
    "    grayscaled = rgb2gray(img)\n",
    "    original_img = grayscaled.astype('float')\n",
    "    img_min, img_max = np.min(original_img.ravel()), np.max(original_img.ravel())\n",
    "    return (original_img - img_min) / (img_max - img_min)\n",
    "\n",
    "def laplacian_of_gaussian_filter(sigma):\n",
    "    kernel_size = np.round(6*sigma)#np.round(6*sigma)\n",
    "    if kernel_size % 2 == 0:\n",
    "        kernel_size+=1\n",
    "    half_size=np.floor(kernel_size/2)\n",
    "    x, y = np.meshgrid(np.arange(-half_size, half_size+1), np.arange(-half_size, half_size+1))\n",
    "    \n",
    "    exp_term=np.exp(-(x**2+y**2) / (2*sigma**2))\n",
    "    exp_term[exp_term < sys.float_info.epsilon * exp_term.max()] = 0\n",
    "    if exp_term.sum() != 0:\n",
    "        exp_term = exp_term/exp_term.sum() \n",
    "    else: \n",
    "        exp_term\n",
    "    kernel = -((x**2 + y**2 - (2*sigma**2)) / sigma**2) * exp_term \n",
    "    kernel=kernel-kernel.mean()\n",
    "    return kernel\n",
    "\n",
    "def create_scale_space(gray_image,sigma_scale_factor,initial_sigma,level):\n",
    "    h,w=np.shape(gray_image)\n",
    "    scale_space = np.zeros((h,w,level),np.float32)\n",
    "    sigma = [0]*(level+1)\n",
    "    sigma[0] = initial_sigma\n",
    "    for i in range(0,level):\n",
    "        print('Convolving with sigma={}'.format(sigma[i]))\n",
    "        kernel=laplacian_of_gaussian_filter(sigma[i])\n",
    "        convolved_image=convolve(gray_image,kernel)\n",
    "        #cv2.imshow(\"LoG Convolved Image with sigma={}\".format(sigma[i]),convolved_image)\n",
    "        scale_space[:,:,i] = np.square(convolved_image)\n",
    "        sigma[i+1]=sigma[i]*sigma_scale_factor\n",
    "    return scale_space, sigma"
   ]
  },
  {
   "cell_type": "code",
   "execution_count": 4,
   "metadata": {},
   "outputs": [],
   "source": [
    "def py_im2double(img):\n",
    "    original_img = img.astype('float')\n",
    "    img_min, img_max = np.min(im.ravel()), np.max(im.ravel())\n",
    "    return (original_img - img_min) / (img_max - img_min)\n",
    "\n",
    "def laplacian_scaled_space(im, scaling, sigma_seed, level):\n",
    "    h, w = im.shape\n",
    "    scale_space = np.zeros((h, w, level))\n",
    "    sigma = np.zeros((level+1))\n",
    "    sigma[0] = sigma_seed\n",
    "    \n",
    "    for itr in range(level):\n",
    "        print (\"Iterating for Sigma = {}\".format(sigma[itr]))\n",
    "        scale_space[:, :, itr] = gaussian_laplace(im, sigma=sigma[itr]) ** 2\n",
    "        sigma[itr+1] = sigma[itr] * scaling  \n",
    "    return scale_space, sigma\n",
    "\n",
    "def max_scaled_spaces(scale_spaces, i, j, l, l1):\n",
    "    h, w = scale_spaces[:, :, 0].shape\n",
    "    search_over = [(0, 1), (0, -1), (1, 1), (1, -1), (-1, 1), (-1, -1), (1, 0), (-1, 0)]\n",
    "    flag = True\n",
    "    for _i, _j in search_over:\n",
    "        if (i+_i in range(h)) and (j+_j in range(w)):\n",
    "            if scale_spaces[i+_i, j+_j, l1] >= scale_spaces[i, j, l]:\n",
    "                flag = False\n",
    "\n",
    "#     return all(scale_spaces[i + dx, j + dy, l1] < scale_spaces[i, j, l] \n",
    "#        for dx, dy in search_over \n",
    "#        if  0<= i + dx < h and 0<= j + dy <w)\n",
    "    \n",
    "    return flag\n",
    "\n",
    "def non_max_suppression_blobs(scale_spaces, scaling, sigma, level_, cutoff=0.003):\n",
    "    scale_spaces_max = scale_spaces.copy()\n",
    "    h, w = scale_spaces_max[:, :, 0].shape\n",
    "    blob_location = []\n",
    "    kernel = [int(np.ceil(s)*scaling) for s in sigma] #int(np.ceil(s)) int(np.ceil(np.sqrt(2)*sigma[i]))\n",
    "    print (kernel)\n",
    "    \n",
    "    def check(l):\n",
    "        size = np.shape(scale_spaces[:,:,0])\n",
    "        search_over = [(0, 1), (0, -1), (1, 1), (1, -1), (-1, 1), (-1, -1), (1, 0), (-1, 0)]\n",
    "        return all(scale_spaces[i + dx, j + dy, l] < scale_spaces[i, j, le] \n",
    "           for dx, dy in search_over \n",
    "           if  0<= i + dx < size[0] and 0<= j + dy <size[1])\n",
    "    \n",
    "    for le in range(0, level_):\n",
    "        print (\"Iterating for Level={}\".format(le))\n",
    "        curr = kernel[le]\n",
    "        scale_spaces_max[-curr:, -curr:, le] = 0\n",
    "        scale_spaces_max[:curr, :curr, le] = 0\n",
    "        for i in range(curr+1, (h - curr - 1)):\n",
    "            for j in range(curr+1, (w - curr - 1)):\n",
    "                \n",
    "                if scale_spaces[i, j, le] < cutoff:\n",
    "                    continue\n",
    "                    \n",
    "                curr_flag = max_scaled_spaces(scale_spaces, i, j, le, le)\n",
    "\n",
    "                lower_flag = (le > 0) and scale_spaces[i, j, le-1] < scale_spaces[i, j, le] and max_scaled_spaces(scale_spaces, i, j, le, le-1)\n",
    "\n",
    "                \n",
    "#                 if le > 3 and check(le) :\n",
    "#                     print ((le > 0), check(le-1) )\n",
    "                \n",
    "                upper_flag = (le < level_-1) and scale_spaces[i, j, le+1] < scale_spaces[i, j, le]  and max_scaled_spaces(scale_spaces, i, j, le, le+1) \n",
    "                \n",
    "                #print (curr_flag, lower_flag, upper_flag)\n",
    "                if curr_flag  and upper_flag: #and lower_flag\n",
    "#                     if (le > 3):\n",
    "#                         x1, x2, x3 = (le > 0), (scale_spaces_max[i, j, le-1] < scale_spaces_max[i, j, le]), (max_scaled_spaces(scale_spaces_max, i, j, le, le-1))\n",
    "#                         m1 = x1 and x2 and x3\n",
    "#                         print (lower_flag, x1, x2, x3, m1)\n",
    "                    #print (\"HI\")\n",
    "                    blob_location.append([i, j, le, scale_spaces[i, j, le]])\n",
    "                    scale_spaces_max[i, j, le] = 1\n",
    "        \n",
    "    blobs = np.zeros((len(blob_location), 5))\n",
    "    i = 0\n",
    "    for item in blob_location:\n",
    "        x, y = item[0], item[1]\n",
    "        radius = sigma[item[2]]\n",
    "        score = item[3]\n",
    "        blobs[i] = [y, x, radius, -1, score] #(x, y, radius, angle, score)\n",
    "        i+=1\n",
    "    return blobs   "
   ]
  },
  {
   "cell_type": "code",
   "execution_count": 9,
   "metadata": {},
   "outputs": [
    {
     "name": "stdout",
     "output_type": "stream",
     "text": [
      "Convolving with sigma=0.9\n",
      "Convolving with sigma=1.2074767078498865\n",
      "Convolving with sigma=1.62\n",
      "Convolving with sigma=2.1734580741297957\n",
      "Convolving with sigma=2.9160000000000004\n",
      "Convolving with sigma=3.9122245334336325\n",
      "Convolving with sigma=5.248800000000001\n",
      "Convolving with sigma=7.042004160180539\n",
      "Convolving with sigma=9.447840000000003\n",
      "Convolving with sigma=12.675607488324973\n",
      "Convolving with sigma=17.006112000000005\n",
      "Convolving with sigma=22.81609347898495\n",
      "Convolving with sigma=30.611001600000012\n",
      "Convolving with sigma=41.068968262172916\n"
     ]
    },
    {
     "ename": "MemoryError",
     "evalue": "",
     "output_type": "error",
     "traceback": [
      "\u001b[0;31m---------------------------------------------------------------------------\u001b[0m",
      "\u001b[0;31mMemoryError\u001b[0m                               Traceback (most recent call last)",
      "\u001b[0;32m<ipython-input-9-24505a5ad6a9>\u001b[0m in \u001b[0;36m<module>\u001b[0;34m\u001b[0m\n\u001b[1;32m      8\u001b[0m     \u001b[0mblobs\u001b[0m \u001b[0;34m=\u001b[0m \u001b[0mnon_max_suppression_blobs\u001b[0m\u001b[0;34m(\u001b[0m\u001b[0mscale_space\u001b[0m\u001b[0;34m,\u001b[0m \u001b[0mscaling\u001b[0m\u001b[0;34m,\u001b[0m \u001b[0msigma\u001b[0m\u001b[0;34m,\u001b[0m \u001b[0mlevel\u001b[0m\u001b[0;34m,\u001b[0m \u001b[0;36m.0003\u001b[0m\u001b[0;34m)\u001b[0m\u001b[0;34m\u001b[0m\u001b[0;34m\u001b[0m\u001b[0m\n\u001b[1;32m      9\u001b[0m     \u001b[0;32mreturn\u001b[0m \u001b[0mblobs\u001b[0m\u001b[0;34m\u001b[0m\u001b[0;34m\u001b[0m\u001b[0m\n\u001b[0;32m---> 10\u001b[0;31m \u001b[0mblob1\u001b[0m \u001b[0;34m=\u001b[0m \u001b[0mdetectBlobs\u001b[0m\u001b[0;34m(\u001b[0m\u001b[0mim\u001b[0m\u001b[0;34m)\u001b[0m\u001b[0;34m\u001b[0m\u001b[0;34m\u001b[0m\u001b[0m\n\u001b[0m",
      "\u001b[0;32m<ipython-input-9-24505a5ad6a9>\u001b[0m in \u001b[0;36mdetectBlobs\u001b[0;34m(im, param)\u001b[0m\n\u001b[1;32m      4\u001b[0m     \u001b[0msigma_seed\u001b[0m \u001b[0;34m=\u001b[0m \u001b[0;36m.9\u001b[0m\u001b[0;34m\u001b[0m\u001b[0;34m\u001b[0m\u001b[0m\n\u001b[1;32m      5\u001b[0m     \u001b[0mlevel\u001b[0m \u001b[0;34m=\u001b[0m \u001b[0;36m14\u001b[0m\u001b[0;34m\u001b[0m\u001b[0;34m\u001b[0m\u001b[0m\n\u001b[0;32m----> 6\u001b[0;31m     \u001b[0mscale_space\u001b[0m\u001b[0;34m,\u001b[0m \u001b[0msigma\u001b[0m \u001b[0;34m=\u001b[0m \u001b[0mcreate_scale_space\u001b[0m\u001b[0;34m(\u001b[0m\u001b[0mprocessed_im\u001b[0m\u001b[0;34m,\u001b[0m \u001b[0mscaling\u001b[0m\u001b[0;34m,\u001b[0m \u001b[0msigma_seed\u001b[0m\u001b[0;34m,\u001b[0m \u001b[0mlevel\u001b[0m\u001b[0;34m)\u001b[0m\u001b[0;34m\u001b[0m\u001b[0;34m\u001b[0m\u001b[0m\n\u001b[0m\u001b[1;32m      7\u001b[0m     \u001b[0;31m#create_scale_space(gray_image,sigma_scale_factor,initial_sigma,level)\u001b[0m\u001b[0;34m\u001b[0m\u001b[0;34m\u001b[0m\u001b[0;34m\u001b[0m\u001b[0m\n\u001b[1;32m      8\u001b[0m     \u001b[0mblobs\u001b[0m \u001b[0;34m=\u001b[0m \u001b[0mnon_max_suppression_blobs\u001b[0m\u001b[0;34m(\u001b[0m\u001b[0mscale_space\u001b[0m\u001b[0;34m,\u001b[0m \u001b[0mscaling\u001b[0m\u001b[0;34m,\u001b[0m \u001b[0msigma\u001b[0m\u001b[0;34m,\u001b[0m \u001b[0mlevel\u001b[0m\u001b[0;34m,\u001b[0m \u001b[0;36m.0003\u001b[0m\u001b[0;34m)\u001b[0m\u001b[0;34m\u001b[0m\u001b[0;34m\u001b[0m\u001b[0m\n",
      "\u001b[0;32m<ipython-input-3-7a2cc826cf11>\u001b[0m in \u001b[0;36mcreate_scale_space\u001b[0;34m(gray_image, sigma_scale_factor, initial_sigma, level)\u001b[0m\n\u001b[1;32m     30\u001b[0m         \u001b[0mprint\u001b[0m\u001b[0;34m(\u001b[0m\u001b[0;34m'Convolving with sigma={}'\u001b[0m\u001b[0;34m.\u001b[0m\u001b[0mformat\u001b[0m\u001b[0;34m(\u001b[0m\u001b[0msigma\u001b[0m\u001b[0;34m[\u001b[0m\u001b[0mi\u001b[0m\u001b[0;34m]\u001b[0m\u001b[0;34m)\u001b[0m\u001b[0;34m)\u001b[0m\u001b[0;34m\u001b[0m\u001b[0;34m\u001b[0m\u001b[0m\n\u001b[1;32m     31\u001b[0m         \u001b[0mkernel\u001b[0m\u001b[0;34m=\u001b[0m\u001b[0mlaplacian_of_gaussian_filter\u001b[0m\u001b[0;34m(\u001b[0m\u001b[0msigma\u001b[0m\u001b[0;34m[\u001b[0m\u001b[0mi\u001b[0m\u001b[0;34m]\u001b[0m\u001b[0;34m)\u001b[0m\u001b[0;34m\u001b[0m\u001b[0;34m\u001b[0m\u001b[0m\n\u001b[0;32m---> 32\u001b[0;31m         \u001b[0mconvolved_image\u001b[0m\u001b[0;34m=\u001b[0m\u001b[0mconvolve\u001b[0m\u001b[0;34m(\u001b[0m\u001b[0mgray_image\u001b[0m\u001b[0;34m,\u001b[0m\u001b[0mkernel\u001b[0m\u001b[0;34m)\u001b[0m\u001b[0;34m\u001b[0m\u001b[0;34m\u001b[0m\u001b[0m\n\u001b[0m\u001b[1;32m     33\u001b[0m         \u001b[0;31m#cv2.imshow(\"LoG Convolved Image with sigma={}\".format(sigma[i]),convolved_image)\u001b[0m\u001b[0;34m\u001b[0m\u001b[0;34m\u001b[0m\u001b[0;34m\u001b[0m\u001b[0m\n\u001b[1;32m     34\u001b[0m         \u001b[0mscale_space\u001b[0m\u001b[0;34m[\u001b[0m\u001b[0;34m:\u001b[0m\u001b[0;34m,\u001b[0m\u001b[0;34m:\u001b[0m\u001b[0;34m,\u001b[0m\u001b[0mi\u001b[0m\u001b[0;34m]\u001b[0m \u001b[0;34m=\u001b[0m \u001b[0mnp\u001b[0m\u001b[0;34m.\u001b[0m\u001b[0msquare\u001b[0m\u001b[0;34m(\u001b[0m\u001b[0mconvolved_image\u001b[0m\u001b[0;34m)\u001b[0m\u001b[0;34m\u001b[0m\u001b[0;34m\u001b[0m\u001b[0m\n",
      "\u001b[0;32m~/anaconda3/lib/python3.7/site-packages/scipy/ndimage/filters.py\u001b[0m in \u001b[0;36mconvolve\u001b[0;34m(input, weights, output, mode, cval, origin)\u001b[0m\n\u001b[1;32m    743\u001b[0m     \"\"\"\n\u001b[1;32m    744\u001b[0m     return _correlate_or_convolve(input, weights, output, mode, cval,\n\u001b[0;32m--> 745\u001b[0;31m                                   origin, True)\n\u001b[0m\u001b[1;32m    746\u001b[0m \u001b[0;34m\u001b[0m\u001b[0m\n\u001b[1;32m    747\u001b[0m \u001b[0;34m\u001b[0m\u001b[0m\n",
      "\u001b[0;32m~/anaconda3/lib/python3.7/site-packages/scipy/ndimage/filters.py\u001b[0m in \u001b[0;36m_correlate_or_convolve\u001b[0;34m(input, weights, output, mode, cval, origin, convolution)\u001b[0m\n\u001b[1;32m    610\u001b[0m     \u001b[0moutput\u001b[0m \u001b[0;34m=\u001b[0m \u001b[0m_ni_support\u001b[0m\u001b[0;34m.\u001b[0m\u001b[0m_get_output\u001b[0m\u001b[0;34m(\u001b[0m\u001b[0moutput\u001b[0m\u001b[0;34m,\u001b[0m \u001b[0minput\u001b[0m\u001b[0;34m)\u001b[0m\u001b[0;34m\u001b[0m\u001b[0;34m\u001b[0m\u001b[0m\n\u001b[1;32m    611\u001b[0m     \u001b[0mmode\u001b[0m \u001b[0;34m=\u001b[0m \u001b[0m_ni_support\u001b[0m\u001b[0;34m.\u001b[0m\u001b[0m_extend_mode_to_code\u001b[0m\u001b[0;34m(\u001b[0m\u001b[0mmode\u001b[0m\u001b[0;34m)\u001b[0m\u001b[0;34m\u001b[0m\u001b[0;34m\u001b[0m\u001b[0m\n\u001b[0;32m--> 612\u001b[0;31m     \u001b[0m_nd_image\u001b[0m\u001b[0;34m.\u001b[0m\u001b[0mcorrelate\u001b[0m\u001b[0;34m(\u001b[0m\u001b[0minput\u001b[0m\u001b[0;34m,\u001b[0m \u001b[0mweights\u001b[0m\u001b[0;34m,\u001b[0m \u001b[0moutput\u001b[0m\u001b[0;34m,\u001b[0m \u001b[0mmode\u001b[0m\u001b[0;34m,\u001b[0m \u001b[0mcval\u001b[0m\u001b[0;34m,\u001b[0m \u001b[0morigins\u001b[0m\u001b[0;34m)\u001b[0m\u001b[0;34m\u001b[0m\u001b[0;34m\u001b[0m\u001b[0m\n\u001b[0m\u001b[1;32m    613\u001b[0m     \u001b[0;32mreturn\u001b[0m \u001b[0moutput\u001b[0m\u001b[0;34m\u001b[0m\u001b[0;34m\u001b[0m\u001b[0m\n\u001b[1;32m    614\u001b[0m \u001b[0;34m\u001b[0m\u001b[0m\n",
      "\u001b[0;31mMemoryError\u001b[0m: "
     ]
    }
   ],
   "source": [
    "def detectBlobs(im, param=None):\n",
    "    processed_im = py_im2double(rgb2gray(im))\n",
    "    scaling = np.sqrt(1.8)\n",
    "    sigma_seed = .9\n",
    "    level = 14\n",
    "    scale_space, sigma = create_scale_space(processed_im, scaling, sigma_seed, level)\n",
    "    #create_scale_space(gray_image,sigma_scale_factor,initial_sigma,level)\n",
    "    blobs = non_max_suppression_blobs(scale_space, scaling, sigma, level, .0003)\n",
    "    return blobs\n",
    "blob1 = detectBlobs(im)"
   ]
  },
  {
   "cell_type": "code",
   "execution_count": null,
   "metadata": {},
   "outputs": [],
   "source": [
    "x1 = set(blob1[:, 2])\n",
    "x1"
   ]
  },
  {
   "cell_type": "code",
   "execution_count": null,
   "metadata": {},
   "outputs": [],
   "source": [
    "drawBlobs(im, blob1[:, [0, 1, 2, 4]], 500)"
   ]
  },
  {
   "cell_type": "code",
   "execution_count": null,
   "metadata": {},
   "outputs": [],
   "source": []
  },
  {
   "cell_type": "code",
   "execution_count": null,
   "metadata": {},
   "outputs": [],
   "source": [
    "1.8/np.sqrt(2)"
   ]
  },
  {
   "cell_type": "code",
   "execution_count": null,
   "metadata": {},
   "outputs": [],
   "source": [
    "for s i"
   ]
  },
  {
   "cell_type": "code",
   "execution_count": null,
   "metadata": {},
   "outputs": [],
   "source": []
  },
  {
   "cell_type": "code",
   "execution_count": null,
   "metadata": {},
   "outputs": [],
   "source": [
    "c_max = check(k)\n",
    "l_max = u_max = True\n",
    "if k - 1 >= 0:\n",
    "    l_max = check(k - 1) and \\\n",
    "    scale_space[i, j, k - 1] < scale_space[i, j, k]\n",
    "if k + 1 < level:\n",
    "    u_max = check(k + 1) and \\\n",
    "    scale_space[i, j, k + 1] < scale_space[i, j, k]\n",
    "if c_max and l_max and u_max:\n",
    "    max_scale_space[i, j, k] = 1\n",
    "    blob_location.append((i, j, k, scale_space[i, j, k]))"
   ]
  },
  {
   "cell_type": "code",
   "execution_count": null,
   "metadata": {},
   "outputs": [],
   "source": [
    "max_scale_space = scale_space\n",
    "threshold_factor = .001\n",
    "mask = [0] * (level)\n",
    "index = [(1, 0), (-1, 0), (0, 1), (0, -1), \n",
    "         (1, 1), (1, -1), (-1, 1), (-1, -1)]\n",
    "for i in range(0, level):\n",
    "    mask[i]=int(np.ceil(np.sqrt(2)*sigma[i]))\n",
    "size = np.shape(scale_space[:,:,0])\n",
    "\n",
    "def check(l):\n",
    "    return all(scale_space[i + dx, j + dy, l] < scale_space[i, j, k] \n",
    "       for dx, dy in index \n",
    "       if  0<= i + dx < size[0] and 0<= j + dy <size[1])\n",
    "\n",
    "blob_location =[]\n",
    "for k in range(0,level):\n",
    "    max_scale_space[:mask[k],:mask[k],k] = 0\n",
    "    max_scale_space[-mask[k]:,-mask[k]:,k] = 0\n",
    "    \n",
    "    for i in range(mask[k]+1,size[0]-mask[k]-1):\n",
    "        \n",
    "        for j in range(mask[k]+1,size[1]-mask[k]-1):\n",
    "            \n",
    "            if scale_space[i, j, k] < threshold_factor:\n",
    "                continue\n",
    "            #print (k)\n",
    "            c_max = check(k)\n",
    "            l_max = u_max = True\n",
    "            if k - 1 >= 0:\n",
    "                l_max = check(k - 1) and \\\n",
    "                scale_space[i, j, k - 1] < scale_space[i, j, k]\n",
    "            if k + 1 < level:\n",
    "                u_max = check(k + 1) and \\\n",
    "                scale_space[i, j, k + 1] < scale_space[i, j, k]\n",
    "            if c_max and l_max and u_max:\n",
    "                max_scale_space[i, j, k] = 1\n",
    "                blob_location.append((i, j, k, scale_space[i, j, k]))"
   ]
  },
  {
   "cell_type": "code",
   "execution_count": null,
   "metadata": {},
   "outputs": [],
   "source": []
  },
  {
   "cell_type": "code",
   "execution_count": null,
   "metadata": {},
   "outputs": [],
   "source": [
    "def check1(l):\n",
    "    print (scale_space.shape, index)\n",
    "    return all(scale_space[i + dx, j + dy, l] < scale_space[i, j, k] \n",
    "       for dx, dy in index \n",
    "       if  0<= i + dx < size[0] and 0<= j + dy <size[1])"
   ]
  },
  {
   "cell_type": "code",
   "execution_count": null,
   "metadata": {},
   "outputs": [],
   "source": [
    "check1(5)"
   ]
  },
  {
   "cell_type": "code",
   "execution_count": null,
   "metadata": {},
   "outputs": [],
   "source": []
  },
  {
   "cell_type": "code",
   "execution_count": null,
   "metadata": {},
   "outputs": [],
   "source": [
    "processed_im = py_im2double(rgb2gray(im))\n",
    "scaling = np.sqrt(2)\n",
    "sigma_seed = 1\n",
    "level = 7\n",
    "scale_space, sigma = laplacian_scaled_space(processed_im, scaling, sigma_seed, level)"
   ]
  },
  {
   "cell_type": "code",
   "execution_count": null,
   "metadata": {},
   "outputs": [],
   "source": [
    "scale_space.shape"
   ]
  },
  {
   "cell_type": "code",
   "execution_count": null,
   "metadata": {},
   "outputs": [],
   "source": []
  },
  {
   "cell_type": "code",
   "execution_count": null,
   "metadata": {},
   "outputs": [],
   "source": []
  },
  {
   "cell_type": "code",
   "execution_count": null,
   "metadata": {},
   "outputs": [],
   "source": [
    "def detectBlobs(im, param=None):\n",
    "    # Input:\n",
    "    #   IM - input image\n",
    "    #\n",
    "    # Ouput:\n",
    "    #   BLOBS - n x 5 array with blob in each row in (x, y, radius, angle, score)\n",
    "    #\n",
    "    # Dummy - returns a blob at the center of the image\n",
    "    processed_im = py_im2double(rgb2gray(im))\n",
    "    initial_sigma = 1.4 #1.6\n",
    "    k = np.sqrt(2) #initial_scale\n",
    "    sigma_scale_factor = np.sqrt(1.7)\n",
    "    n_iterations = 15\n",
    "    level = 15 #10-15\n",
    "    threshold_factor = .003\n",
    "    h, w = processed_im.shape\n",
    "    scale_space = np.zeros((h, w, level))\n",
    "    scale_space, sigma = create_scale_space(processed_im,sigma_scale_factor, initial_sigma,level)\n",
    "    max_scale_space = np.copy(scale_space)\n",
    "    mask = [0] * (level)\n",
    "    index = [(1, 0), (-1, 0), (0, 1), (0, -1), \n",
    "             (1, 1), (1, -1), (-1, 1), (-1, -1)]\n",
    "    for i in range(0, level):\n",
    "        mask[i]=int(np.ceil(np.sqrt(2)*sigma[i]))\n",
    "    size = np.shape(scale_space[:,:,0])\n",
    "\n",
    "    def check(l):\n",
    "        return all(scale_space[i + dx, j + dy, l] < scale_space[i, j, k] \n",
    "           for dx, dy in index \n",
    "           if  0<= i + dx < size[0] and 0<= j + dy <size[1])\n",
    "\n",
    "    blob_location =[]\n",
    "    for k in range(0,level):\n",
    "        max_scale_space[:mask[k],:mask[k],k] = 0\n",
    "        max_scale_space[-mask[k]:,-mask[k]:,k] = 0\n",
    "        for i in range(mask[k]+1,size[0]-mask[k]-1):\n",
    "            for j in range(mask[k]+1,size[1]-mask[k]-1):\n",
    "                if scale_space[i, j, k] < threshold_factor:\n",
    "                    continue\n",
    "                c_max = check(k)\n",
    "                l_max = u_max = True\n",
    "                if k - 1 >= 0:\n",
    "                    l_max = check(k - 1) and \\\n",
    "                    scale_space[i, j, k - 1] < scale_space[i, j, k]\n",
    "                if k + 1 < level:\n",
    "                    u_max = check(k + 1) and \\\n",
    "                    scale_space[i, j, k + 1] < scale_space[i, j, k]\n",
    "                if c_max and l_max and u_max:\n",
    "                    max_scale_space[i, j, k] = 1\n",
    "                    blob_location.append((i, j, k, scale_space[i, j, k]))\n",
    "\n",
    "    blobs = np.zeros((len(blob_location), 5))\n",
    "    i = 0\n",
    "    for center in blob_location:\n",
    "        x, y = center[0], center[1]\n",
    "        radius = int(np.ceil(np.sqrt(2)*sigma[center[2]])) \n",
    "        score = center[3]\n",
    "        blobs[i] = [y, x, radius, -1, score] #(x, y, radius, angle, score)\n",
    "        i+=1\n",
    "    return np.array(blobs)\n"
   ]
  },
  {
   "cell_type": "code",
   "execution_count": null,
   "metadata": {},
   "outputs": [],
   "source": []
  },
  {
   "cell_type": "code",
   "execution_count": null,
   "metadata": {},
   "outputs": [],
   "source": []
  },
  {
   "cell_type": "code",
   "execution_count": null,
   "metadata": {},
   "outputs": [],
   "source": []
  },
  {
   "cell_type": "code",
   "execution_count": null,
   "metadata": {},
   "outputs": [],
   "source": []
  },
  {
   "cell_type": "code",
   "execution_count": null,
   "metadata": {},
   "outputs": [],
   "source": []
  },
  {
   "cell_type": "code",
   "execution_count": null,
   "metadata": {},
   "outputs": [],
   "source": []
  },
  {
   "cell_type": "code",
   "execution_count": null,
   "metadata": {},
   "outputs": [],
   "source": []
  },
  {
   "cell_type": "code",
   "execution_count": null,
   "metadata": {},
   "outputs": [],
   "source": [
    "drawBlobs(im, blobs[:, [0, 1, 2, 4]], numBlobsToDraw)"
   ]
  },
  {
   "cell_type": "code",
   "execution_count": null,
   "metadata": {},
   "outputs": [],
   "source": []
  },
  {
   "cell_type": "code",
   "execution_count": null,
   "metadata": {},
   "outputs": [],
   "source": [
    "if 5 in range(0, 5):\n",
    "    print (\"Yes\")\n",
    "else: print (\"NO\")"
   ]
  },
  {
   "cell_type": "code",
   "execution_count": null,
   "metadata": {},
   "outputs": [],
   "source": []
  },
  {
   "cell_type": "code",
   "execution_count": null,
   "metadata": {},
   "outputs": [],
   "source": [
    "k1 = 0.3\n",
    "for l in range(15):\n",
    "    k1 *= np.sqrt(2)\n",
    "    print (k1)"
   ]
  },
  {
   "cell_type": "code",
   "execution_count": null,
   "metadata": {},
   "outputs": [],
   "source": []
  }
 ],
 "metadata": {
  "kernelspec": {
   "display_name": "Python 3",
   "language": "python",
   "name": "python3"
  },
  "language_info": {
   "codemirror_mode": {
    "name": "ipython",
    "version": 3
   },
   "file_extension": ".py",
   "mimetype": "text/x-python",
   "name": "python",
   "nbconvert_exporter": "python",
   "pygments_lexer": "ipython3",
   "version": "3.7.4"
  }
 },
 "nbformat": 4,
 "nbformat_minor": 2
}
