{
 "cells": [
  {
   "cell_type": "code",
   "execution_count": 1,
   "metadata": {},
   "outputs": [],
   "source": [
    "import numpy as np\n",
    "import os\n",
    "import utils\n",
    "import time\n",
    "from extractDigitFeatures import extractDigitFeatures\n",
    "from trainModel import trainModel\n",
    "from evaluateLabels import evaluateLabels\n",
    "from evaluateModel import evaluateModel"
   ]
  },
  {
   "cell_type": "code",
   "execution_count": 2,
   "metadata": {},
   "outputs": [],
   "source": [
    "# There are three versions of MNIST dataset\n",
    "dataTypes = ['digits-normal.mat', 'digits-scaled.mat', 'digits-jitter.mat']\n",
    "\n",
    "# You have to implement three types of features\n",
    "featureTypes = ['pixel', 'hog', 'lbp']\n",
    "\n",
    "# Accuracy placeholder\n",
    "accuracy = np.zeros((len(dataTypes), len(featureTypes)))\n",
    "trainSet = 1\n",
    "testSet = 2"
   ]
  },
  {
   "cell_type": "code",
   "execution_count": 8,
   "metadata": {},
   "outputs": [
    {
     "name": "stdout",
     "output_type": "stream",
     "text": [
      "+++ Loading digits of dataType: digits-normal.mat\n",
      "1.74s to extract pixel features for 2000 images\n",
      "0.14s to train model\n",
      "Accuracy [testSet=2] 84.80\n",
      "\n",
      "9.00s to extract hog features for 2000 images\n",
      "0.93s to train model\n",
      "Accuracy [testSet=2] 89.00\n",
      "\n",
      "15.28s to extract lbp features for 2000 images\n",
      "0.04s to train model\n",
      "Accuracy [testSet=2] 10.00\n",
      "\n",
      "+++ Loading digits of dataType: digits-scaled.mat\n"
     ]
    },
    {
     "name": "stderr",
     "output_type": "stream",
     "text": [
      "/home/ec2-user/Courses/CVHW/CV/p5/code1/multiclassLRTrain.py:5: RuntimeWarning: invalid value encountered in true_divide\n",
      "  return exp / np.array([np.sum(exp, axis=1)]).T\n",
      "/home/ec2-user/Courses/CVHW/CV/p5/code1/multiclassLRTrain.py:5: RuntimeWarning: divide by zero encountered in true_divide\n",
      "  return exp / np.array([np.sum(exp, axis=1)]).T\n"
     ]
    },
    {
     "name": "stdout",
     "output_type": "stream",
     "text": [
      "1.82s to extract pixel features for 2000 images\n",
      "0.04s to train model\n",
      "Accuracy [testSet=2] 10.00\n",
      "\n",
      "9.13s to extract hog features for 2000 images\n",
      "0.60s to train model\n",
      "Accuracy [testSet=2] 25.60\n",
      "\n",
      "14.61s to extract lbp features for 2000 images\n",
      "0.07s to train model\n",
      "Accuracy [testSet=2] 10.00\n",
      "\n",
      "+++ Loading digits of dataType: digits-jitter.mat\n",
      "1.82s to extract pixel features for 2000 images\n",
      "0.52s to train model\n",
      "Accuracy [testSet=2] 13.60\n",
      "\n",
      "9.45s to extract hog features for 2000 images\n",
      "0.69s to train model\n",
      "Accuracy [testSet=2] 17.80\n",
      "\n",
      "15.43s to extract lbp features for 2000 images\n",
      "0.06s to train model\n",
      "Accuracy [testSet=2] 10.00\n",
      "\n"
     ]
    }
   ],
   "source": [
    "for i in range(len(dataTypes)):\n",
    "    dataType = dataTypes[i]\n",
    "    #Load data\n",
    "    path = os.path.join('..', 'data', dataType)\n",
    "    data = utils.loadmat(path)\n",
    "    print ('+++ Loading digits of dataType: {}'.format(dataType))\n",
    "\n",
    "    # Optionally montage the digits in the val set\n",
    "    #montageDigits(data['x'][:, :, data['set']==2])\n",
    "\n",
    "    for j in range(len(featureTypes)):\n",
    "        featureType = featureTypes[j]\n",
    "\n",
    "        # Extract features\n",
    "        tic = time.time()\n",
    "        features = extractDigitFeatures(data['x'], featureType)\n",
    "        print ('{:.2f}s to extract {} features for {} images'.format(time.time()-tic,\n",
    "                featureType, features.shape[1]))\n",
    "\n",
    "        # Train model\n",
    "        tic = time.time()\n",
    "        model = trainModel(features[:, data['set']==trainSet], data['y'][data['set']==trainSet], \n",
    "                          features[:, data['set']==3], data['y'][data['set']==3])\n",
    "        print ('{:.2f}s to train model'.format(time.time()-tic))\n",
    "\n",
    "        # Test the model\n",
    "        ypred = evaluateModel(model, features[:, data['set']==testSet])\n",
    "        y = data['y'][data['set']==testSet]\n",
    "\n",
    "        # Measure accuracy\n",
    "        (acc, conf) = evaluateLabels(y, ypred, False)\n",
    "        print ('Accuracy [testSet={}] {:.2f}\\n'.format(testSet, acc*100))\n",
    "        accuracy[i, j] = acc"
   ]
  },
  {
   "cell_type": "code",
   "execution_count": 11,
   "metadata": {},
   "outputs": [
    {
     "name": "stdout",
     "output_type": "stream",
     "text": [
      "+++ Accuracy Table [trainSet=1, testSet=2]\n",
      "--------------------------------------------------\n",
      "dataset\t\t\t\n",
      "pixel\t\n",
      "hog\t\n",
      "lbp\t\n",
      "\n",
      "--------------------------------------------------\n",
      "digits-normal.mat\t\n",
      "84.80\t\n",
      "89.00\t\n",
      "10.00\t\n",
      "\n",
      "digits-scaled.mat\t\n",
      "10.00\t\n",
      "25.60\t\n",
      "10.00\t\n",
      "\n",
      "digits-jitter.mat\t\n",
      "13.60\t\n",
      "17.80\t\n",
      "10.00\t\n",
      "\n"
     ]
    }
   ],
   "source": [
    "# Print the results in a table\n",
    "print ('+++ Accuracy Table [trainSet={}, testSet={}]'.format(trainSet, testSet))\n",
    "print ('--------------------------------------------------')\n",
    "print ('dataset\\t\\t\\t',)\n",
    "for j in range(len(featureTypes)):\n",
    "    print ('{}\\t'.format(featureTypes[j]),)\n",
    "\n",
    "print ('')\n",
    "print ('--------------------------------------------------')\n",
    "for i in range(len(dataTypes)):\n",
    "    print ('{}\\t'.format(dataTypes[i]),)\n",
    "    for j in range(len(featureTypes)):\n",
    "        print ('{:.2f}\\t'.format(accuracy[i, j]*100),)\n",
    "    print ('')"
   ]
  }
 ],
 "metadata": {
  "kernelspec": {
   "display_name": "cs682",
   "language": "python",
   "name": "cs682"
  },
  "language_info": {
   "codemirror_mode": {
    "name": "ipython",
    "version": 3
   },
   "file_extension": ".py",
   "mimetype": "text/x-python",
   "name": "python",
   "nbconvert_exporter": "python",
   "pygments_lexer": "ipython3",
   "version": "3.6.9"
  }
 },
 "nbformat": 4,
 "nbformat_minor": 2
}
