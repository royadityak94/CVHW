{
 "cells": [
  {
   "cell_type": "code",
   "execution_count": 2,
   "metadata": {},
   "outputs": [],
   "source": [
    "import numpy as np\n",
    "import os\n",
    "import utils\n",
    "import time\n",
    "from utils import loadmat\n",
    "import matplotlib.pyplot as plt\n",
    "%matplotlib inline"
   ]
  },
  {
   "cell_type": "code",
   "execution_count": 68,
   "metadata": {},
   "outputs": [],
   "source": [
    "data = utils.loadmat('../data/digits-normal.mat') \n",
    "img = data['x'][:, :, 0]\n",
    "patch_size = 3"
   ]
  },
  {
   "cell_type": "code",
   "execution_count": 116,
   "metadata": {},
   "outputs": [],
   "source": [
    "def compute_from_patch(patch):\n",
    "    if patch.shape[0] != 3 and patch.shape[0] != patch.shape[1]:\n",
    "        raise ValueError('Patch Size Mismatch')\n",
    "    patch_sub = patch - np.ravel(patch)[4]\n",
    "    patch_sub[patch_sub>0] = 1\n",
    "    patch_sub[patch_sub<=0] = 0\n",
    "    flattened_patch = np.delete(np.ravel(patch_sub), 4)\n",
    "    return flattened_patch.dot(2**np.arange(flattened_patch.size)[::1])"
   ]
  },
  {
   "cell_type": "code",
   "execution_count": 120,
   "metadata": {},
   "outputs": [],
   "source": [
    "final_img = np.zeros((img.shape[0]-(patch_size-1), img.shape[1]-(patch_size-1)))\n",
    "for r in range(0, final_img.shape[0]):\n",
    "    for c in range(0, final_img.shape[1]):\n",
    "        final_img[r][c] = compute_from_patch(img[r:r+patch_size, c:c+patch_size])\n",
    "hist = np.histogram(np.ndarray.flatten(final_img), bins=np.linspace(1, 255, num=257))[0]"
   ]
  }
 ],
 "metadata": {
  "kernelspec": {
   "display_name": "cs682",
   "language": "python",
   "name": "cs682"
  },
  "language_info": {
   "codemirror_mode": {
    "name": "ipython",
    "version": 3
   },
   "file_extension": ".py",
   "mimetype": "text/x-python",
   "name": "python",
   "nbconvert_exporter": "python",
   "pygments_lexer": "ipython3",
   "version": "3.6.9"
  }
 },
 "nbformat": 4,
 "nbformat_minor": 2
}
