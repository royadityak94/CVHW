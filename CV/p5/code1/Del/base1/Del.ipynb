{
 "cells": [
  {
   "cell_type": "code",
   "execution_count": 1,
   "metadata": {},
   "outputs": [],
   "source": [
    "import numpy as np\n",
    "import os\n",
    "import utils\n",
    "import time\n",
    "from utils import loadmat\n",
    "import matplotlib.pyplot as plt\n",
    "%matplotlib inline"
   ]
  },
  {
   "cell_type": "code",
   "execution_count": 56,
   "metadata": {},
   "outputs": [],
   "source": [
    "def feature_normalization(patch, type, epsilon=5e-5):\n",
    "    if type == 'Sqrt Scaling':\n",
    "        return np.sqrt(patch)\n",
    "    elif type == 'L2-Norm':\n",
    "        return patch / np.sqrt(np.sum(block ** 2) + epsilon)\n",
    "    else:\n",
    "        return -1"
   ]
  },
  {
   "cell_type": "code",
   "execution_count": 42,
   "metadata": {},
   "outputs": [],
   "source": [
    "def feature_pixel(x):\n",
    "    return x.reshape(-1, 1)\n",
    "\n",
    "def feature_hog(x):\n",
    "    pass"
   ]
  },
  {
   "cell_type": "code",
   "execution_count": 57,
   "metadata": {},
   "outputs": [
    {
     "data": {
      "text/plain": [
       "<matplotlib.image.AxesImage at 0x7f6b40d05e10>"
      ]
     },
     "execution_count": 57,
     "metadata": {},
     "output_type": "execute_result"
    },
    {
     "data": {
      "image/png": "[encoded data removed]",
      "text/plain": [
       "<Figure size 432x288 with 1 Axes>"
      ]
     },
     "metadata": {
      "needs_background": "light"
     },
     "output_type": "display_data"
    }
   ],
   "source": [
    "from skimage.feature import hog\n",
    "\n",
    "fd, hog_image = hog(img, orientations=8, pixels_per_cell=(16, 16),\n",
    "                    cells_per_block=(1, 1), visualize=True, multichannel=False)\n",
    "\n",
    "plt.imshow(hog_image)"
   ]
  },
  {
   "cell_type": "code",
   "execution_count": 10,
   "metadata": {},
   "outputs": [
    {
     "data": {
      "text/plain": [
       "(28, 28)"
      ]
     },
     "execution_count": 10,
     "metadata": {},
     "output_type": "execute_result"
    }
   ],
   "source": [
    ".shape"
   ]
  },
  {
   "cell_type": "code",
   "execution_count": 11,
   "metadata": {},
   "outputs": [],
   "source": [
    "data = utils.loadmat('../data/digits-normal.mat') \n",
    "\n",
    "img = data['x'][:, :, 0]\n",
    "# Apply Non Linear Mapping\n",
    "img = np.sqrt(img)\n",
    "\n",
    "# Computing the channel gradient\n",
    "r_grad, c_grad = np.empty(img.shape).astype('double'), np.empty(img.shape).astype('double')\n",
    "\n",
    "c_grad[:, 0], c_grad[:, -1] = 0, 0\n",
    "r_grad[0, :], r_grad[-1, 0] = 0, 0\n",
    "\n",
    "r_grad[1:-1,] = img[2:, :] - img[:-2, :] \n",
    "c_grad[:, 1:-1] = img[:, 2:] - img[:, :-2]"
   ]
  },
  {
   "cell_type": "code",
   "execution_count": 14,
   "metadata": {},
   "outputs": [
    {
     "data": {
      "text/plain": [
       "(28, 28)"
      ]
     },
     "execution_count": 14,
     "metadata": {},
     "output_type": "execute_result"
    }
   ],
   "source": []
  },
  {
   "cell_type": "code",
   "execution_count": 29,
   "metadata": {},
   "outputs": [],
   "source": [
    "# Calculating m, theta\n",
    "img_magnitude, img_theta = np.empty(img.shape).astype('double'), np.empty(img.shape).astype('double')\n",
    "\n",
    "img_magnitude = np.sqrt(r_grad**2 + c_grad**2)\n",
    "img_theta = np.rad2deg(np.arctan(c_grad/(r_grad+0.00000001))) % 180 # Brings Angle between 0 -> 180 !!"
   ]
  },
  {
   "cell_type": "code",
   "execution_count": 28,
   "metadata": {},
   "outputs": [
    {
     "data": {
      "text/plain": [
       "179.13764175902008"
      ]
     },
     "execution_count": 28,
     "metadata": {},
     "output_type": "execute_result"
    }
   ],
   "source": [
    "np.max(img_theta)"
   ]
  },
  {
   "cell_type": "code",
   "execution_count": null,
   "metadata": {},
   "outputs": [],
   "source": [
    "# Orientation Histogram Computation\n",
    "windowSize = "
   ]
  },
  {
   "cell_type": "code",
   "execution_count": 46,
   "metadata": {},
   "outputs": [],
   "source": [
    "hist_bins = np.arange(10, 180, 20) #np.arange(0, 180, 180/8)"
   ]
  },
  {
   "cell_type": "code",
   "execution_count": 50,
   "metadata": {},
   "outputs": [],
   "source": [
    "# Calculating the HOG histogram - Magnitude, Orientation , Bins\n",
    "HOG_cell_hist = np.zeros(shape=(histogram_bin.size))\n",
    "cell_size = img_theta.shape[0]\n",
    "\n",
    "for r in range(cell_size):\n",
    "    for c in range(cell_size):\n",
    "        curr_direction, curr_magnitude = img_magnitude[r, c], img_theta[r, c]\n",
    "        diff = np.abs(curr_direction - hist_bins)\n",
    "        \n",
    "        if curr_direction < hist_bins[0]:\n",
    "            first_bin_idx = 0\n",
    "            second_bin_idx = hist_bins.size-1\n",
    "        elif curr_direction > hist_bins[-1]:\n",
    "            first_bin_idx = hist_bins.size-1\n",
    "            second_bin_idx = 0\n",
    "        else:\n",
    "            first_bin_idx = numpy.where(diff == numpy.min(diff))[0][0]\n",
    "            temp = hist_bins[[(first_bin_idx-1)%hist_bins.size, (first_bin_idx+1)%hist_bins.size]]\n",
    "            temp2 = numpy.abs(curr_direction - temp)\n",
    "            res = numpy.where(temp2 == numpy.min(temp2))[0][0]\n",
    "            if res == 0 and first_bin_idx != 0:\n",
    "                second_bin_idx = first_bin_idx-1\n",
    "            else:\n",
    "                second_bin_idx = first_bin_idx+1\n",
    "        first_bin_value = hist_bins[first_bin_idx]\n",
    "        second_bin_value = hist_bins[second_bin_idx]\n",
    "        HOG_cell_hist[first_bin_idx] = HOG_cell_hist[first_bin_idx] + (np.abs(curr_direction - first_bin_value)/(180.0/hist_bins.size)) * curr_magnitude\n",
    "        HOG_cell_hist[second_bin_idx] = HOG_cell_hist[second_bin_idx] + (np.abs(curr_direction - second_bin_value)/(180.0/hist_bins.size)) * curr_magnitude\n",
    "\n"
   ]
  },
  {
   "cell_type": "code",
   "execution_count": 51,
   "metadata": {},
   "outputs": [
    {
     "data": {
      "text/plain": [
       "array([  8008.86744964,      0.        ,      0.        ,      0.        ,\n",
       "            0.        ,      0.        ,      0.        ,      0.        ,\n",
       "       145843.59834943])"
      ]
     },
     "execution_count": 51,
     "metadata": {},
     "output_type": "execute_result"
    }
   ],
   "source": [
    "HOG_cell_hist"
   ]
  },
  {
   "cell_type": "code",
   "execution_count": null,
   "metadata": {},
   "outputs": [],
   "source": [
    "normalized_blocks = normalized_blocks.ravel()"
   ]
  },
  {
   "cell_type": "code",
   "execution_count": null,
   "metadata": {},
   "outputs": [],
   "source": []
  },
  {
   "cell_type": "code",
   "execution_count": null,
   "metadata": {},
   "outputs": [],
   "source": []
  },
  {
   "cell_type": "code",
   "execution_count": 53,
   "metadata": {},
   "outputs": [
    {
     "data": {
      "image/png": "[encoded data removed]",
      "text/plain": [
       "<Figure size 432x288 with 1 Axes>"
      ]
     },
     "metadata": {
      "needs_background": "light"
     },
     "output_type": "display_data"
    }
   ],
   "source": [
    "import matplotlib\n",
    "import numpy\n",
    "matplotlib.pyplot.bar(x=numpy.arange(9), height=HOG_cell_hist, align=\"center\", width=0.8)\n",
    "matplotlib.pyplot.show()"
   ]
  },
  {
   "cell_type": "code",
   "execution_count": null,
   "metadata": {},
   "outputs": [],
   "source": []
  }
 ],
 "metadata": {
  "kernelspec": {
   "display_name": "cs682",
   "language": "python",
   "name": "cs682"
  },
  "language_info": {
   "codemirror_mode": {
    "name": "ipython",
    "version": 3
   },
   "file_extension": ".py",
   "mimetype": "text/x-python",
   "name": "python",
   "nbconvert_exporter": "python",
   "pygments_lexer": "ipython3",
   "version": "3.6.9"
  }
 },
 "nbformat": 4,
 "nbformat_minor": 2
}
