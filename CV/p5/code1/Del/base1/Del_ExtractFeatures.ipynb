{
 "cells": [
  {
   "cell_type": "code",
   "execution_count": 9,
   "metadata": {},
   "outputs": [],
   "source": [
    "import numpy as np\n",
    "import utils\n",
    "from utils import loadmat\n",
    "from joblib import Parallel, delayed\n",
    "import multiprocessing"
   ]
  },
  {
   "cell_type": "code",
   "execution_count": 2,
   "metadata": {},
   "outputs": [],
   "source": [
    "def pixelFeatures(x):\n",
    "    return x.reshape(-1)\n",
    "\n",
    "def feature_normalization(patch, type, epsilon=1e-5):\n",
    "    patch = patch.astype('longdouble')\n",
    "    if type == 'Sqrt':\n",
    "        return np.sqrt(patch)\n",
    "    elif type == 'L2-Norm':\n",
    "        return patch / np.sqrt(np.sum(patch ** 2) + epsilon)\n",
    "    else:\n",
    "        return -1\n",
    "    \n",
    "def extract_relevant_window(arr, patch_size, index_i, index_j):\n",
    "    curr_arr = np.zeros((patch_size, patch_size))\n",
    "    for i in range(patch_size):\n",
    "        for j in range(patch_size):\n",
    "            curr_arr[i][j] = arr[index_j*patch_size + i][index_i*patch_size + j]     \n",
    "    return curr_arr\n",
    "\n",
    "def hogFeatures(x):\n",
    "    # Applying Non Linear Mapping\n",
    "    img = np.sqrt(x)\n",
    "\n",
    "    # Computing the channel gradient\n",
    "    r_grad, c_grad = np.empty(img.shape).astype('longdouble'), np.empty(img.shape).astype('longdouble')\n",
    "    \n",
    "    r_grad[1:-1,] = img[2:, :] - img[:-2, :] \n",
    "    c_grad[:, 1:-1] = img[:, 2:] - img[:, :-2]\n",
    "    c_grad[:, 0], c_grad[:, -1] = 0, 0\n",
    "    r_grad[0, :], r_grad[-1, 0] = 0, 0\n",
    "\n",
    "    img_magnitude = np.sqrt(np.power(r_grad, 2) + np.power(c_grad, 2))\n",
    "    img_theta = np.rad2deg(np.arctan(c_grad/(r_grad+0.00000001))) % 180\n",
    "    orientation_bins = 8\n",
    "    patch_size = 4\n",
    "    tot_r, tot_c = img.shape\n",
    "    hog = np.zeros((int(tot_r/patch_size), int(tot_c/patch_size), orientation_bins))\n",
    "    for j in range(int(tot_c/patch_size)):\n",
    "        for i in range(int(tot_r/patch_size)):\n",
    "            # Extract the Current Patch and weight\n",
    "            curr_patch = extract_relevant_window(img_theta, patch_size, i, j)\n",
    "            curr_weight = extract_relevant_window(img_magnitude, patch_size, i, j)\n",
    "            # Applying Histogram calculations\n",
    "            hog[j][i] = np.histogram(np.ndarray.flatten(curr_patch), weights=np.ndarray.flatten(curr_weight), \n",
    "                                     bins=np.linspace(0, 180, num=(orientation_bins+1)))[0]\n",
    "            \n",
    "    hog_norm = feature_normalization(hog, 'L2-Norm')\n",
    "    return hog_norm.ravel()\n",
    "\n",
    "def compute_from_patch(patch):\n",
    "    if patch.shape[0] != 3 and patch.shape[0] != patch.shape[1]:\n",
    "        raise ValueError('Patch Size Mismatch')\n",
    "    patch_sub = patch - np.ravel(patch)[4]\n",
    "    patch_sub[patch_sub>0] = 1\n",
    "    patch_sub[patch_sub<=0] = 0\n",
    "    flattened_patch = np.delete(np.ravel(patch_sub), 4)\n",
    "    return flattened_patch.dot(2**np.arange(flattened_patch.size)[::1])\n",
    "\n",
    "def lbpFeatures(x):\n",
    "    patch_size = 3\n",
    "    img = x\n",
    "    final_img = np.empty((img.shape[0]-(patch_size-1), img.shape[1]-(patch_size-1))).astype('longdouble')\n",
    "    for r in range(0, final_img.shape[0]):\n",
    "        for c in range(0, final_img.shape[1]):\n",
    "            final_img[r][c] = compute_from_patch(img[r:r+patch_size, c:c+patch_size])\n",
    "    return np.histogram(np.ndarray.flatten(final_img), bins=np.linspace(1, 255, num=257))[0]"
   ]
  },
  {
   "cell_type": "code",
   "execution_count": 3,
   "metadata": {},
   "outputs": [],
   "source": [
    "data = utils.loadmat('../data/digits-normal.mat') \n",
    "N = data['x'].shape[2]"
   ]
  },
  {
   "cell_type": "code",
   "execution_count": 5,
   "metadata": {},
   "outputs": [],
   "source": [
    "hog_features = np.empty((N, 392)).astype('longdouble')\n",
    "for X_idx in range(N):\n",
    "    hog_features[X_idx] = hogFeatures(data['x'][:, :, X_idx])"
   ]
  },
  {
   "cell_type": "code",
   "execution_count": 4,
   "metadata": {},
   "outputs": [],
   "source": [
    "pixel_features = np.empty((N, 784)).astype('longdouble')\n",
    "for X_idx in range(N):\n",
    "    pixel_features[X_idx] = pixelFeatures(data['x'][:, :, X_idx])"
   ]
  },
  {
   "cell_type": "code",
   "execution_count": 6,
   "metadata": {},
   "outputs": [],
   "source": [
    "lbp_features = np.empty((N, 256)).astype('longdouble')\n",
    "for X_idx in range(N):\n",
    "    lbp_features[X_idx] = lbpFeatures(data['x'][:, :, X_idx])"
   ]
  },
  {
   "cell_type": "code",
   "execution_count": null,
   "metadata": {},
   "outputs": [],
   "source": [
    "start = time.time()\n",
    "hog_features = np.empty((N, 392)).astype('longdouble')\n",
    "for X_idx in range(N):\n",
    "    hog_features[X_idx] = hogFeatures(data['x'][:, :, X_idx])\n",
    "    \n",
    "pixel_features = np.empty((N, 784)).astype('longdouble')\n",
    "for X_idx in range(N):\n",
    "    pixel_features[X_idx] = pixelFeatures(data['x'][:, :, X_idx])\n",
    "    \n",
    "lbp_features = np.empty((N, 256)).astype('longdouble')\n",
    "for X_idx in range(N):\n",
    "    lbp_features[X_idx] = lbpFeatures(data['x'][:, :, X_idx])\n",
    "\n",
    "end = time.time()\n",
    "print (\"Time Taken = {}\".format(end-start))"
   ]
  },
  {
   "cell_type": "code",
   "execution_count": 7,
   "metadata": {},
   "outputs": [
    {
     "data": {
      "text/plain": [
       "((2000, 392), (2000, 784), (2000, 256))"
      ]
     },
     "execution_count": 7,
     "metadata": {},
     "output_type": "execute_result"
    }
   ],
   "source": [
    "hog_features.shape, pixel_features.shape, lbp_features.shape"
   ]
  },
  {
   "cell_type": "code",
   "execution_count": 8,
   "metadata": {},
   "outputs": [
    {
     "name": "stdout",
     "output_type": "stream",
     "text": [
      "Time Taken = 22.422351837158203\n"
     ]
    }
   ],
   "source": [
    "from joblib import Parallel, delayed\n",
    "import multiprocessing\n",
    "\n",
    "start1 = time.time()\n",
    "N = data['x'].shape[2]\n",
    "pixel_features2 = np.array(Parallel(n_jobs=multiprocessing.cpu_count()) \n",
    "                           (delayed(pixelFeatures)(data['x'][:, :, X_idx]) for X_idx in range(N)))\n",
    "\n",
    "hog_features2 = np.array(Parallel(n_jobs=2) \n",
    "                           (delayed(hogFeatures)(data['x'][:, :, X_idx]) for X_idx in range(N)))\n",
    "\n",
    "lbp_features2 = np.array(Parallel(n_jobs=multiprocessing.cpu_count()) \n",
    "                           (delayed(lbpFeatures)(data['x'][:, :, X_idx]) for X_idx in range(N)))\n",
    "\n",
    "end1 = time.time()\n",
    "print (\"Time Taken = {}\".format(end1-start1))"
   ]
  },
  {
   "cell_type": "code",
   "execution_count": 10,
   "metadata": {},
   "outputs": [
    {
     "data": {
      "text/plain": [
       "((2000, 392), (2000, 784), (2000, 256))"
      ]
     },
     "execution_count": 10,
     "metadata": {},
     "output_type": "execute_result"
    }
   ],
   "source": [
    "hog_features2.shape, pixel_features2.shape, lbp_features2.shape"
   ]
  },
  {
   "cell_type": "code",
   "execution_count": 11,
   "metadata": {},
   "outputs": [],
   "source": [
    "np.testing.assert_almost_equal(pixel_features2, pixel_features)"
   ]
  },
  {
   "cell_type": "code",
   "execution_count": 32,
   "metadata": {},
   "outputs": [
    {
     "ename": "AssertionError",
     "evalue": "\nArrays are not almost equal to 7 decimals\n\nMismatch: 0.765%\nMax absolute difference: 0.00078402\nMax relative difference: 1.48633133e+198\n x: array([[0.0000000e+000, 0.0000000e+000, 0.0000000e+000, 0.0000000e+000,\n        0.0000000e+000, 0.0000000e+000, 0.0000000e+000, 0.0000000e+000,\n        0.0000000e+000, 0.0000000e+000, 0.0000000e+000, 0.0000000e+000,...\n y: array([[0.0000000e+000, 0.0000000e+000, 0.0000000e+000, 0.0000000e+000,\n        0.0000000e+000, 0.0000000e+000, 0.0000000e+000, 0.0000000e+000,\n        0.0000000e+000, 0.0000000e+000, 0.0000000e+000, 0.0000000e+000,...",
     "output_type": "error",
     "traceback": [
      "\u001b[0;31m---------------------------------------------------------------------------\u001b[0m",
      "\u001b[0;31mAssertionError\u001b[0m                            Traceback (most recent call last)",
      "\u001b[0;32m<ipython-input-32-07ef33813200>\u001b[0m in \u001b[0;36m<module>\u001b[0;34m\u001b[0m\n\u001b[1;32m      1\u001b[0m \u001b[0mMAX\u001b[0m \u001b[0;34m=\u001b[0m \u001b[0;36m1\u001b[0m\u001b[0;34m\u001b[0m\u001b[0;34m\u001b[0m\u001b[0m\n\u001b[0;32m----> 2\u001b[0;31m \u001b[0mnp\u001b[0m\u001b[0;34m.\u001b[0m\u001b[0mtesting\u001b[0m\u001b[0;34m.\u001b[0m\u001b[0massert_almost_equal\u001b[0m\u001b[0;34m(\u001b[0m\u001b[0mhog_features2\u001b[0m\u001b[0;34m[\u001b[0m\u001b[0;34m:\u001b[0m\u001b[0mMAX\u001b[0m\u001b[0;34m]\u001b[0m\u001b[0;34m,\u001b[0m \u001b[0mhog_features\u001b[0m\u001b[0;34m[\u001b[0m\u001b[0;34m:\u001b[0m\u001b[0mMAX\u001b[0m\u001b[0;34m]\u001b[0m\u001b[0;34m)\u001b[0m\u001b[0;34m\u001b[0m\u001b[0;34m\u001b[0m\u001b[0m\n\u001b[0m",
      "\u001b[0;32m~/anaconda3/envs/cs682/lib/python3.6/site-packages/numpy/testing/_private/utils.py\u001b[0m in \u001b[0;36massert_almost_equal\u001b[0;34m(actual, desired, decimal, err_msg, verbose)\u001b[0m\n\u001b[1;32m    582\u001b[0m     \u001b[0;32mif\u001b[0m \u001b[0misinstance\u001b[0m\u001b[0;34m(\u001b[0m\u001b[0mactual\u001b[0m\u001b[0;34m,\u001b[0m \u001b[0;34m(\u001b[0m\u001b[0mndarray\u001b[0m\u001b[0;34m,\u001b[0m \u001b[0mtuple\u001b[0m\u001b[0;34m,\u001b[0m \u001b[0mlist\u001b[0m\u001b[0;34m)\u001b[0m\u001b[0;34m)\u001b[0m\u001b[0;31m \u001b[0m\u001b[0;31m\\\u001b[0m\u001b[0;34m\u001b[0m\u001b[0;34m\u001b[0m\u001b[0m\n\u001b[1;32m    583\u001b[0m             \u001b[0;32mor\u001b[0m \u001b[0misinstance\u001b[0m\u001b[0;34m(\u001b[0m\u001b[0mdesired\u001b[0m\u001b[0;34m,\u001b[0m \u001b[0;34m(\u001b[0m\u001b[0mndarray\u001b[0m\u001b[0;34m,\u001b[0m \u001b[0mtuple\u001b[0m\u001b[0;34m,\u001b[0m \u001b[0mlist\u001b[0m\u001b[0;34m)\u001b[0m\u001b[0;34m)\u001b[0m\u001b[0;34m:\u001b[0m\u001b[0;34m\u001b[0m\u001b[0;34m\u001b[0m\u001b[0m\n\u001b[0;32m--> 584\u001b[0;31m         \u001b[0;32mreturn\u001b[0m \u001b[0massert_array_almost_equal\u001b[0m\u001b[0;34m(\u001b[0m\u001b[0mactual\u001b[0m\u001b[0;34m,\u001b[0m \u001b[0mdesired\u001b[0m\u001b[0;34m,\u001b[0m \u001b[0mdecimal\u001b[0m\u001b[0;34m,\u001b[0m \u001b[0merr_msg\u001b[0m\u001b[0;34m)\u001b[0m\u001b[0;34m\u001b[0m\u001b[0;34m\u001b[0m\u001b[0m\n\u001b[0m\u001b[1;32m    585\u001b[0m     \u001b[0;32mtry\u001b[0m\u001b[0;34m:\u001b[0m\u001b[0;34m\u001b[0m\u001b[0;34m\u001b[0m\u001b[0m\n\u001b[1;32m    586\u001b[0m         \u001b[0;31m# If one of desired/actual is not finite, handle it specially here:\u001b[0m\u001b[0;34m\u001b[0m\u001b[0;34m\u001b[0m\u001b[0;34m\u001b[0m\u001b[0m\n",
      "\u001b[0;32m~/anaconda3/envs/cs682/lib/python3.6/site-packages/numpy/testing/_private/utils.py\u001b[0m in \u001b[0;36massert_array_almost_equal\u001b[0;34m(x, y, decimal, err_msg, verbose)\u001b[0m\n\u001b[1;32m   1027\u001b[0m     assert_array_compare(compare, x, y, err_msg=err_msg, verbose=verbose,\n\u001b[1;32m   1028\u001b[0m              \u001b[0mheader\u001b[0m\u001b[0;34m=\u001b[0m\u001b[0;34m(\u001b[0m\u001b[0;34m'Arrays are not almost equal to %d decimals'\u001b[0m \u001b[0;34m%\u001b[0m \u001b[0mdecimal\u001b[0m\u001b[0;34m)\u001b[0m\u001b[0;34m,\u001b[0m\u001b[0;34m\u001b[0m\u001b[0;34m\u001b[0m\u001b[0m\n\u001b[0;32m-> 1029\u001b[0;31m              precision=decimal)\n\u001b[0m\u001b[1;32m   1030\u001b[0m \u001b[0;34m\u001b[0m\u001b[0m\n\u001b[1;32m   1031\u001b[0m \u001b[0;34m\u001b[0m\u001b[0m\n",
      "\u001b[0;32m~/anaconda3/envs/cs682/lib/python3.6/site-packages/numpy/testing/_private/utils.py\u001b[0m in \u001b[0;36massert_array_compare\u001b[0;34m(comparison, x, y, err_msg, verbose, header, precision, equal_nan, equal_inf)\u001b[0m\n\u001b[1;32m    839\u001b[0m                                 \u001b[0mverbose\u001b[0m\u001b[0;34m=\u001b[0m\u001b[0mverbose\u001b[0m\u001b[0;34m,\u001b[0m \u001b[0mheader\u001b[0m\u001b[0;34m=\u001b[0m\u001b[0mheader\u001b[0m\u001b[0;34m,\u001b[0m\u001b[0;34m\u001b[0m\u001b[0;34m\u001b[0m\u001b[0m\n\u001b[1;32m    840\u001b[0m                                 names=('x', 'y'), precision=precision)\n\u001b[0;32m--> 841\u001b[0;31m             \u001b[0;32mraise\u001b[0m \u001b[0mAssertionError\u001b[0m\u001b[0;34m(\u001b[0m\u001b[0mmsg\u001b[0m\u001b[0;34m)\u001b[0m\u001b[0;34m\u001b[0m\u001b[0;34m\u001b[0m\u001b[0m\n\u001b[0m\u001b[1;32m    842\u001b[0m     \u001b[0;32mexcept\u001b[0m \u001b[0mValueError\u001b[0m\u001b[0;34m:\u001b[0m\u001b[0;34m\u001b[0m\u001b[0;34m\u001b[0m\u001b[0m\n\u001b[1;32m    843\u001b[0m         \u001b[0;32mimport\u001b[0m \u001b[0mtraceback\u001b[0m\u001b[0;34m\u001b[0m\u001b[0;34m\u001b[0m\u001b[0m\n",
      "\u001b[0;31mAssertionError\u001b[0m: \nArrays are not almost equal to 7 decimals\n\nMismatch: 0.765%\nMax absolute difference: 0.00078402\nMax relative difference: 1.48633133e+198\n x: array([[0.0000000e+000, 0.0000000e+000, 0.0000000e+000, 0.0000000e+000,\n        0.0000000e+000, 0.0000000e+000, 0.0000000e+000, 0.0000000e+000,\n        0.0000000e+000, 0.0000000e+000, 0.0000000e+000, 0.0000000e+000,...\n y: array([[0.0000000e+000, 0.0000000e+000, 0.0000000e+000, 0.0000000e+000,\n        0.0000000e+000, 0.0000000e+000, 0.0000000e+000, 0.0000000e+000,\n        0.0000000e+000, 0.0000000e+000, 0.0000000e+000, 0.0000000e+000,..."
     ]
    }
   ],
   "source": [
    "MAX = 1\n",
    "np.testing.assert_almost_equal(hog_features2[:MAX], hog_features[:MAX])"
   ]
  },
  {
   "cell_type": "code",
   "execution_count": 12,
   "metadata": {},
   "outputs": [],
   "source": [
    "np.testing.assert_almost_equal(lbp_features2, lbp_features)"
   ]
  },
  {
   "cell_type": "code",
   "execution_count": 33,
   "metadata": {},
   "outputs": [
    {
     "data": {
      "text/plain": [
       "array([0.00000000e+000, 0.00000000e+000, 0.00000000e+000, 0.00000000e+000,\n",
       "       0.00000000e+000, 0.00000000e+000, 0.00000000e+000, 0.00000000e+000,\n",
       "       0.00000000e+000, 0.00000000e+000, 0.00000000e+000, 0.00000000e+000,\n",
       "       0.00000000e+000, 0.00000000e+000, 0.00000000e+000, 0.00000000e+000,\n",
       "       0.00000000e+000, 0.00000000e+000, 0.00000000e+000, 0.00000000e+000,\n",
       "       0.00000000e+000, 0.00000000e+000, 0.00000000e+000, 0.00000000e+000,\n",
       "       0.00000000e+000, 0.00000000e+000, 0.00000000e+000, 0.00000000e+000,\n",
       "       0.00000000e+000, 0.00000000e+000, 0.00000000e+000, 0.00000000e+000,\n",
       "       9.03146362e-307, 0.00000000e+000, 0.00000000e+000, 0.00000000e+000,\n",
       "       0.00000000e+000, 0.00000000e+000, 0.00000000e+000, 0.00000000e+000,\n",
       "       1.79775729e-307, 0.00000000e+000, 0.00000000e+000, 0.00000000e+000,\n",
       "       0.00000000e+000, 0.00000000e+000, 0.00000000e+000, 0.00000000e+000,\n",
       "       0.00000000e+000, 0.00000000e+000, 0.00000000e+000, 0.00000000e+000,\n",
       "       0.00000000e+000, 0.00000000e+000, 0.00000000e+000, 0.00000000e+000,\n",
       "       0.00000000e+000, 0.00000000e+000, 0.00000000e+000, 0.00000000e+000,\n",
       "       0.00000000e+000, 0.00000000e+000, 0.00000000e+000, 0.00000000e+000,\n",
       "       0.00000000e+000, 0.00000000e+000, 0.00000000e+000, 0.00000000e+000,\n",
       "       0.00000000e+000, 0.00000000e+000, 0.00000000e+000, 0.00000000e+000,\n",
       "       0.00000000e+000, 2.21919977e-307, 0.00000000e+000, 0.00000000e+000,\n",
       "       0.00000000e+000, 0.00000000e+000, 0.00000000e+000, 0.00000000e+000,\n",
       "       4.10254719e-307, 2.37967280e-306, 0.00000000e+000, 0.00000000e+000,\n",
       "       0.00000000e+000, 0.00000000e+000, 0.00000000e+000, 0.00000000e+000,\n",
       "       2.19510833e-307, 1.10608194e-306, 9.93002725e-307, 3.45734699e-308,\n",
       "       6.58320504e-308, 0.00000000e+000, 4.02947049e-307, 1.71391026e-307,\n",
       "       4.52992257e-308, 0.00000000e+000, 0.00000000e+000, 2.82771356e-308,\n",
       "       1.25690531e-306, 1.01762269e-306, 9.69771435e-307, 3.45737017e-308,\n",
       "       0.00000000e+000, 0.00000000e+000, 0.00000000e+000, 0.00000000e+000,\n",
       "       0.00000000e+000, 0.00000000e+000, 0.00000000e+000, 0.00000000e+000,\n",
       "       0.00000000e+000, 0.00000000e+000, 0.00000000e+000, 0.00000000e+000,\n",
       "       0.00000000e+000, 0.00000000e+000, 0.00000000e+000, 0.00000000e+000,\n",
       "       0.00000000e+000, 3.00481070e-307, 0.00000000e+000, 0.00000000e+000,\n",
       "       0.00000000e+000, 0.00000000e+000, 0.00000000e+000, 0.00000000e+000,\n",
       "       0.00000000e+000, 1.98905261e-306, 1.58091151e-306, 0.00000000e+000,\n",
       "       5.31755927e-309, 0.00000000e+000, 0.00000000e+000, 5.31755927e-309,\n",
       "       9.81607597e-307, 3.66389340e-307, 4.13906106e-307, 0.00000000e+000,\n",
       "       5.35604835e-307, 0.00000000e+000, 0.00000000e+000, 1.71182034e-307,\n",
       "       2.07043131e-307, 2.56780960e-307, 1.01772081e-306, 5.77901747e-307,\n",
       "       5.25700132e-307, 1.76609218e-307, 0.00000000e+000, 0.00000000e+000,\n",
       "       0.00000000e+000, 0.00000000e+000, 0.00000000e+000, 5.08002997e-307,\n",
       "       2.92065762e-306, 0.00000000e+000, 0.00000000e+000, 0.00000000e+000,\n",
       "       0.00000000e+000, 0.00000000e+000, 0.00000000e+000, 0.00000000e+000,\n",
       "       0.00000000e+000, 0.00000000e+000, 0.00000000e+000, 0.00000000e+000,\n",
       "       0.00000000e+000, 0.00000000e+000, 0.00000000e+000, 0.00000000e+000,\n",
       "       0.00000000e+000, 0.00000000e+000, 0.00000000e+000, 0.00000000e+000,\n",
       "       0.00000000e+000, 0.00000000e+000, 2.33301012e-306, 9.56542712e-307,\n",
       "       0.00000000e+000, 0.00000000e+000, 0.00000000e+000, 0.00000000e+000,\n",
       "       6.25739030e-307, 1.14117531e-306, 1.01392127e-306, 3.86378122e-307,\n",
       "       7.05309806e-307, 0.00000000e+000, 0.00000000e+000, 0.00000000e+000,\n",
       "       3.91307672e-307, 3.50886293e-307, 4.39192288e-307, 2.11031387e-307,\n",
       "       3.34742959e-307, 0.00000000e+000, 2.47078106e-307, 2.50636249e-307,\n",
       "       4.52992257e-308, 7.14273325e-307, 7.22116448e-307, 4.34329204e-307,\n",
       "       3.21911482e-307, 3.87698922e-307, 0.00000000e+000, 0.00000000e+000,\n",
       "       0.00000000e+000, 0.00000000e+000, 0.00000000e+000, 8.36204377e-307,\n",
       "       3.14911817e-306, 0.00000000e+000, 0.00000000e+000, 0.00000000e+000,\n",
       "       0.00000000e+000, 0.00000000e+000, 0.00000000e+000, 0.00000000e+000,\n",
       "       0.00000000e+000, 0.00000000e+000, 0.00000000e+000, 0.00000000e+000,\n",
       "       0.00000000e+000, 0.00000000e+000, 0.00000000e+000, 0.00000000e+000,\n",
       "       0.00000000e+000, 0.00000000e+000, 0.00000000e+000, 0.00000000e+000,\n",
       "       0.00000000e+000, 0.00000000e+000, 4.45312598e-307, 2.06059941e-306,\n",
       "       6.87725921e-307, 0.00000000e+000, 0.00000000e+000, 0.00000000e+000,\n",
       "       5.50831846e-307, 0.00000000e+000, 0.00000000e+000, 7.62668083e-307,\n",
       "       1.58364914e-306, 4.77256957e-307, 0.00000000e+000, 0.00000000e+000,\n",
       "       9.05559575e-307, 4.36262353e-307, 0.00000000e+000, 0.00000000e+000,\n",
       "       0.00000000e+000, 0.00000000e+000, 0.00000000e+000, 0.00000000e+000,\n",
       "       3.06796945e-307, 1.78812235e-306, 1.75863365e-306, 0.00000000e+000,\n",
       "       0.00000000e+000, 0.00000000e+000, 1.54817338e-308, 0.00000000e+000,\n",
       "       0.00000000e+000, 1.00775873e-306, 9.92528538e-307, 1.09421913e-306,\n",
       "       2.34731435e-307, 0.00000000e+000, 0.00000000e+000, 0.00000000e+000,\n",
       "       0.00000000e+000, 0.00000000e+000, 0.00000000e+000, 0.00000000e+000,\n",
       "       0.00000000e+000, 0.00000000e+000, 0.00000000e+000, 0.00000000e+000,\n",
       "       0.00000000e+000, 0.00000000e+000, 0.00000000e+000, 0.00000000e+000,\n",
       "       0.00000000e+000, 0.00000000e+000, 0.00000000e+000, 0.00000000e+000,\n",
       "       1.17690841e-307, 0.00000000e+000, 0.00000000e+000, 1.85395071e-307,\n",
       "       0.00000000e+000, 9.60106654e-307, 1.47294967e-306, 0.00000000e+000,\n",
       "       5.55376365e-307, 0.00000000e+000, 0.00000000e+000, 4.58356875e-308,\n",
       "       0.00000000e+000, 0.00000000e+000, 1.43310844e-306, 1.64158569e-306,\n",
       "       2.38467150e-306, 1.57944058e-306, 5.53431183e-308, 0.00000000e+000,\n",
       "       0.00000000e+000, 0.00000000e+000, 0.00000000e+000, 0.00000000e+000,\n",
       "       4.65637261e-307, 2.54830211e-306, 0.00000000e+000, 3.70926495e-308,\n",
       "       0.00000000e+000, 0.00000000e+000, 0.00000000e+000, 0.00000000e+000,\n",
       "       0.00000000e+000, 0.00000000e+000, 2.00035964e-307, 0.00000000e+000,\n",
       "       0.00000000e+000, 0.00000000e+000, 0.00000000e+000, 0.00000000e+000,\n",
       "       0.00000000e+000, 0.00000000e+000, 0.00000000e+000, 0.00000000e+000,\n",
       "       0.00000000e+000, 0.00000000e+000, 0.00000000e+000, 0.00000000e+000,\n",
       "       7.48751562e-624, 0.00000000e+000, 0.00000000e+000, 0.00000000e+000,\n",
       "       0.00000000e+000, 0.00000000e+000, 0.00000000e+000, 0.00000000e+000,\n",
       "       0.00000000e+000, 0.00000000e+000, 0.00000000e+000, 0.00000000e+000,\n",
       "       0.00000000e+000, 0.00000000e+000, 0.00000000e+000, 0.00000000e+000,\n",
       "       9.09381812e-307, 0.00000000e+000, 0.00000000e+000, 0.00000000e+000,\n",
       "       0.00000000e+000, 0.00000000e+000, 0.00000000e+000, 0.00000000e+000,\n",
       "       7.38622658e-006, 0.00000000e+000, 0.00000000e+000, 0.00000000e+000,\n",
       "       0.00000000e+000, 0.00000000e+000, 0.00000000e+000, 0.00000000e+000,\n",
       "       1.82642288e-501, 0.00000000e+000, 0.00000000e+000, 0.00000000e+000,\n",
       "       0.00000000e+000, 0.00000000e+000, 0.00000000e+000, 0.00000000e+000,\n",
       "       0.00000000e+000, 0.00000000e+000, 0.00000000e+000, 0.00000000e+000,\n",
       "       0.00000000e+000, 0.00000000e+000, 0.00000000e+000, 0.00000000e+000,\n",
       "       1.00000000e+000, 0.00000000e+000, 0.00000000e+000, 0.00000000e+000,\n",
       "       0.00000000e+000, 0.00000000e+000, 0.00000000e+000, 0.00000000e+000],\n",
       "      dtype=float128)"
      ]
     },
     "execution_count": 33,
     "metadata": {},
     "output_type": "execute_result"
    }
   ],
   "source": [
    "hog_features2[1, :]"
   ]
  },
  {
   "cell_type": "code",
   "execution_count": null,
   "metadata": {},
   "outputs": [],
   "source": [
    "# img = data['x'][:, :, 1]\n",
    "# r_grad, c_grad = np.empty(img.shape).astype('longdouble'), np.empty(img.shape).astype('longdouble')"
   ]
  },
  {
   "cell_type": "code",
   "execution_count": null,
   "metadata": {},
   "outputs": [],
   "source": [
    "# inputs = [data['x'][:, :, X_idx] for X_idx in range(N)]\n",
    "# pixel_features = np.Parallel(n_jobs=multiprocessing.cpu_count())(delayed(pixelFeatures)(i) for i in inputs)\n"
   ]
  },
  {
   "cell_type": "code",
   "execution_count": null,
   "metadata": {},
   "outputs": [],
   "source": []
  },
  {
   "cell_type": "code",
   "execution_count": null,
   "metadata": {},
   "outputs": [],
   "source": []
  }
 ],
 "metadata": {
  "kernelspec": {
   "display_name": "cs682",
   "language": "python",
   "name": "cs682"
  },
  "language_info": {
   "codemirror_mode": {
    "name": "ipython",
    "version": 3
   },
   "file_extension": ".py",
   "mimetype": "text/x-python",
   "name": "python",
   "nbconvert_exporter": "python",
   "pygments_lexer": "ipython3",
   "version": "3.6.9"
  }
 },
 "nbformat": 4,
 "nbformat_minor": 2
}
