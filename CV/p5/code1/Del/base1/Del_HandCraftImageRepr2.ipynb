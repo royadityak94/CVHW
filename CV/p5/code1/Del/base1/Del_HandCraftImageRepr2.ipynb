{
 "cells": [
  {
   "cell_type": "code",
   "execution_count": 1,
   "metadata": {},
   "outputs": [],
   "source": [
    "import numpy as np\n",
    "import os\n",
    "import utils\n",
    "import time\n",
    "from utils import loadmat\n",
    "import matplotlib.pyplot as plt\n",
    "%matplotlib inline"
   ]
  },
  {
   "cell_type": "code",
   "execution_count": 156,
   "metadata": {},
   "outputs": [],
   "source": [
    "def feature_normalization(patch, type, epsilon=1e-5):\n",
    "    if type == 'Sqrt':\n",
    "        return np.sqrt(patch)\n",
    "    elif type == 'L2-Norm':\n",
    "        return patch / np.sqrt(np.sum(patch ** 2) + epsilon)\n",
    "    else:\n",
    "        return -1\n",
    "    \n",
    "def extract_relevant_window(arr, patch_size, index_i, index_j):\n",
    "    curr_arr = np.zeros((patch_size, patch_size))\n",
    "    for i in range(patch_size):\n",
    "        for j in range(patch_size):\n",
    "            curr_arr[i][j] = arr[index_j*patch_size + i][index_i*patch_size + j]     \n",
    "    return curr_arr"
   ]
  },
  {
   "cell_type": "code",
   "execution_count": 190,
   "metadata": {},
   "outputs": [],
   "source": [
    "data = utils.loadmat('../data/digits-normal.mat') \n",
    "\n",
    "img = data['x'][:, :, 0]\n",
    "\n",
    "# Applying Non Linear Mapping\n",
    "img = np.sqrt(img)\n",
    "\n",
    "# Computing the channel gradient\n",
    "r_grad, c_grad = np.empty(img.shape).astype('double'), np.empty(img.shape).astype('double')\n",
    "\n",
    "c_grad[:, 0], c_grad[:, -1] = 0, 0\n",
    "r_grad[0, :], r_grad[-1, 0] = 0, 0\n",
    "\n",
    "\n",
    "r_grad[1:-1,] = img[2:, :] - img[:-2, :] \n",
    "c_grad[:, 1:-1] = img[:, 2:] - img[:, :-2]\n",
    "\n",
    "#img_magnitude, img_theta = np.empty(img.shape).astype('double'), np.empty(img.shape).astype('double')\n",
    "img_magnitude = np.sqrt(r_grad**2 + c_grad**2)\n",
    "img_theta = np.rad2deg(np.arctan(c_grad/(r_grad+0.00000001))) % 180 # Brings Angle between 0 -> 180 !!"
   ]
  },
  {
   "cell_type": "code",
   "execution_count": 233,
   "metadata": {},
   "outputs": [],
   "source": [
    "orientation_bins = 8\n",
    "patch_size = 4\n",
    "tot_r, tot_c = img.shape\n",
    "hog = np.zeros((int(tot_r/patch_size), int(tot_c/patch_size), orientation_bins))\n",
    "for j in range(int(tot_c/patch_size)):\n",
    "    for i in range(int(tot_r/patch_size)):\n",
    "        # Extract the Current Patch and weight\n",
    "        curr_patch = extract_relevant_window(img_theta, patch_size, i, j)\n",
    "        curr_weight = extract_relevant_window(img_magnitude, patch_size, i, j)\n",
    "        # Applying Histogram calculations\n",
    "        hog[j][i] = np.histogram(np.ndarray.flatten(curr_patch), weights=np.ndarray.flatten(curr_weight), \n",
    "                                 bins=np.linspace(0, 180, num=(orientation_bins+1)))[0]\n",
    "\n",
    "hog_norm = feature_normalization(hog, 'L2-Norm')\n",
    "normalized_hog = hog_norm.ravel()"
   ]
  },
  {
   "cell_type": "code",
   "execution_count": 219,
   "metadata": {},
   "outputs": [
    {
     "data": {
      "text/plain": [
       "<BarContainer object of 7 artists>"
      ]
     },
     "execution_count": 219,
     "metadata": {},
     "output_type": "execute_result"
    },
    {
     "data": {
      "image/png": "[encoded data removed]",
      "text/plain": [
       "<Figure size 432x288 with 1 Axes>"
      ]
     },
     "metadata": {
      "needs_background": "light"
     },
     "output_type": "display_data"
    }
   ],
   "source": [
    "plt.bar(x=np.arange(7), height=hog[4, :, 0], align=\"center\", width=0.8)"
   ]
  }
 ],
 "metadata": {
  "kernelspec": {
   "display_name": "cs682",
   "language": "python",
   "name": "cs682"
  },
  "language_info": {
   "codemirror_mode": {
    "name": "ipython",
    "version": 3
   },
   "file_extension": ".py",
   "mimetype": "text/x-python",
   "name": "python",
   "nbconvert_exporter": "python",
   "pygments_lexer": "ipython3",
   "version": "3.6.9"
  }
 },
 "nbformat": 4,
 "nbformat_minor": 2
}
