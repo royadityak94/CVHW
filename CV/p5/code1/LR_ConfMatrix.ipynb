{
 "cells": [
  {
   "cell_type": "code",
   "execution_count": 1,
   "metadata": {},
   "outputs": [],
   "source": [
    "import numpy as np\n",
    "import os\n",
    "import utils\n",
    "from extractDigitFeatures import extractDigitFeatures"
   ]
  },
  {
   "cell_type": "code",
   "execution_count": 2,
   "metadata": {},
   "outputs": [],
   "source": [
    "data = utils.loadmat('../data/digits-normal.mat') \n",
    "features = extractDigitFeatures(data['x'], 'hog')\n",
    "#model = trainModel(features[:, data['set']==trainSet], data['y'][data['set']==trainSet])\n",
    "trainSet, testSet = 1, 2\n",
    "param = {}\n",
    "param['lambda'], param['maxiter'], param['eta'] = 0.01, 200,  .01\n",
    "# trainModel : x = features[data['set']==trainSet, :], y = data['y'][data['set']==trainSet]\n",
    "x_train = features[:, data['set']==trainSet]\n",
    "y_train = data['y'][data['set']==trainSet]\n",
    "\n",
    "x_val = features[:, data['set']==3]\n",
    "y_val = data['y'][data['set']==3]\n",
    "\n",
    "x_test = features[:, data['set']==testSet]\n",
    "y_test = data['y'][data['set']==testSet]\n",
    "\n",
    "# multiclassLRTrain : x, y, param\n",
    "classLabels = np.unique(y_train)\n",
    "numClass = classLabels.shape[0]\n",
    "numFeats = x_train.shape[0]\n",
    "numData = x_train.shape[1]\n",
    "\n",
    "# Initialize weights randomly (Implement gradient descent)\n",
    "#model = {}\n",
    "#model['w'] = np.random.randn(numClass, numFeats)*0.01\n",
    "#model['classLabels'] = classLabels"
   ]
  },
  {
   "cell_type": "code",
   "execution_count": 7,
   "metadata": {},
   "outputs": [],
   "source": [
    "class LogisticRegression(object):\n",
    "    def __init__(self, eta, lambda_, maxEpochs, numClass, debug=False, maxTol=10):\n",
    "        self.lr = eta\n",
    "        self.lambda_ = lambda_\n",
    "        self.max_epochs = maxEpochs\n",
    "        self.debug = debug\n",
    "        self.numClass = numClass\n",
    "        self.bias = np.random.uniform(low=-0.01, high=.01)\n",
    "        self.maxTol = maxTol\n",
    "        self.lastAccuracy = -1\n",
    "        \n",
    "    def softmax(self, X):\n",
    "        exp = np.exp(X - np.max(X))\n",
    "        return exp / np.array([np.sum(exp, axis=1)]).T\n",
    "    \n",
    "    def accuracy(self, X, y):\n",
    "        y_pred = np.argmax(self.softmax(np.dot(X.T, self.weights)+self.bias), axis=1)\n",
    "        self.y_pred = y_pred\n",
    "        return np.sum([y_pred[i] == y[i] for i in range(y.size)]) / y.size\n",
    "        \n",
    "    def fit(self, X, y, X_val, y_val):\n",
    "        self.weights = np.random.uniform(low=-0.01, high=.01, size=(X.shape[0], numClass))\n",
    "        y_categorical = np.eye(self.numClass)[y] \n",
    "        curTol = 0\n",
    "        \n",
    "        for itr in range(self.max_epochs):\n",
    "            prediction = self.softmax(np.dot(X.T, self.weights))\n",
    "            error = y_categorical - prediction\n",
    "            gradient = np.dot(X, error)\n",
    "            self.weights += self.lr * (gradient - (self.lambda_ * self.weights ))\n",
    "            self.bias -= self.lr * np.sum(error)\n",
    "            \n",
    "            \n",
    "            curr_accuracy = self.accuracy(X_val, y_val)\n",
    "            if curr_accuracy != self.lastAccuracy:\n",
    "                self.lastAccuracy = curr_accuracy\n",
    "            else:\n",
    "                curTol += 1\n",
    "                if curTol >= self.maxTol:\n",
    "                    return self\n",
    "            if itr % 50 == 0 and self.debug: \n",
    "                print (\"Accuracy = {}\".format(curr_accuracy))        \n",
    "        return self\n",
    "    \n",
    "    def confusion_matrix(self, y):\n",
    "        confusion_matrix = np.zeros((self.numClass, self.numClass))\n",
    "        for itr in range(self.y_pred.size):\n",
    "            confusion_matrix[y_test[itr], self.y_pred[itr]] += 1\n",
    "        return confusion_matrix\n",
    "    \n",
    "    def predict(self, X, y):\n",
    "        accuracy = self.accuracy(X, y)\n",
    "        confusion_matrix = self.confusion_matrix(y)\n",
    "        return accuracy, confusion_matrix\n",
    "        "
   ]
  },
  {
   "cell_type": "code",
   "execution_count": 8,
   "metadata": {},
   "outputs": [
    {
     "name": "stdout",
     "output_type": "stream",
     "text": [
      "0.896\n"
     ]
    }
   ],
   "source": [
    "model = LogisticRegression(param['eta'], param['lambda'], param['maxiter'], numClass)\n",
    "model = model.fit(x_train, y_train, x_val, y_val)\n",
    "accuracy, confusion_mat = model.predict(x_test, y_test)\n",
    "print (accuracy)"
   ]
  },
  {
   "cell_type": "code",
   "execution_count": 6,
   "metadata": {},
   "outputs": [],
   "source": [
    "confusion_mat"
   ]
  },
  {
   "cell_type": "code",
   "execution_count": 9,
   "metadata": {},
   "outputs": [
    {
     "data": {
      "text/plain": [
       "<matplotlib.image.AxesImage at 0x7f61d7862400>"
      ]
     },
     "execution_count": 9,
     "metadata": {},
     "output_type": "execute_result"
    },
    {
     "data": {
      "image/png": "[encoded data removed]",
      "text/plain": [
       "<Figure size 288x288 with 1 Axes>"
      ]
     },
     "metadata": {
      "needs_background": "light"
     },
     "output_type": "display_data"
    }
   ],
   "source": [
    "import matplotlib.pyplot as plt\n",
    "plt.matshow(confusion_mat)"
   ]
  }
 ],
 "metadata": {
  "kernelspec": {
   "display_name": "cs682",
   "language": "python",
   "name": "cs682"
  },
  "language_info": {
   "codemirror_mode": {
    "name": "ipython",
    "version": 3
   },
   "file_extension": ".py",
   "mimetype": "text/x-python",
   "name": "python",
   "nbconvert_exporter": "python",
   "pygments_lexer": "ipython3",
   "version": "3.6.9"
  }
 },
 "nbformat": 4,
 "nbformat_minor": 2
}
