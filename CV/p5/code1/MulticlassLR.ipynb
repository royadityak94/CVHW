{
 "cells": [
  {
   "cell_type": "code",
   "execution_count": 3,
   "metadata": {},
   "outputs": [],
   "source": [
    "import numpy as np\n",
    "import os\n",
    "import utils\n",
    "from extractDigitFeatures import extractDigitFeatures"
   ]
  },
  {
   "cell_type": "code",
   "execution_count": 4,
   "metadata": {},
   "outputs": [],
   "source": [
    "data = utils.loadmat('../data/digits-normal.mat') \n",
    "features = extractDigitFeatures(data['x'], 'hog')\n",
    "#model = trainModel(features[:, data['set']==trainSet], data['y'][data['set']==trainSet])\n",
    "trainSet, testSet = 1, 2\n",
    "param = {}\n",
    "param['lambda'], param['maxiter'], param['eta'] = 0.01, 200,  .01\n",
    "# trainModel : x = features[data['set']==trainSet, :], y = data['y'][data['set']==trainSet]\n",
    "x = features[:, data['set']==trainSet]\n",
    "y = data['y'][data['set']==trainSet]\n",
    "# multiclassLRTrain : x, y, param\n",
    "classLabels = np.unique(y)\n",
    "numClass = classLabels.shape[0]\n",
    "numFeats = x.shape[0]\n",
    "numData = x.shape[1]\n",
    "\n",
    "# Initialize weights randomly (Implement gradient descent)\n",
    "#model = {}\n",
    "#model['w'] = np.random.randn(numClass, numFeats)*0.01\n",
    "#model['classLabels'] = classLabels"
   ]
  },
  {
   "cell_type": "code",
   "execution_count": 67,
   "metadata": {},
   "outputs": [],
   "source": [
    "def sigmoid(train, weight):\n",
    "    z = np.dot(train, weight.T)\n",
    "    return 1 / (1 + np.exp(-z))\n",
    "\n",
    "def loss(h, y):\n",
    "    return ((-y * np.log(h)) - ((1 - y) * np.log(1 - h))).mean()"
   ]
  },
  {
   "cell_type": "code",
   "execution_count": 84,
   "metadata": {},
   "outputs": [],
   "source": [
    "def predict(X,theta):\n",
    "    threshold = 0.5\n",
    "    outcome = []\n",
    "    result = sigmoid(X,theta)\n",
    "    for i in range(X.shape[0]):\n",
    "        if result[i] <= threshold:\n",
    "            outcome.append(0)\n",
    "        else:\n",
    "            outcome.append(1)\n",
    "    return outcome"
   ]
  },
  {
   "cell_type": "code",
   "execution_count": 83,
   "metadata": {},
   "outputs": [
    {
     "name": "stdout",
     "output_type": "stream",
     "text": [
      "loss: -17.051420641774655 \t\n",
      "loss: 98.49826033482944 \t\n",
      "loss: 209.25235376873326 \t\n",
      "loss: 316.3050348203452 \t\n"
     ]
    }
   ],
   "source": [
    "# Implementing gradient descent\n",
    "weight = np.zeros(x.shape[0])\n",
    "for itr in range(200): #param.get('maxiter')\n",
    "    h = sigmoid(x.T, weight)\n",
    "    gradient = np.dot(x, (h-y))/y.size\n",
    "    weight -= param.get('eta') * gradient\n",
    "    \n",
    "    if(itr % 50 == 0):\n",
    "        #z = np.dot(x.T, weight)\n",
    "        #h = sigmoid(z)\n",
    "        h_ = sigmoid(x.T, weight)\n",
    "        print(f'loss: {loss(h, y)} \\t')"
   ]
  },
  {
   "cell_type": "code",
   "execution_count": 87,
   "metadata": {},
   "outputs": [],
   "source": [
    "outcome = predict(x.T, weight)"
   ]
  },
  {
   "cell_type": "code",
   "execution_count": 35,
   "metadata": {},
   "outputs": [],
   "source": [
    "def predict(x, weight):\n",
    "    threshold = 0.5\n",
    "    outcome = []\n",
    "    result = sigmoid(X,theta)\n",
    "    for i in range(X.shape[0]):\n",
    "        if result[i] <= threshold:\n",
    "            outcome.append(0)\n",
    "        else:\n",
    "            outcome.append(1)\n",
    "    return outcome"
   ]
  },
  {
   "cell_type": "code",
   "execution_count": 10,
   "metadata": {},
   "outputs": [
    {
     "data": {
      "text/plain": [
       "200"
      ]
     },
     "execution_count": 10,
     "metadata": {},
     "output_type": "execute_result"
    }
   ],
   "source": [
    "param.get('maxiter')"
   ]
  },
  {
   "cell_type": "code",
   "execution_count": null,
   "metadata": {},
   "outputs": [],
   "source": []
  },
  {
   "cell_type": "code",
   "execution_count": null,
   "metadata": {},
   "outputs": [],
   "source": [
    "class LogisticRegression:\n",
    "    def __init__(self, lr=0.01, num_iter=100000, fit_intercept=True, verbose=False):\n",
    "        self.lr = lr\n",
    "        self.num_iter = num_iter\n",
    "        self.fit_intercept = fit_intercept\n",
    "    \n",
    "    def __add_intercept(self, X):\n",
    "        intercept = np.ones((X.shape[0], 1))\n",
    "        return np.concatenate((intercept, X), axis=1)\n",
    "    \n",
    "    def __sigmoid(self, z):\n",
    "        return 1 / (1 + np.exp(-z))\n",
    "    def __loss(self, h, y):\n",
    "        return (-y * np.log(h) - (1 - y) * np.log(1 - h)).mean()\n",
    "    \n",
    "    def fit(self, X, y):\n",
    "        if self.fit_intercept:\n",
    "            X = self.__add_intercept(X)\n",
    "        \n",
    "        # weights initialization\n",
    "        self.theta = np.zeros(X.shape[1])\n",
    "        \n",
    "        for i in range(self.num_iter):\n",
    "            z = np.dot(X, self.theta)\n",
    "            h = self.__sigmoid(z)\n",
    "            gradient = np.dot(X.T, (h - y)) / y.size\n",
    "            self.theta -= self.lr * gradient\n",
    "            \n",
    "            if(self.verbose == True and i % 10000 == 0):\n",
    "                z = np.dot(X, self.theta)\n",
    "                h = self.__sigmoid(z)\n",
    "                print(f'loss: {self.__loss(h, y)} \\t')\n",
    "    \n",
    "    def predict_prob(self, X):\n",
    "        if self.fit_intercept:\n",
    "            X = self.__add_intercept(X)\n",
    "    \n",
    "        return self.__sigmoid(np.dot(X, self.theta))\n",
    "    \n",
    "    def predict(self, X, threshold):\n",
    "        return self.predict_prob(X) >= threshold"
   ]
  },
  {
   "cell_type": "code",
   "execution_count": null,
   "metadata": {},
   "outputs": [],
   "source": []
  },
  {
   "cell_type": "code",
   "execution_count": null,
   "metadata": {},
   "outputs": [],
   "source": [
    "# # Test the model\n",
    "# ypred = evaluateModel(model, features[:, data['set']==testSet])\n",
    "# y = data['y'][data['set']==testSet]\n",
    "# Evaluate Model - model, features[:, data['set']==testSet], Return: y, Fwd:multiclassLRPredict \n",
    "# multiclassLRPredict = model, x, Return: ypred"
   ]
  },
  {
   "cell_type": "code",
   "execution_count": 14,
   "metadata": {},
   "outputs": [],
   "source": [
    "test_set = features[:, data['set']==testSet]"
   ]
  },
  {
   "cell_type": "code",
   "execution_count": 15,
   "metadata": {},
   "outputs": [
    {
     "data": {
      "text/plain": [
       "(392, 500)"
      ]
     },
     "execution_count": 15,
     "metadata": {},
     "output_type": "execute_result"
    }
   ],
   "source": [
    "test_set.shape"
   ]
  },
  {
   "cell_type": "code",
   "execution_count": null,
   "metadata": {},
   "outputs": [],
   "source": [
    "# Implementing gradient descent\n",
    "weight = np.zeros(x.shape[0])\n",
    "for itr in range(1): #param.get('maxiter')\n",
    "    h = sigmoid(x.T, weight)\n",
    "#     z = np.dot(x, weight.T)\n",
    "#     h = sigmoid(z, weight)\n",
    "#     gradient = np.dot(x, (h-y))/y.size\n",
    "#     weight -= param.get('eta') * gradient\n",
    "    \n",
    "#     if(itr % 50 == 0):\n",
    "#         z = np.dot(x.T, weight)\n",
    "#         h = sigmoid(z)\n",
    "#         print(f'loss: {loss(h, y)} \\t')"
   ]
  },
  {
   "cell_type": "code",
   "execution_count": null,
   "metadata": {},
   "outputs": [],
   "source": []
  }
 ],
 "metadata": {
  "kernelspec": {
   "display_name": "cs682",
   "language": "python",
   "name": "cs682"
  },
  "language_info": {
   "codemirror_mode": {
    "name": "ipython",
    "version": 3
   },
   "file_extension": ".py",
   "mimetype": "text/x-python",
   "name": "python",
   "nbconvert_exporter": "python",
   "pygments_lexer": "ipython3",
   "version": "3.6.9"
  }
 },
 "nbformat": 4,
 "nbformat_minor": 2
}
