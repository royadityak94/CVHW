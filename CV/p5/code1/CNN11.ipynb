{
 "cells": [
  {
   "cell_type": "code",
   "execution_count": 8,
   "metadata": {},
   "outputs": [],
   "source": [
    "import numpy as np\n",
    "import utils\n",
    "from utils import loadmat\n",
    "from extractDigitFeatures import extractDigitFeatures\n",
    "import tensorflow as tf\n",
    "from tensorflow.keras.models import Sequential\n",
    "from tensorflow.keras.layers import Dense, Dropout, Conv2D, Conv3D, Flatten, MaxPool2D, AveragePooling2D, BatchNormalization\n",
    "from tensorflow.keras.optimizers import SGD\n",
    "from tensorflow.keras.utils import to_categorical\n",
    "from tensorflow.keras.callbacks import CSVLogger\n",
    "from tensorflow.python.keras import metrics\n",
    "from keras import regularizers\n",
    "from keras.constraints import unit_norm\n",
    "from sklearn.model_selection import StratifiedKFold"
   ]
  },
  {
   "cell_type": "code",
   "execution_count": 9,
   "metadata": {},
   "outputs": [],
   "source": [
    "def model_extractor(activation_func='relu', weight_decay=1e-4):\n",
    "    # Creating an AlexNet Classifier\n",
    "    model = Sequential()\n",
    "\n",
    "    #Instantiating Layer 1\n",
    "    model.add(Conv2D(48, kernel_size=(3, 3), strides=(1, 1), activation=activation_func, padding='valid', \n",
    "                    kernel_constraint=unit_norm(), kernel_regularizer=regularizers.l2(weight_decay)))\n",
    "    model.add(MaxPool2D(pool_size=(2, 2), strides=(2, 2)))\n",
    "\n",
    "    # #Instantiating Layer 2\n",
    "    model.add(Conv2D(96, kernel_size=(3, 3), strides=(1, 1), activation=activation_func, padding='same', \n",
    "                    kernel_regularizer=regularizers.l2(weight_decay)))\n",
    "    model.add(MaxPool2D(pool_size=(2, 2), strides=(2, 2)))\n",
    "    model.add(BatchNormalization())\n",
    "    # #Instantiating Layer 3\n",
    "    model.add(Conv2D(192, kernel_size=(3, 3), strides=(1, 1), activation=activation_func, padding='same',\n",
    "                    kernel_regularizer=regularizers.l2(weight_decay)))\n",
    "    model.add(BatchNormalization())\n",
    "\n",
    "    # #Instantiating Layer 4\n",
    "    model.add(Conv2D(192, kernel_size=(3, 3), strides=(1, 1), activation=activation_func, padding='same', \n",
    "                    kernel_regularizer=regularizers.l2(weight_decay)))\n",
    "    model.add(MaxPool2D(pool_size=(2, 2), strides=(2, 2)))\n",
    "    model.add(BatchNormalization())\n",
    "\n",
    "    # #Instantiating Layer 5\n",
    "    model.add(Conv2D(256, kernel_size=(3, 3), strides=(1, 1), activation=activation_func, padding='same', \n",
    "                    kernel_regularizer=regularizers.l2(weight_decay)))\n",
    "    model.add(MaxPool2D(pool_size=(2, 2), strides=(2, 2)))\n",
    "    model.add(BatchNormalization())\n",
    "    model.add(Flatten())\n",
    "\n",
    "    #Instantiating Layer 6\n",
    "    model.add(Dense(512, activation=activation_func)) \n",
    "\n",
    "    # #Instantiating Layer 8\n",
    "    model.add(Dense(256, activation=activation_func))\n",
    "\n",
    "    #Output Layer\n",
    "    model.add(Dense(10, activation='softmax'))\n",
    "    return model"
   ]
  },
  {
   "cell_type": "code",
   "execution_count": 12,
   "metadata": {},
   "outputs": [],
   "source": [
    "def return_datasets(filename):\n",
    "    data = utils.loadmat('../data/{}'.format(filename))\n",
    "    trainSet, testSet, valSet = 1, 2, 3\n",
    "    \n",
    "    x_train = reformat(data['x'][:, :, data['set']==trainSet ])\n",
    "    y_train = (data['y'][data['set']==trainSet])\n",
    "    x_val = reformat(data['x'][:, :, data['set']==valSet])\n",
    "    y_val = (data['y'][data['set']==valSet])\n",
    "    x_test = reformat(data['x'][:, :, data['set']==testSet])\n",
    "    y_test = (data['y'][data['set']==testSet])\n",
    "    X = np.vstack([x_train, x_val])\n",
    "    Y = np.vstack([y_train[:, np.newaxis], y_val[:, np.newaxis]])\n",
    "    \n",
    "    return (X, Y, x_test, y_test)"
   ]
  },
  {
   "cell_type": "code",
   "execution_count": 13,
   "metadata": {},
   "outputs": [],
   "source": [
    "def reformat(x):\n",
    "    new_x = np.zeros((x.shape[2], x.shape[0], x.shape[1]))\n",
    "    for i in range(x.shape[2]):\n",
    "        new_x[i, :] = x[:, :, i]\n",
    "    return new_x[:, :, :, np.newaxis]\n",
    "\n",
    "filename = 'digits-normal.mat'\n",
    "data = utils.loadmat('../data/{}'.format(filename))\n",
    "trainSet, testSet, valSet = 1, 2, 3\n",
    "\n",
    "x_train = reformat(data['x'][:, :, data['set']==trainSet ])\n",
    "y_train = (data['y'][data['set']==trainSet])\n",
    "x_val = reformat(data['x'][:, :, data['set']==valSet])\n",
    "y_val = (data['y'][data['set']==valSet])\n",
    "x_test = reformat(data['x'][:, :, data['set']==testSet])\n",
    "y_test = (data['y'][data['set']==testSet])"
   ]
  },
  {
   "cell_type": "code",
   "execution_count": 14,
   "metadata": {},
   "outputs": [
    {
     "name": "stdout",
     "output_type": "stream",
     "text": [
      "Accuracy = 0.30000001192092896\n",
      "Accuracy = 0.0\n",
      "Accuracy = 0.0\n",
      "Accuracy = 0.0\n",
      "Accuracy = 0.0\n",
      "Accuracy = 0.0\n",
      "Accuracy = 1.0\n",
      "Test Set Accuracy for digits-normal.mat = [90010.33515958977, 1.0]\n"
     ]
    }
   ],
   "source": [
    "files = [ 'digits-normal.mat'] #'digits-jitter.mat', 'digits-normal.mat',\n",
    "for file in files:\n",
    "    X, Y, x_test, y_test = return_datasets(file)\n",
    "    kfold = StratifiedKFold(n_splits=10, shuffle=True, random_state=42)\n",
    "    \n",
    "    best_model, best_accuracy = -1, 0\n",
    "    for train, test in kfold.split(X, Y):\n",
    "        model = model_extractor('relu')\n",
    "        model.compile(loss=\"categorical_crossentropy\", optimizer='Adam', metrics=[\"accuracy\"])\n",
    "        model.fit(X[train], Y[train], epochs=15, batch_size=200, verbose=0)\n",
    "        scores = model.evaluate(X[test], Y[test], batch_size=int(Y[test].size/5), verbose=0)\n",
    "        print (\"Accuracy = {}\".format(scores[1]))\n",
    "        if scores[1] > best_accuracy:\n",
    "            best_accuracy = scores[1]\n",
    "            best_model = model\n",
    "\n",
    "        if best_accuracy > .99:\n",
    "            break    \n",
    "    \n",
    "    print (\"Test Set Accuracy for {} = {}\".format(file, best_model.evaluate(x_test, y_test, verbose=0)))"
   ]
  },
  {
   "cell_type": "code",
   "execution_count": null,
   "metadata": {},
   "outputs": [],
   "source": []
  },
  {
   "cell_type": "code",
   "execution_count": null,
   "metadata": {},
   "outputs": [],
   "source": []
  },
  {
   "cell_type": "code",
   "execution_count": null,
   "metadata": {},
   "outputs": [],
   "source": []
  },
  {
   "cell_type": "code",
   "execution_count": null,
   "metadata": {},
   "outputs": [],
   "source": []
  },
  {
   "cell_type": "code",
   "execution_count": 5,
   "metadata": {},
   "outputs": [
    {
     "name": "stdout",
     "output_type": "stream",
     "text": [
      "Train on 1000 samples\n",
      "Epoch 1/15\n",
      "1000/1000 [==============================] - 3s 3ms/sample - loss: 118.0106 - accuracy: 0.2490\n",
      "Epoch 2/15\n",
      "1000/1000 [==============================] - 1s 641us/sample - loss: 223.0190 - accuracy: 0.0250\n",
      "Epoch 3/15\n",
      "1000/1000 [==============================] - 1s 641us/sample - loss: 583.8148 - accuracy: 0.0010\n",
      "Epoch 4/15\n",
      "1000/1000 [==============================] - 1s 646us/sample - loss: 1363.4847 - accuracy: 0.0000e+00\n",
      "Epoch 5/15\n",
      "1000/1000 [==============================] - 1s 641us/sample - loss: 2660.8882 - accuracy: 0.0000e+00\n",
      "Epoch 6/15\n",
      "1000/1000 [==============================] - 1s 715us/sample - loss: 4616.6646 - accuracy: 0.0000e+00\n",
      "Epoch 7/15\n",
      "1000/1000 [==============================] - 1s 937us/sample - loss: 7352.0074 - accuracy: 0.0000e+00\n",
      "Epoch 8/15\n",
      "1000/1000 [==============================] - 1s 1ms/sample - loss: 10976.8391 - accuracy: 0.0000e+00\n",
      "Epoch 9/15\n",
      "1000/1000 [==============================] - 1s 1ms/sample - loss: 15628.9297 - accuracy: 0.0000e+00\n",
      "Epoch 10/15\n",
      "1000/1000 [==============================] - 1s 1ms/sample - loss: 21335.6836 - accuracy: 0.0000e+00\n",
      "Epoch 11/15\n",
      "1000/1000 [==============================] - 1s 1ms/sample - loss: 28275.3801 - accuracy: 0.0000e+00\n",
      "Epoch 12/15\n",
      "1000/1000 [==============================] - 1s 1ms/sample - loss: 36718.5758 - accuracy: 0.0000e+00\n",
      "Epoch 13/15\n",
      "1000/1000 [==============================] - 1s 1ms/sample - loss: 46504.9375 - accuracy: 0.0000e+00\n",
      "Epoch 14/15\n",
      "1000/1000 [==============================] - 1s 1ms/sample - loss: 58039.3945 - accuracy: 0.0000e+00\n",
      "Epoch 15/15\n",
      "1000/1000 [==============================] - 1s 974us/sample - loss: 70940.9883 - accuracy: 0.0000e+00\n"
     ]
    },
    {
     "data": {
      "text/plain": [
       "<tensorflow.python.keras.callbacks.History at 0x7f33e23b4d68>"
      ]
     },
     "execution_count": 5,
     "metadata": {},
     "output_type": "execute_result"
    }
   ],
   "source": [
    "model = model_extractor('relu')\n",
    "model.compile(loss=\"categorical_crossentropy\", optimizer='Adam', validation_data=(x_val, y_val), metrics=[\"accuracy\"])\n",
    "model.fit(x_train, y_train, epochs=15, batch_size=200)\n",
    "#accuracy = model.evaluate(X[test], Y[test], batch_size=int(Y[test].size/5), verbose=0)[1]"
   ]
  },
  {
   "cell_type": "code",
   "execution_count": null,
   "metadata": {},
   "outputs": [],
   "source": []
  },
  {
   "cell_type": "code",
   "execution_count": 6,
   "metadata": {},
   "outputs": [
    {
     "name": "stdout",
     "output_type": "stream",
     "text": [
      "denoising\n",
      "digits-jitter.mat\n",
      "digits-normal.mat\n",
      "digits-scaled.mat\n"
     ]
    }
   ],
   "source": [
    "%%bash \n",
    "ls ../data/"
   ]
  },
  {
   "cell_type": "code",
   "execution_count": null,
   "metadata": {},
   "outputs": [],
   "source": []
  },
  {
   "cell_type": "code",
   "execution_count": null,
   "metadata": {},
   "outputs": [],
   "source": []
  },
  {
   "cell_type": "code",
   "execution_count": null,
   "metadata": {},
   "outputs": [],
   "source": []
  }
 ],
 "metadata": {
  "kernelspec": {
   "display_name": "cs682",
   "language": "python",
   "name": "cs682"
  },
  "language_info": {
   "codemirror_mode": {
    "name": "ipython",
    "version": 3
   },
   "file_extension": ".py",
   "mimetype": "text/x-python",
   "name": "python",
   "nbconvert_exporter": "python",
   "pygments_lexer": "ipython3",
   "version": "3.6.9"
  }
 },
 "nbformat": 4,
 "nbformat_minor": 2
}
