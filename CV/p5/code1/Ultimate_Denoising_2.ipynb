{
 "cells": [
  {
   "cell_type": "code",
   "execution_count": 1,
   "metadata": {},
   "outputs": [],
   "source": [
    "import os\n",
    "import time\n",
    "import numpy as np\n",
    "import matplotlib.pyplot as plt \n",
    "import sys\n",
    "import torch\n",
    "import torch.optim as optim\n",
    "import torch.nn as nn\n",
    "from dip import EncDec\n",
    "from utils import imread\n",
    "\n",
    "import numpy as np\n",
    "import torch\n",
    "import torch.nn as nn\n",
    "import torch.nn.functional as F"
   ]
  },
  {
   "cell_type": "code",
   "execution_count": 2,
   "metadata": {},
   "outputs": [],
   "source": [
    "class EncDec(nn.Module):\n",
    "    def __init__(self):\n",
    "        super(EncDec, self).__init__()\n",
    "        self.bn16 = nn.BatchNorm2d(16)\n",
    "        self.bn32 = nn.BatchNorm2d(32)\n",
    "        self.bn64 = nn.BatchNorm2d(64)\n",
    "        self.bn128 = nn.BatchNorm2d(128)\n",
    "        self.bn256 = nn.BatchNorm2d(256)\n",
    "        \n",
    "        self.conv1 = nn.Conv2d(1, 16, 3, 2, 1) # Encoder - 1\n",
    "        self.conv2 = nn.Conv2d(16, 32, 3, 2, 1) # Encoder - 2\n",
    "        self.conv3 = nn.Conv2d(32, 64, 3, 2, 1) # Encoder - 3 \n",
    "        self.upsample = nn.Upsample(scale_factor=2, mode='bilinear') #, align_corners=True\n",
    "        self.conv3_t = nn.Conv2d(64, 64, 3, 1, 1) # Decoder - 3\n",
    "        self.conv2_t = nn.Conv2d(64, 32, 3, 1, 1) # Decoder - 2\n",
    "        self.conv1_t = nn.Conv2d(32, 16, 3, 1, 1) # Decoder - 1\n",
    "        self.conv0_t = nn.Conv2d(16, 1, 3, 1, 1) # Final Decoder\n",
    "        \n",
    "    def forward(self, x):\n",
    "        out = self.bn16(F.relu(self.conv1(x)))\n",
    "        out = self.bn32(F.relu(self.conv2(out)))\n",
    "        out = self.bn64(F.relu(self.conv3(out)))\n",
    "        out = self.upsample(self.bn64(F.relu(self.conv3_t(out))))\n",
    "        out = self.upsample(self.bn32(F.relu(self.conv2_t(out))))\n",
    "        out = self.upsample(self.bn16(F.relu(self.conv1_t(out))))\n",
    "        out = torch.tanh(self.conv0_t(out))\n",
    "        return out"
   ]
  },
  {
   "cell_type": "code",
   "execution_count": 3,
   "metadata": {},
   "outputs": [],
   "source": [
    "def get_run_accuracy(noisy_img, clean_img, file, lr, MAX_EPOCHS):\n",
    "    net = EncDec()\n",
    "    criterion, optimizer = nn.MSELoss(), optim.Adam(net.parameters(), lr=0.001)\n",
    "    eta = torch.randn(*noisy_img.size())\n",
    "    training_error, testing_error, runtime_stats = np.zeros((MAX_EPOCHS)), np.zeros((MAX_EPOCHS)), {}\n",
    "    \n",
    "    for itr in range(MAX_EPOCHS):\n",
    "        out = net(eta)\n",
    "        optimizer.zero_grad()\n",
    "        loss = criterion(out, clean_img)\n",
    "        loss.backward()\n",
    "        optimizer.step()\n",
    "        op_img = out[0, 0, :, :].transpose(0,1).detach().numpy()\n",
    "        noise_img = net(noisy_img)[0, 0, :, :].transpose(0,1).detach().numpy()\n",
    "        \n",
    "        training_error[itr] = ((noise_img - op_img)**2).sum()\n",
    "        testing_error[itr] = ((im - op_img)**2).sum()\n",
    "    \n",
    "    runtime_stats['{}_train'.format(file)], runtime_stats['{}_test'.format(file)] = training_error, testing_error\n",
    "    runtime_stats['model'] = net\n",
    "    runtime_stats['eta'] = eta\n",
    "    return runtime_stats\n",
    "\n",
    "def cross_validated_best_accuracy(noisy_img, clean_img, file, lr, MAX_EPOCHS, MAX_TRIAL, DESIRED_LOSS=-1):\n",
    "    best_loss, best_stats = 1e5, -1\n",
    "    for trial in range(MAX_TRIAL):\n",
    "        collect_stats = get_run_accuracy(noisy_img, clean_img, file, lr, MAX_EPOCHS)\n",
    "        print (\"Current Loss = {}\".format(collect_stats['%s_test' % file][-1]))\n",
    "        if collect_stats['%s_test' % file][-1] < best_loss:\n",
    "            best_loss, best_stats = collect_stats['%s_test' % file][-1], collect_stats\n",
    "            #print (\"Current Best Loss = {}\".format(best_loss))  \n",
    "            \n",
    "        # Early stopping at desired value\n",
    "        if DESIRED_LOSS != -1 and best_loss < DESIRED_LOSS:\n",
    "            return best_stats\n",
    "    return best_stats"
   ]
  },
  {
   "cell_type": "code",
   "execution_count": 4,
   "metadata": {},
   "outputs": [
    {
     "name": "stderr",
     "output_type": "stream",
     "text": [
      "/home/ec2-user/anaconda3/envs/cs682/lib/python3.6/site-packages/torch/nn/functional.py:2479: UserWarning: Default upsampling behavior when mode=bilinear is changed to align_corners=False since 0.4.0. Please specify align_corners=True if the old behavior is desired. See the documentation of nn.Upsample for details.\n",
      "  \"See the documentation of nn.Upsample for details.\".format(mode))\n"
     ]
    },
    {
     "name": "stdout",
     "output_type": "stream",
     "text": [
      "Current Loss = 50.872684290657546\n",
      "Current Loss = 6.909376523705772\n"
     ]
    }
   ],
   "source": [
    "# Finding best accuracy by cross validation\n",
    "MAX_TRIAL = 1 # Maximum trial\n",
    "MAX_EPOCHS = 5000\n",
    "lr = 0.01\n",
    "files = ['lena', 'saturn']\n",
    "map = {}\n",
    "for file in files:\n",
    "    im = imread('../data/denoising/{}.png'.format(file))\n",
    "    noise = imread('../data/denoising/{}-noisy.png'.format(file))\n",
    "    noisy_img = torch.FloatTensor(noise).unsqueeze(0).unsqueeze(0).transpose(2, 3)\n",
    "    clean_img = torch.FloatTensor(im).unsqueeze(0).unsqueeze(0).transpose(2,3)\n",
    "    \n",
    "    get_best_model = cross_validated_best_accuracy(noisy_img, clean_img, file, lr, MAX_EPOCHS, MAX_TRIAL, -1) \n",
    "    map[file] = get_best_model\n",
    "    \n",
    "#     net = get_best_model['model']\n",
    "#     out_img = net(get_best_model['eta'])[0, 0, :, :].transpose(0,1).detach().numpy()\n",
    "#     error = ((im - out_img)**2).sum()\n",
    "\n",
    "#     plt.title(\"Error = %.4f\" % error)\n",
    "#     plt.imshow(out_img)\n",
    "#     #plt.show()\n",
    "#     plt.savefig('../data/output/denoise/{}.png'.format(file))"
   ]
  },
  {
   "cell_type": "code",
   "execution_count": 9,
   "metadata": {},
   "outputs": [
    {
     "data": {
      "text/plain": [
       "[<matplotlib.lines.Line2D at 0x7f293e8db278>]"
      ]
     },
     "execution_count": 9,
     "metadata": {},
     "output_type": "execute_result"
    },
    {
     "data": {
      "image/png": "[encoded data removed]",
      "text/plain": [
       "<Figure size 432x288 with 1 Axes>"
      ]
     },
     "metadata": {
      "needs_background": "light"
     },
     "output_type": "display_data"
    }
   ],
   "source": [
    "plt.plot(map['saturn']['saturn_train'])"
   ]
  },
  {
   "cell_type": "code",
   "execution_count": 10,
   "metadata": {},
   "outputs": [
    {
     "data": {
      "text/plain": [
       "[<matplotlib.lines.Line2D at 0x7f293e5bb908>]"
      ]
     },
     "execution_count": 10,
     "metadata": {},
     "output_type": "execute_result"
    },
    {
     "data": {
      "image/png": "[encoded data removed]",
      "text/plain": [
       "<Figure size 432x288 with 1 Axes>"
      ]
     },
     "metadata": {
      "needs_background": "light"
     },
     "output_type": "display_data"
    }
   ],
   "source": [
    "plt.plot(map['lena']['lena_train'])"
   ]
  }
 ],
 "metadata": {
  "kernelspec": {
   "display_name": "cs682",
   "language": "python",
   "name": "cs682"
  },
  "language_info": {
   "codemirror_mode": {
    "name": "ipython",
    "version": 3
   },
   "file_extension": ".py",
   "mimetype": "text/x-python",
   "name": "python",
   "nbconvert_exporter": "python",
   "pygments_lexer": "ipython3",
   "version": "3.6.9"
  }
 },
 "nbformat": 4,
 "nbformat_minor": 2
}
