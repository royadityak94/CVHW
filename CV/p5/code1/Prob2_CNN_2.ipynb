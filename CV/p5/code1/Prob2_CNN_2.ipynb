{
 "cells": [
  {
   "cell_type": "code",
   "execution_count": 3,
   "metadata": {},
   "outputs": [
    {
     "name": "stderr",
     "output_type": "stream",
     "text": [
      "Using TensorFlow backend.\n"
     ]
    }
   ],
   "source": [
    "import numpy as np\n",
    "import utils\n",
    "from utils import loadmat\n",
    "from extractDigitFeatures import extractDigitFeatures\n",
    "import tensorflow as tf\n",
    "from tensorflow.keras.models import Sequential\n",
    "from tensorflow.keras.layers import Dense, Dropout, Conv2D, Conv3D, Flatten, MaxPool2D, AveragePooling2D, BatchNormalization\n",
    "from tensorflow.keras.optimizers import SGD\n",
    "from tensorflow.keras.utils import to_categorical\n",
    "from tensorflow.keras.callbacks import CSVLogger\n",
    "from tensorflow.python.keras import metrics\n",
    "from keras import regularizers\n",
    "from keras.constraints import unit_norm\n",
    "from sklearn.model_selection import StratifiedKFold\n",
    "from keras.callbacks import EarlyStopping"
   ]
  },
  {
   "cell_type": "code",
   "execution_count": 4,
   "metadata": {},
   "outputs": [],
   "source": [
    "def model_extractor(activation_func='relu', weight_decay=1e-7):\n",
    "    # Creating an AlexNet Classifier\n",
    "    model = Sequential()\n",
    "\n",
    "    #Instantiating Layer 1\n",
    "    model.add(Conv2D(48, kernel_size=(3, 3), strides=(1, 1), activation=activation_func, padding='valid', \n",
    "                    kernel_constraint=unit_norm(), kernel_regularizer=regularizers.l2(weight_decay)))\n",
    "    model.add(MaxPool2D(pool_size=(2, 2), strides=(2, 2)))\n",
    "\n",
    "    # #Instantiating Layer 2\n",
    "    model.add(Conv2D(96, kernel_size=(3, 3), strides=(1, 1), activation=activation_func, padding='same', \n",
    "                    kernel_regularizer=regularizers.l2(weight_decay)))\n",
    "    model.add(MaxPool2D(pool_size=(2, 2), strides=(2, 2)))\n",
    "    model.add(BatchNormalization())\n",
    "    # #Instantiating Layer 3\n",
    "    model.add(Conv2D(192, kernel_size=(3, 3), strides=(1, 1), activation=activation_func, padding='same',\n",
    "                    kernel_regularizer=regularizers.l2(weight_decay)))\n",
    "    model.add(BatchNormalization())\n",
    "\n",
    "    # #Instantiating Layer 4\n",
    "    model.add(Conv2D(192, kernel_size=(3, 3), strides=(1, 1), activation=activation_func, padding='same', \n",
    "                    kernel_regularizer=regularizers.l2(weight_decay)))\n",
    "    model.add(MaxPool2D(pool_size=(2, 2), strides=(2, 2)))\n",
    "    model.add(BatchNormalization())\n",
    "\n",
    "    # #Instantiating Layer 5\n",
    "    model.add(Conv2D(256, kernel_size=(3, 3), strides=(1, 1), activation=activation_func, padding='same', \n",
    "                    kernel_regularizer=regularizers.l2(weight_decay)))\n",
    "    model.add(MaxPool2D(pool_size=(2, 2), strides=(2, 2)))\n",
    "    model.add(BatchNormalization())\n",
    "    model.add(Flatten())\n",
    "\n",
    "    #Instantiating Layer 6\n",
    "    model.add(Dense(512, activation=activation_func)) \n",
    "\n",
    "    # #Instantiating Layer 8\n",
    "    model.add(Dense(256, activation=activation_func))\n",
    "\n",
    "    #Output Layer\n",
    "    model.add(Dense(10, activation='softmax'))\n",
    "    return model"
   ]
  },
  {
   "cell_type": "code",
   "execution_count": 5,
   "metadata": {},
   "outputs": [],
   "source": [
    "def reformat(x):\n",
    "    new_x = np.zeros((x.shape[2], x.shape[0], x.shape[1]))\n",
    "    for i in range(x.shape[2]):\n",
    "        new_x[i, :] = x[:, :, i]\n",
    "    return new_x[:, :, :, np.newaxis]\n",
    "\n",
    "def return_datasets(filename):\n",
    "    data = utils.loadmat('../data/{}'.format(filename))\n",
    "    trainSet, testSet, valSet = 1, 2, 3\n",
    "    \n",
    "    x_train = reformat(data['x'][:, :, data['set']==trainSet ])\n",
    "    y_train = (data['y'][data['set']==trainSet])\n",
    "    x_val = reformat(data['x'][:, :, data['set']==valSet])\n",
    "    y_val = (data['y'][data['set']==valSet])\n",
    "    x_test = reformat(data['x'][:, :, data['set']==testSet])\n",
    "    y_test = (data['y'][data['set']==testSet])\n",
    "    \n",
    "    X = np.vstack([x_train, x_val])\n",
    "    Y = np.vstack([y_train[:, np.newaxis], y_val[:, np.newaxis]])\n",
    "    \n",
    "    return (X, Y, x_val, y_val, x_test, y_test)"
   ]
  },
  {
   "cell_type": "code",
   "execution_count": 7,
   "metadata": {},
   "outputs": [
    {
     "name": "stdout",
     "output_type": "stream",
     "text": [
      "Train on 1500 samples\n",
      "Epoch 1/15\n",
      "1500/1500 [==============================] - 10s 6ms/sample - loss: 143.2442 - accuracy: 0.1800\n",
      "Epoch 2/15\n",
      "1500/1500 [==============================] - 4s 2ms/sample - loss: 271.0713 - accuracy: 0.2000\n",
      "Epoch 3/15\n",
      "1500/1500 [==============================] - 3s 2ms/sample - loss: 666.9118 - accuracy: 0.4660\n",
      "Epoch 4/15\n",
      "1500/1500 [==============================] - 3s 2ms/sample - loss: 1618.8665 - accuracy: 0.9360\n",
      "Epoch 5/15\n",
      "1500/1500 [==============================] - 4s 3ms/sample - loss: 3298.9869 - accuracy: 0.9767\n",
      "Epoch 6/15\n",
      "1500/1500 [==============================] - 5s 3ms/sample - loss: 6016.4472 - accuracy: 0.9907\n",
      "Epoch 7/15\n",
      "1500/1500 [==============================] - 5s 3ms/sample - loss: 9954.7412 - accuracy: 0.9947\n",
      "Epoch 8/15\n",
      "1500/1500 [==============================] - 5s 3ms/sample - loss: 15535.6141 - accuracy: 0.9940\n",
      "Epoch 9/15\n",
      "1500/1500 [==============================] - 5s 3ms/sample - loss: 22740.7344 - accuracy: 0.9933\n",
      "Epoch 10/15\n",
      "1500/1500 [==============================] - 5s 3ms/sample - loss: 32197.0411 - accuracy: 0.9973\n",
      "Epoch 11/15\n",
      "1500/1500 [==============================] - 5s 3ms/sample - loss: 43594.9977 - accuracy: 0.9973\n",
      "Epoch 12/15\n",
      "1500/1500 [==============================] - 5s 3ms/sample - loss: 57621.6206 - accuracy: 0.9947\n",
      "Epoch 13/15\n",
      "1500/1500 [==============================] - 4s 3ms/sample - loss: 74269.4776 - accuracy: 0.9980\n",
      "Epoch 14/15\n",
      "1500/1500 [==============================] - 5s 3ms/sample - loss: 94093.6641 - accuracy: 0.9993\n",
      "Epoch 15/15\n",
      "1500/1500 [==============================] - 4s 3ms/sample - loss: 116699.1198 - accuracy: 0.9987\n"
     ]
    }
   ],
   "source": [
    "MAX_EPOCHS = 15\n",
    "MAX_BATCH_SIZE = 200\n",
    "MAX_TOLERANCE = 5\n",
    "\n",
    "X, Y, x_val, y_val, x_test, y_test = return_datasets('digits-jitter.mat')\n",
    "\n",
    "model = model_extractor('selu')\n",
    "model.compile(loss=\"categorical_crossentropy\", optimizer='Adam', validation_data=(x_val, y_val), metrics=[\"accuracy\"])\n",
    "model.fit(X, Y, epochs=MAX_EPOCHS, batch_size=MAX_BATCH_SIZE, verbose=1)\n",
    "accuracy = model.evaluate(x_test, y_test, verbose=0)[1]"
   ]
  },
  {
   "cell_type": "code",
   "execution_count": null,
   "metadata": {},
   "outputs": [],
   "source": []
  },
  {
   "cell_type": "code",
   "execution_count": 8,
   "metadata": {},
   "outputs": [
    {
     "data": {
      "text/plain": [
       "array([0, 0, 0, 0, 0, 0, 0, 0, 0, 0, 0, 0, 0, 0, 0, 0, 0, 0, 0, 0, 0, 0,\n",
       "       0, 0, 0, 0, 0, 0, 0, 0, 0, 0, 0, 0, 0, 0, 0, 0, 0, 0, 0, 0, 0, 0,\n",
       "       0, 0, 0, 0, 0, 0, 0, 0, 0, 0, 0, 0, 0, 0, 0, 0, 0, 0, 0, 0, 0, 0,\n",
       "       0, 0, 0, 0, 0, 0, 0, 0, 0, 0, 0, 0, 0, 0, 0, 0, 0, 0, 0, 0, 0, 0,\n",
       "       0, 0, 0, 0, 0, 0, 0, 0, 0, 0, 0, 0, 0, 0, 0, 0, 0, 0, 0, 0, 0, 0,\n",
       "       0, 0, 0, 0, 0, 0, 0, 0, 0, 0, 0, 0, 0, 0, 0, 0, 0, 0, 0, 0, 0, 0,\n",
       "       0, 0, 0, 0, 0, 0, 0, 0, 0, 0, 0, 0, 0, 0, 0, 0, 0, 0, 0, 0, 0, 0,\n",
       "       0, 0, 0, 0, 0, 0, 0, 0, 0, 0, 0, 0, 0, 0, 0, 0, 0, 0, 0, 0, 0, 0,\n",
       "       0, 0, 0, 0, 0, 0, 0, 0, 0, 0, 0, 0, 0, 0, 0, 0, 0, 0, 0, 0, 0, 0,\n",
       "       0, 0, 0, 0, 0, 0, 0, 0, 0, 0, 0, 0, 0, 0, 0, 0, 0, 0, 0, 0, 0, 0,\n",
       "       0, 0, 0, 0, 0, 0, 0, 0, 0, 0, 0, 0, 0, 3, 0, 0, 0, 0, 0, 0, 0, 0,\n",
       "       0, 0, 0, 0, 0, 0, 0, 0, 0, 0, 0, 0, 0, 0, 0, 0, 0, 0, 0, 0, 0, 0,\n",
       "       0, 0, 0, 0, 0, 0, 0, 0, 0, 0, 0, 0, 0, 0, 0, 0, 0, 0, 0, 0, 0, 0,\n",
       "       0, 0, 0, 0, 0, 0, 0, 0, 0, 0, 0, 0, 0, 0, 0, 0, 0, 0, 0, 0, 0, 0,\n",
       "       0, 0, 0, 0, 0, 0, 0, 0, 0, 0, 0, 0, 0, 0, 0, 0, 0, 0, 0, 0, 0, 0,\n",
       "       0, 0, 0, 0, 0, 0, 0, 0, 0, 0, 0, 0, 0, 0, 0, 0, 0, 0, 0, 0, 0, 0,\n",
       "       0, 0, 0, 0, 0, 0, 0, 0, 0, 0, 0, 0, 0, 0, 0, 0, 0, 0, 0, 0, 0, 0,\n",
       "       0, 0, 0, 0, 0, 0, 0, 0, 0, 0, 0, 0, 0, 0, 0, 0, 0, 0, 0, 0, 0, 0,\n",
       "       0, 0, 0, 0, 0, 0, 0, 0, 0, 0, 0, 0, 0, 0, 0, 0, 0, 0, 0, 0, 0, 0,\n",
       "       0, 0, 0, 0, 0, 0, 0, 0, 0, 0, 0, 0, 0, 0, 0, 0, 0, 0, 0, 0, 0, 0,\n",
       "       0, 0, 0, 0, 0, 0, 0, 0, 0, 0, 0, 0, 0, 0, 0, 0, 0, 0, 0, 0, 0, 0,\n",
       "       0, 0, 0, 0, 0, 0, 0, 0, 0, 0, 0, 0, 0, 0, 0, 0, 0, 0, 0, 0, 0, 0,\n",
       "       0, 0, 0, 0, 0, 0, 0, 0, 0, 0, 0, 0, 0, 0, 0, 0])"
      ]
     },
     "execution_count": 8,
     "metadata": {},
     "output_type": "execute_result"
    }
   ],
   "source": [
    "model.predict_classes(x_test)"
   ]
  },
  {
   "cell_type": "code",
   "execution_count": 9,
   "metadata": {},
   "outputs": [
    {
     "data": {
      "text/plain": [
       "array([0, 0, 0, 0, 0, 0, 0, 0, 0, 0, 0, 0, 0, 0, 0, 0, 0, 0, 0, 0, 0, 0,\n",
       "       0, 0, 0, 0, 0, 0, 0, 0, 0, 0, 0, 0, 0, 0, 0, 0, 0, 0, 0, 0, 0, 0,\n",
       "       0, 0, 0, 0, 0, 0, 1, 1, 1, 1, 1, 1, 1, 1, 1, 1, 1, 1, 1, 1, 1, 1,\n",
       "       1, 1, 1, 1, 1, 1, 1, 1, 1, 1, 1, 1, 1, 1, 1, 1, 1, 1, 1, 1, 1, 1,\n",
       "       1, 1, 1, 1, 1, 1, 1, 1, 1, 1, 1, 1, 2, 2, 2, 2, 2, 2, 2, 2, 2, 2,\n",
       "       2, 2, 2, 2, 2, 2, 2, 2, 2, 2, 2, 2, 2, 2, 2, 2, 2, 2, 2, 2, 2, 2,\n",
       "       2, 2, 2, 2, 2, 2, 2, 2, 2, 2, 2, 2, 2, 2, 2, 2, 2, 2, 3, 3, 3, 3,\n",
       "       3, 3, 3, 3, 3, 3, 3, 3, 3, 3, 3, 3, 3, 3, 3, 3, 3, 3, 3, 3, 3, 3,\n",
       "       3, 3, 3, 3, 3, 3, 3, 3, 3, 3, 3, 3, 3, 3, 3, 3, 3, 3, 3, 3, 3, 3,\n",
       "       3, 3, 4, 4, 4, 4, 4, 4, 4, 4, 4, 4, 4, 4, 4, 4, 4, 4, 4, 4, 4, 4,\n",
       "       4, 4, 4, 4, 4, 4, 4, 4, 4, 4, 4, 4, 4, 4, 4, 4, 4, 4, 4, 4, 4, 4,\n",
       "       4, 4, 4, 4, 4, 4, 4, 4, 5, 5, 5, 5, 5, 5, 5, 5, 5, 5, 5, 5, 5, 5,\n",
       "       5, 5, 5, 5, 5, 5, 5, 5, 5, 5, 5, 5, 5, 5, 5, 5, 5, 5, 5, 5, 5, 5,\n",
       "       5, 5, 5, 5, 5, 5, 5, 5, 5, 5, 5, 5, 5, 5, 6, 6, 6, 6, 6, 6, 6, 6,\n",
       "       6, 6, 6, 6, 6, 6, 6, 6, 6, 6, 6, 6, 6, 6, 6, 6, 6, 6, 6, 6, 6, 6,\n",
       "       6, 6, 6, 6, 6, 6, 6, 6, 6, 6, 6, 6, 6, 6, 6, 6, 6, 6, 6, 6, 7, 7,\n",
       "       7, 7, 7, 7, 7, 7, 7, 7, 7, 7, 7, 7, 7, 7, 7, 7, 7, 7, 7, 7, 7, 7,\n",
       "       7, 7, 7, 7, 7, 7, 7, 7, 7, 7, 7, 7, 7, 7, 7, 7, 7, 7, 7, 7, 7, 7,\n",
       "       7, 7, 7, 7, 8, 8, 8, 8, 8, 8, 8, 8, 8, 8, 8, 8, 8, 8, 8, 8, 8, 8,\n",
       "       8, 8, 8, 8, 8, 8, 8, 8, 8, 8, 8, 8, 8, 8, 8, 8, 8, 8, 8, 8, 8, 8,\n",
       "       8, 8, 8, 8, 8, 8, 8, 8, 8, 8, 9, 9, 9, 9, 9, 9, 9, 9, 9, 9, 9, 9,\n",
       "       9, 9, 9, 9, 9, 9, 9, 9, 9, 9, 9, 9, 9, 9, 9, 9, 9, 9, 9, 9, 9, 9,\n",
       "       9, 9, 9, 9, 9, 9, 9, 9, 9, 9, 9, 9, 9, 9, 9, 9], dtype=uint8)"
      ]
     },
     "execution_count": 9,
     "metadata": {},
     "output_type": "execute_result"
    }
   ],
   "source": [
    "y_test"
   ]
  },
  {
   "cell_type": "code",
   "execution_count": null,
   "metadata": {},
   "outputs": [],
   "source": []
  }
 ],
 "metadata": {
  "kernelspec": {
   "display_name": "cs682",
   "language": "python",
   "name": "cs682"
  },
  "language_info": {
   "codemirror_mode": {
    "name": "ipython",
    "version": 3
   },
   "file_extension": ".py",
   "mimetype": "text/x-python",
   "name": "python",
   "nbconvert_exporter": "python",
   "pygments_lexer": "ipython3",
   "version": "3.6.9"
  }
 },
 "nbformat": 4,
 "nbformat_minor": 2
}
