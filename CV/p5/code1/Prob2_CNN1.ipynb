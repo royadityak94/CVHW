{
 "cells": [
  {
   "cell_type": "code",
   "execution_count": 2,
   "metadata": {},
   "outputs": [
    {
     "name": "stderr",
     "output_type": "stream",
     "text": [
      "Using TensorFlow backend.\n"
     ]
    }
   ],
   "source": [
    "import numpy as np\n",
    "import utils\n",
    "from utils import loadmat\n",
    "from extractDigitFeatures import extractDigitFeatures\n",
    "import tensorflow as tf\n",
    "from tensorflow.keras.models import Sequential\n",
    "from tensorflow.keras.layers import Dense, Dropout, Conv2D, Conv3D, Flatten, MaxPool2D, AveragePooling2D, BatchNormalization\n",
    "from tensorflow.keras.optimizers import SGD\n",
    "from tensorflow.keras.utils import to_categorical\n",
    "from tensorflow.keras.callbacks import CSVLogger\n",
    "from tensorflow.python.keras import metrics\n",
    "from keras import regularizers\n",
    "from keras.constraints import unit_norm\n",
    "from sklearn.model_selection import StratifiedKFold"
   ]
  },
  {
   "cell_type": "code",
   "execution_count": 3,
   "metadata": {},
   "outputs": [],
   "source": [
    "def model_extractor(activation_func='relu', weight_decay=1e-4):\n",
    "    # Creating an AlexNet Classifier\n",
    "    model = Sequential()\n",
    "\n",
    "    #Instantiating Layer 1\n",
    "    model.add(Conv2D(48, kernel_size=(3, 3), strides=(1, 1), activation=activation_func, padding='valid', \n",
    "                    kernel_constraint=unit_norm(), kernel_regularizer=regularizers.l2(weight_decay)))\n",
    "    model.add(MaxPool2D(pool_size=(2, 2), strides=(2, 2)))\n",
    "\n",
    "    # #Instantiating Layer 2\n",
    "    model.add(Conv2D(96, kernel_size=(3, 3), strides=(1, 1), activation=activation_func, padding='same', \n",
    "                    kernel_regularizer=regularizers.l2(weight_decay)))\n",
    "    model.add(MaxPool2D(pool_size=(2, 2), strides=(2, 2)))\n",
    "    model.add(BatchNormalization())\n",
    "    # #Instantiating Layer 3\n",
    "    model.add(Conv2D(192, kernel_size=(3, 3), strides=(1, 1), activation=activation_func, padding='same',\n",
    "                    kernel_regularizer=regularizers.l2(weight_decay)))\n",
    "    model.add(BatchNormalization())\n",
    "\n",
    "    # #Instantiating Layer 4\n",
    "    model.add(Conv2D(192, kernel_size=(3, 3), strides=(1, 1), activation=activation_func, padding='same', \n",
    "                    kernel_regularizer=regularizers.l2(weight_decay)))\n",
    "    model.add(MaxPool2D(pool_size=(2, 2), strides=(2, 2)))\n",
    "    model.add(BatchNormalization())\n",
    "\n",
    "    # #Instantiating Layer 5\n",
    "    model.add(Conv2D(256, kernel_size=(3, 3), strides=(1, 1), activation=activation_func, padding='same', \n",
    "                    kernel_regularizer=regularizers.l2(weight_decay)))\n",
    "    model.add(MaxPool2D(pool_size=(2, 2), strides=(2, 2)))\n",
    "    model.add(BatchNormalization())\n",
    "    model.add(Flatten())\n",
    "\n",
    "    #Instantiating Layer 6\n",
    "    model.add(Dense(512, activation=activation_func)) \n",
    "\n",
    "    # #Instantiating Layer 8\n",
    "    model.add(Dense(256, activation=activation_func))\n",
    "\n",
    "    #Output Layer\n",
    "    model.add(Dense(10, activation='softmax'))\n",
    "    return model"
   ]
  },
  {
   "cell_type": "code",
   "execution_count": 4,
   "metadata": {},
   "outputs": [],
   "source": [
    "def reformat(x):\n",
    "    new_x = np.zeros((x.shape[2], x.shape[0], x.shape[1]))\n",
    "    for i in range(x.shape[2]):\n",
    "        new_x[i, :] = x[:, :, i]\n",
    "    return new_x[:, :, :, np.newaxis]"
   ]
  },
  {
   "cell_type": "code",
   "execution_count": 5,
   "metadata": {},
   "outputs": [],
   "source": [
    "def return_datasets(filename):\n",
    "    data = utils.loadmat('../data/{}'.format(filename))\n",
    "    trainSet, testSet, valSet = 1, 2, 3\n",
    "    \n",
    "    x_train = reformat(data['x'][:, :, data['set']==trainSet ])\n",
    "    y_train = (data['y'][data['set']==trainSet])\n",
    "    x_val = reformat(data['x'][:, :, data['set']==valSet])\n",
    "    y_val = (data['y'][data['set']==valSet])\n",
    "    x_test = reformat(data['x'][:, :, data['set']==testSet])\n",
    "    y_test = (data['y'][data['set']==testSet])\n",
    "    \n",
    "    X = np.vstack([x_train, x_val])\n",
    "    Y = np.vstack([y_train[:, np.newaxis], y_val[:, np.newaxis]])\n",
    "    \n",
    "    return (X, Y, x_test, y_test)"
   ]
  },
  {
   "cell_type": "code",
   "execution_count": 7,
   "metadata": {},
   "outputs": [
    {
     "name": "stdout",
     "output_type": "stream",
     "text": [
      "Train on 1200 samples\n",
      "Epoch 1/15\n",
      "1200/1200 [==============================] - 71s 59ms/sample - loss: 132.2874 - accuracy: 0.3117\n",
      "Epoch 2/15\n",
      "1200/1200 [==============================] - 55s 46ms/sample - loss: 287.4017 - accuracy: 0.1800\n",
      "Epoch 3/15\n",
      "1200/1200 [==============================] - 53s 44ms/sample - loss: 771.6041 - accuracy: 0.0433\n",
      "Epoch 4/15\n",
      "1200/1200 [==============================] - 15s 12ms/sample - loss: 1843.6931 - accuracy: 0.0033\n",
      "Epoch 5/15\n",
      "1200/1200 [==============================] - 3s 2ms/sample - loss: 3683.0123 - accuracy: 0.0000e+00\n",
      "Epoch 6/15\n",
      "1200/1200 [==============================] - 3s 2ms/sample - loss: 6495.2791 - accuracy: 0.0000e+00\n",
      "Epoch 7/15\n",
      "1200/1200 [==============================] - 3s 2ms/sample - loss: 10512.8582 - accuracy: 0.0000e+00\n",
      "Epoch 8/15\n",
      "1200/1200 [==============================] - 2s 2ms/sample - loss: 16026.4720 - accuracy: 0.0000e+00\n",
      "Epoch 9/15\n",
      "1200/1200 [==============================] - 2s 2ms/sample - loss: 23075.6133 - accuracy: 0.0000e+00\n",
      "Epoch 10/15\n",
      "1200/1200 [==============================] - 2s 2ms/sample - loss: 31868.6260 - accuracy: 0.0000e+00\n",
      "Epoch 11/15\n",
      "1200/1200 [==============================] - 2s 2ms/sample - loss: 42788.1204 - accuracy: 0.0000e+00\n",
      "Epoch 12/15\n",
      "1200/1200 [==============================] - 5s 4ms/sample - loss: 55686.3750 - accuracy: 0.0000e+00\n",
      "Epoch 13/15\n",
      "1200/1200 [==============================] - 27s 23ms/sample - loss: 70936.0306 - accuracy: 0.0000e+00\n",
      "Epoch 14/15\n",
      "1200/1200 [==============================] - 55s 46ms/sample - loss: 88843.9674 - accuracy: 0.0000e+00\n",
      "Epoch 15/15\n",
      "1200/1200 [==============================] - 53s 44ms/sample - loss: 109495.7070 - accuracy: 0.0000e+00\n"
     ]
    },
    {
     "ename": "NameError",
     "evalue": "name 'y_val' is not defined",
     "output_type": "error",
     "traceback": [
      "\u001b[0;31m---------------------------------------------------------------------------\u001b[0m",
      "\u001b[0;31mNameError\u001b[0m                                 Traceback (most recent call last)",
      "\u001b[0;32m<ipython-input-7-b8b6ff83e470>\u001b[0m in \u001b[0;36m<module>\u001b[0;34m\u001b[0m\n\u001b[1;32m     15\u001b[0m         \u001b[0mmodel\u001b[0m\u001b[0;34m.\u001b[0m\u001b[0mcompile\u001b[0m\u001b[0;34m(\u001b[0m\u001b[0mloss\u001b[0m\u001b[0;34m=\u001b[0m\u001b[0;34m\"categorical_crossentropy\"\u001b[0m\u001b[0;34m,\u001b[0m \u001b[0moptimizer\u001b[0m\u001b[0;34m=\u001b[0m\u001b[0;34m'Adam'\u001b[0m\u001b[0;34m,\u001b[0m \u001b[0mvalidation_data\u001b[0m\u001b[0;34m=\u001b[0m\u001b[0;34m(\u001b[0m\u001b[0mX\u001b[0m\u001b[0;34m[\u001b[0m\u001b[0mtest\u001b[0m\u001b[0;34m]\u001b[0m\u001b[0;34m,\u001b[0m \u001b[0mY\u001b[0m\u001b[0;34m[\u001b[0m\u001b[0mtest\u001b[0m\u001b[0;34m]\u001b[0m\u001b[0;34m)\u001b[0m\u001b[0;34m,\u001b[0m \u001b[0mmetrics\u001b[0m\u001b[0;34m=\u001b[0m\u001b[0;34m[\u001b[0m\u001b[0;34m\"accuracy\"\u001b[0m\u001b[0;34m]\u001b[0m\u001b[0;34m)\u001b[0m\u001b[0;34m\u001b[0m\u001b[0;34m\u001b[0m\u001b[0m\n\u001b[1;32m     16\u001b[0m         \u001b[0mmodel\u001b[0m\u001b[0;34m.\u001b[0m\u001b[0mfit\u001b[0m\u001b[0;34m(\u001b[0m\u001b[0mX\u001b[0m\u001b[0;34m[\u001b[0m\u001b[0mtrain\u001b[0m\u001b[0;34m]\u001b[0m\u001b[0;34m,\u001b[0m \u001b[0mY\u001b[0m\u001b[0;34m[\u001b[0m\u001b[0mtrain\u001b[0m\u001b[0;34m]\u001b[0m\u001b[0;34m,\u001b[0m \u001b[0mepochs\u001b[0m\u001b[0;34m=\u001b[0m\u001b[0mMAX_EPOCHS\u001b[0m\u001b[0;34m,\u001b[0m \u001b[0mbatch_size\u001b[0m\u001b[0;34m=\u001b[0m\u001b[0mMAX_BATCH_SIZE\u001b[0m\u001b[0;34m,\u001b[0m \u001b[0mverbose\u001b[0m\u001b[0;34m=\u001b[0m\u001b[0;36m1\u001b[0m\u001b[0;34m)\u001b[0m\u001b[0;34m\u001b[0m\u001b[0;34m\u001b[0m\u001b[0m\n\u001b[0;32m---> 17\u001b[0;31m         \u001b[0maccuracy\u001b[0m \u001b[0;34m=\u001b[0m \u001b[0mmodel\u001b[0m\u001b[0;34m.\u001b[0m\u001b[0mevaluate\u001b[0m\u001b[0;34m(\u001b[0m\u001b[0mx_test\u001b[0m\u001b[0;34m,\u001b[0m \u001b[0my_test\u001b[0m\u001b[0;34m,\u001b[0m \u001b[0mbatch_size\u001b[0m\u001b[0;34m=\u001b[0m\u001b[0mint\u001b[0m\u001b[0;34m(\u001b[0m\u001b[0my_val\u001b[0m\u001b[0;34m.\u001b[0m\u001b[0msize\u001b[0m\u001b[0;34m/\u001b[0m\u001b[0;36m5\u001b[0m\u001b[0;34m)\u001b[0m\u001b[0;34m,\u001b[0m \u001b[0mverbose\u001b[0m\u001b[0;34m=\u001b[0m\u001b[0;36m0\u001b[0m\u001b[0;34m)\u001b[0m\u001b[0;34m[\u001b[0m\u001b[0;36m1\u001b[0m\u001b[0;34m]\u001b[0m\u001b[0;34m\u001b[0m\u001b[0;34m\u001b[0m\u001b[0m\n\u001b[0m\u001b[1;32m     18\u001b[0m         \u001b[0mprint\u001b[0m \u001b[0;34m(\u001b[0m\u001b[0;34m\"Accuracy = {}\"\u001b[0m\u001b[0;34m.\u001b[0m\u001b[0mformat\u001b[0m\u001b[0;34m(\u001b[0m\u001b[0maccuracy\u001b[0m\u001b[0;34m)\u001b[0m\u001b[0;34m)\u001b[0m \u001b[0;31m# Can comment this line\u001b[0m\u001b[0;34m\u001b[0m\u001b[0;34m\u001b[0m\u001b[0m\n\u001b[1;32m     19\u001b[0m \u001b[0;34m\u001b[0m\u001b[0m\n",
      "\u001b[0;31mNameError\u001b[0m: name 'y_val' is not defined"
     ]
    }
   ],
   "source": [
    "MAX_EPOCHS = 15\n",
    "MAX_BATCH_SIZE = 200\n",
    "MAX_TOLERANCE = 5\n",
    "\n",
    "\n",
    "files = ['digits-normal.mat', 'digits-scaled.mat'] #, 'digits-normal.mat', 'digits-scaled.mat'\n",
    "for file in files:\n",
    "    X, Y, x_test, y_test = return_datasets(file)\n",
    "    kfold = StratifiedKFold(n_splits=5, shuffle=True, random_state=42)\n",
    "    \n",
    "    best_model, best_accuracy = -1, -1\n",
    "    \n",
    "    for train, test in kfold.split(X, Y):\n",
    "        model = model_extractor('relu')\n",
    "        model.compile(loss=\"categorical_crossentropy\", optimizer='Adam', validation_data=(X[test], Y[test]), metrics=[\"accuracy\"])\n",
    "        model.fit(X[train], Y[train], epochs=MAX_EPOCHS, batch_size=MAX_BATCH_SIZE, verbose=1)\n",
    "        accuracy = model.evaluate(x_test, y_test, batch_size=int(y_test.size/5), verbose=0)[1]\n",
    "        print (\"Accuracy = {}\".format(accuracy)) # Can comment this line\n",
    "        \n",
    "        if accuracy > best_accuracy:\n",
    "            best_accuracy = accuracy\n",
    "            best_model = model\n",
    "\n",
    "        if best_accuracy > .99:\n",
    "            break\n",
    "    \n",
    "    print (\"Test Set Accuracy for {} = {}\".format(file, best_model.evaluate(x_test, y_test, verbose=0)))"
   ]
  },
  {
   "cell_type": "code",
   "execution_count": null,
   "metadata": {},
   "outputs": [],
   "source": []
  },
  {
   "cell_type": "code",
   "execution_count": null,
   "metadata": {},
   "outputs": [],
   "source": []
  },
  {
   "cell_type": "code",
   "execution_count": null,
   "metadata": {},
   "outputs": [],
   "source": []
  },
  {
   "cell_type": "code",
   "execution_count": null,
   "metadata": {},
   "outputs": [],
   "source": []
  },
  {
   "cell_type": "code",
   "execution_count": null,
   "metadata": {},
   "outputs": [],
   "source": []
  },
  {
   "cell_type": "code",
   "execution_count": null,
   "metadata": {},
   "outputs": [],
   "source": [
    "MAX_EPOCHS = 40\n",
    "MAX_BATCH_SIZE = 200\n",
    "\n",
    "files = ['digits-normal.mat',]\n",
    "for file in files:\n",
    "    x_train, y_train, x_val, y_val, x_test, y_test = return_datasets(file)\n",
    "    kfold = StratifiedKFold(n_splits=10, shuffle=True, random_state=42)\n",
    "    \n",
    "    best_model, best_accuracy = -1, -1\n",
    "    \n",
    "    for train, test in kfold.split(x_train, y_train):\n",
    "        model = model_extractor('relu')\n",
    "        model.compile(loss=\"categorical_crossentropy\", optimizer='Adam', validation_data=(x_train[test], y_train[test]), metrics=[\"accuracy\"])\n",
    "        model.fit(x_train[train], y_train[train], epochs=MAX_EPOCHS, batch_size=MAX_BATCH_SIZE, verbose=0)\n",
    "        accuracy = model.evaluate(x_val, y_val, batch_size=int(y_val.size/5), verbose=0)[1]\n",
    "        print (\"Accuracy = {}\".format(accuracy)) # Can comment this line\n",
    "        \n",
    "        if accuracy > best_accuracy:\n",
    "            best_accuracy = accuracy\n",
    "            best_model = model\n",
    "\n",
    "        if best_accuracy > .99:\n",
    "            break    \n",
    "    \n",
    "    print (\"Test Set Accuracy for {} = {}\".format(file, best_model.evaluate(x_test, y_test, verbose=0)))"
   ]
  },
  {
   "cell_type": "code",
   "execution_count": null,
   "metadata": {},
   "outputs": [],
   "source": []
  },
  {
   "cell_type": "code",
   "execution_count": null,
   "metadata": {},
   "outputs": [],
   "source": []
  },
  {
   "cell_type": "code",
   "execution_count": null,
   "metadata": {},
   "outputs": [],
   "source": []
  },
  {
   "cell_type": "code",
   "execution_count": null,
   "metadata": {},
   "outputs": [],
   "source": []
  },
  {
   "cell_type": "code",
   "execution_count": null,
   "metadata": {},
   "outputs": [],
   "source": []
  }
 ],
 "metadata": {
  "kernelspec": {
   "display_name": "cs682",
   "language": "python",
   "name": "cs682"
  },
  "language_info": {
   "codemirror_mode": {
    "name": "ipython",
    "version": 3
   },
   "file_extension": ".py",
   "mimetype": "text/x-python",
   "name": "python",
   "nbconvert_exporter": "python",
   "pygments_lexer": "ipython3",
   "version": "3.6.9"
  }
 },
 "nbformat": 4,
 "nbformat_minor": 2
}
