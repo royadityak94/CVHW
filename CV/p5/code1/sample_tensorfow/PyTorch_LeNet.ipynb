{
 "cells": [
  {
   "cell_type": "code",
   "execution_count": 1,
   "metadata": {},
   "outputs": [],
   "source": [
    "import numpy as np\n",
    "import sys\n",
    "import matplotlib.pyplot as plt\n",
    "import tensorflow as tf\n",
    "from tensorflow.keras.utils import to_categorical\n",
    "\n",
    "import torch\n",
    "import torch.nn as nn\n",
    "import torch.nn.functional as F\n",
    "import torch.optim as optim\n",
    "from torch.utils.data import DataLoader, TensorDataset"
   ]
  },
  {
   "cell_type": "code",
   "execution_count": 2,
   "metadata": {},
   "outputs": [],
   "source": [
    "MAX_TRAIN, MAX_TEST, MAX_VAL = 4000, 1000, 1000\n",
    "MAX_EPOCHS = 20\n",
    "num_class = 10"
   ]
  },
  {
   "cell_type": "code",
   "execution_count": 3,
   "metadata": {},
   "outputs": [],
   "source": [
    "def roll_my_axis(x):\n",
    "    return np.rollaxis(x, 3, 1)\n",
    "def reshape_label(y):\n",
    "    return y.reshape(y.size)"
   ]
  },
  {
   "cell_type": "code",
   "execution_count": 4,
   "metadata": {},
   "outputs": [],
   "source": [
    "cifar = tf.keras.datasets.cifar10 \n",
    "(x_train_npy_o, y_train_npy_o), (x_test_npy, y_test_npy) = cifar.load_data()\n",
    "\n",
    "x_train_npy, y_train_npy = roll_my_axis(x_train_npy_o[:MAX_TRAIN]), reshape_label(y_train_npy_o[:MAX_TRAIN])\n",
    "x_test_npy, y_test_npy = roll_my_axis(x_test_npy[:MAX_TEST]), reshape_label(y_test_npy[:MAX_TEST])\n",
    "val_idxs = range(int(1.5*MAX_TRAIN), int(1.5*MAX_TRAIN)+MAX_VAL)\n",
    "x_val_npy, y_val_npy = roll_my_axis(x_train_npy_o[val_idxs]), reshape_label(y_train_npy_o[val_idxs])\n",
    "\n",
    "x_train, x_test = torch.Tensor(x_train_npy), torch.Tensor(x_test_npy)\n",
    "y_train, y_test = torch.Tensor(y_train_npy), torch.Tensor(y_test_npy)\n",
    "x_val, y_val = torch.Tensor(x_val_npy), torch.Tensor(y_val_npy)\n",
    "\n",
    "trainloader = DataLoader(TensorDataset(x_train.type('torch.FloatTensor'), y_train.type('torch.LongTensor')), \n",
    "                         batch_size = 128, shuffle=True, num_workers=4)\n",
    "testloader = DataLoader(TensorDataset(x_test.type('torch.FloatTensor'), y_test.type('torch.LongTensor')), \n",
    "                        batch_size = 128, shuffle=True, num_workers=4)\n",
    "valloader = DataLoader(TensorDataset(x_val.type('torch.FloatTensor'), y_val.type('torch.LongTensor')), \n",
    "                        batch_size = 128, shuffle=True, num_workers=4)"
   ]
  },
  {
   "cell_type": "code",
   "execution_count": 5,
   "metadata": {},
   "outputs": [],
   "source": [
    "class LeNet5(nn.Module):\n",
    "    def __init__(self):\n",
    "        super(LeNet5, self).__init__()\n",
    "        # in_channels, out_channels, kernel_size, stride, padding\n",
    "        self.conv1 = nn.Conv2d(3, 6, 5)\n",
    "        self.pool1 = nn.AvgPool2d(2, 2)\n",
    "        self.conv2 = nn.Conv2d(6, 16, 5)\n",
    "        self.pool2 = nn.MaxPool2d(2, 2)\n",
    "        self.fc1 = nn.Linear(400, 120)\n",
    "        self.fc2 = nn.Linear(120, 84)\n",
    "        self.fc3 = nn.Linear(84, 10)\n",
    "    def forward(self, x):\n",
    "        out = self.pool1(F.selu(self.conv1(x)))\n",
    "        out = self.pool2(F.selu(self.conv2(out)))\n",
    "        out = out.view(-1, 16 * 5 * 5)\n",
    "        out = F.selu(self.fc1(out))\n",
    "        out = F.selu(self.fc2(out))\n",
    "        out = self.fc3(out)\n",
    "        return out"
   ]
  },
  {
   "cell_type": "code",
   "execution_count": 6,
   "metadata": {},
   "outputs": [],
   "source": [
    "def compute_validation_accuracy(model, dataLoader):\n",
    "    correct, total = 0, 0\n",
    "    with torch.no_grad():\n",
    "        for data in dataLoader:\n",
    "            images, labels = data\n",
    "            outputs = model(images)\n",
    "            _, predicted = torch.max(outputs.data, 1)\n",
    "            total += labels.size(0)\n",
    "            correct += (predicted == labels).sum().item()\n",
    "    return correct/total          "
   ]
  },
  {
   "cell_type": "code",
   "execution_count": 7,
   "metadata": {},
   "outputs": [],
   "source": [
    "model = LeNet5()\n",
    "criterion = nn.CrossEntropyLoss()\n",
    "optimizer = optim.Adam(model.parameters(), lr=0.001)"
   ]
  },
  {
   "cell_type": "code",
   "execution_count": 8,
   "metadata": {},
   "outputs": [
    {
     "name": "stdout",
     "output_type": "stream",
     "text": [
      "Accuracy at the end of Epoch 1: 0.188\n",
      "Accuracy at the end of Epoch 2: 0.209\n",
      "Accuracy at the end of Epoch 3: 0.197\n",
      "Accuracy at the end of Epoch 4: 0.276\n",
      "Accuracy at the end of Epoch 5: 0.207\n",
      "Accuracy at the end of Epoch 6: 0.243\n",
      "Accuracy at the end of Epoch 7: 0.271\n",
      "Accuracy at the end of Epoch 8: 0.315\n",
      "Accuracy at the end of Epoch 9: 0.307\n",
      "Accuracy at the end of Epoch 10: 0.343\n",
      "Accuracy at the end of Epoch 11: 0.366\n",
      "Accuracy at the end of Epoch 12: 0.288\n",
      "Accuracy at the end of Epoch 13: 0.320\n",
      "Accuracy at the end of Epoch 14: 0.326\n",
      "Accuracy at the end of Epoch 15: 0.332\n",
      "Accuracy at the end of Epoch 16: 0.311\n",
      "Accuracy at the end of Epoch 17: 0.243\n",
      "Accuracy at the end of Epoch 18: 0.315\n",
      "Accuracy at the end of Epoch 19: 0.368\n",
      "Accuracy at the end of Epoch 20: 0.363\n"
     ]
    }
   ],
   "source": [
    "model = LeNet5()\n",
    "criterion = nn.CrossEntropyLoss()\n",
    "optimizer = optim.SGD(model.parameters(), lr=0.001)\n",
    "\n",
    "for epoch in range(MAX_EPOCHS):\n",
    "    for i, data in enumerate(trainloader, 0):\n",
    "        inputs, labels = data\n",
    "        \n",
    "        # zero the parameter gradients\n",
    "        optimizer.zero_grad()\n",
    "\n",
    "        # Forward + Backward + Optimize \n",
    "        loss = criterion(model(inputs), labels)\n",
    "        loss.backward()\n",
    "        optimizer.step()\n",
    "    \n",
    "    print (\"Accuracy at the end of Epoch %d: %.3f\" % (epoch+1, compute_validation_accuracy(model, valloader)))"
   ]
  },
  {
   "cell_type": "code",
   "execution_count": 9,
   "metadata": {},
   "outputs": [
    {
     "name": "stdout",
     "output_type": "stream",
     "text": [
      "Test Accuracy = 0.344\n"
     ]
    }
   ],
   "source": [
    "print (\"Test Accuracy = %.3f\" % compute_validation_accuracy(model, testloader))"
   ]
  }
 ],
 "metadata": {
  "kernelspec": {
   "display_name": "cs682",
   "language": "python",
   "name": "cs682"
  },
  "language_info": {
   "codemirror_mode": {
    "name": "ipython",
    "version": 3
   },
   "file_extension": ".py",
   "mimetype": "text/x-python",
   "name": "python",
   "nbconvert_exporter": "python",
   "pygments_lexer": "ipython3",
   "version": "3.6.9"
  }
 },
 "nbformat": 4,
 "nbformat_minor": 2
}
