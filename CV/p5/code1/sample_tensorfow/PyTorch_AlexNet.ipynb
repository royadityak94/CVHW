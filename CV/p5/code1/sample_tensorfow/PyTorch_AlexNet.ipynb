{
 "cells": [
  {
   "cell_type": "code",
   "execution_count": 1,
   "metadata": {},
   "outputs": [],
   "source": [
    "import numpy as np\n",
    "import sys\n",
    "import matplotlib.pyplot as plt\n",
    "import tensorflow as tf\n",
    "from tensorflow.keras.utils import to_categorical\n",
    "\n",
    "import torch\n",
    "import torch.nn as nn\n",
    "import torch.nn.functional as F\n",
    "import torch.optim as optim\n",
    "from torch.utils.data import DataLoader, TensorDataset"
   ]
  },
  {
   "cell_type": "code",
   "execution_count": 2,
   "metadata": {},
   "outputs": [],
   "source": [
    "MAX_TRAIN, MAX_TEST, MAX_VAL = 4000, 1000, 1000\n",
    "MAX_EPOCHS = 20"
   ]
  },
  {
   "cell_type": "code",
   "execution_count": 3,
   "metadata": {},
   "outputs": [],
   "source": [
    "def roll_my_axis(x):\n",
    "    return np.rollaxis(x, 3, 1)\n",
    "def reshape_label(y):\n",
    "    return y.reshape(y.size)"
   ]
  },
  {
   "cell_type": "code",
   "execution_count": 4,
   "metadata": {},
   "outputs": [],
   "source": [
    "cifar = tf.keras.datasets.cifar10 \n",
    "(x_train_npy_o, y_train_npy_o), (x_test_npy, y_test_npy) = cifar.load_data()\n",
    "\n",
    "x_train_npy, y_train_npy = roll_my_axis(x_train_npy_o[:MAX_TRAIN]), reshape_label(y_train_npy_o[:MAX_TRAIN])\n",
    "x_test_npy, y_test_npy = roll_my_axis(x_test_npy[:MAX_TEST]), reshape_label(y_test_npy[:MAX_TEST])\n",
    "val_idxs = range(int(1.5*MAX_TRAIN), int(1.5*MAX_TRAIN)+MAX_VAL)\n",
    "x_val_npy, y_val_npy = roll_my_axis(x_train_npy_o[val_idxs]), reshape_label(y_train_npy_o[val_idxs])\n",
    "\n",
    "x_train, x_test = torch.Tensor(x_train_npy), torch.Tensor(x_test_npy)\n",
    "y_train, y_test = torch.Tensor(y_train_npy), torch.Tensor(y_test_npy)\n",
    "x_val, y_val = torch.Tensor(x_val_npy), torch.Tensor(y_val_npy)\n",
    "\n",
    "trainloader = DataLoader(TensorDataset(x_train.type('torch.FloatTensor'), y_train.type('torch.LongTensor')), \n",
    "                         batch_size = 128, shuffle=True, num_workers=4)\n",
    "testloader = DataLoader(TensorDataset(x_test.type('torch.FloatTensor'), y_test.type('torch.LongTensor')), \n",
    "                        batch_size = 128, shuffle=True, num_workers=4)\n",
    "valloader = DataLoader(TensorDataset(x_val.type('torch.FloatTensor'), y_val.type('torch.LongTensor')), \n",
    "                        batch_size = 128, shuffle=True, num_workers=4)"
   ]
  },
  {
   "cell_type": "code",
   "execution_count": 5,
   "metadata": {},
   "outputs": [],
   "source": [
    "class AlexNet(nn.Module):\n",
    "    def __init__(self):\n",
    "        super(AlexNet, self).__init__()\n",
    "        self.conv1 = nn.Conv2d(3, 48, 3) \n",
    "        self.pool1 = nn.MaxPool2d(2, 2)\n",
    "        \n",
    "        self.conv2 = nn.Conv2d(48, 96, 3)\n",
    "        self.pool2 = nn.MaxPool2d(2, 2)\n",
    "        self.bn2 = nn.BatchNorm2d(96)\n",
    "        \n",
    "        self.conv22 = nn.Conv2d(96, 192, 2)\n",
    "        self.bn22 = nn.BatchNorm2d(192)\n",
    "        \n",
    "        self.conv3 = nn.Conv2d(192, 192, 2)\n",
    "        self.pool3 = nn.MaxPool2d(2, 2)\n",
    "        self.bn3 = nn.BatchNorm2d(192)\n",
    "        \n",
    "        self.conv4 = nn.Conv2d(192, 256, 2)\n",
    "        self.pool4 = nn.MaxPool2d(2, 2)\n",
    "        self.bn4 = nn.BatchNorm2d(256)\n",
    "        \n",
    "        self.fc1 = nn.Linear(1024, 512)\n",
    "        self.dropout1 = nn.Dropout(.4)\n",
    "        \n",
    "        self.fc2 = nn.Linear(512, 256)\n",
    "        self.dropout2 = nn.Dropout(.4)\n",
    "        \n",
    "        self.fc3 = nn.Linear(256, 10)\n",
    "    def forward(self, x):\n",
    "        out = (F.selu(self.conv1(x)))\n",
    "        out = self.bn2(self.pool2(F.selu(self.conv2(out))))\n",
    "        out = self.bn22(F.selu(self.conv22(out)))\n",
    "        out = self.bn3(self.pool3(F.selu(self.conv3(out))))\n",
    "        out = self.bn4(self.pool4(F.selu(self.conv4(out))))\n",
    "        out = out.view(-1, 256*2*2)\n",
    "        out = self.dropout1(F.selu(self.fc1(out)))\n",
    "        out = self.dropout2(F.selu(self.fc2(out)))\n",
    "        out = self.fc3(out)\n",
    "        return out"
   ]
  },
  {
   "cell_type": "code",
   "execution_count": 6,
   "metadata": {},
   "outputs": [],
   "source": [
    "def compute_validation_accuracy(model, dataLoader):\n",
    "    correct, total = 0, 0\n",
    "    with torch.no_grad():\n",
    "        for data in dataLoader:\n",
    "            images, labels = data\n",
    "            outputs = model(images)\n",
    "            _, predicted = torch.max(outputs.data, 1)\n",
    "            total += labels.size(0)\n",
    "            correct += (predicted == labels).sum().item()\n",
    "    return correct/total          "
   ]
  },
  {
   "cell_type": "code",
   "execution_count": 9,
   "metadata": {},
   "outputs": [
    {
     "name": "stdout",
     "output_type": "stream",
     "text": [
      "Accuracy at the end of Epoch 1: 0.168\n",
      "Accuracy at the end of Epoch 2: 0.216\n",
      "Accuracy at the end of Epoch 3: 0.224\n",
      "Accuracy at the end of Epoch 4: 0.246\n",
      "Accuracy at the end of Epoch 5: 0.253\n",
      "Accuracy at the end of Epoch 6: 0.257\n",
      "Accuracy at the end of Epoch 7: 0.282\n",
      "Accuracy at the end of Epoch 8: 0.279\n",
      "Accuracy at the end of Epoch 9: 0.288\n",
      "Accuracy at the end of Epoch 10: 0.327\n",
      "Accuracy at the end of Epoch 11: 0.318\n",
      "Accuracy at the end of Epoch 12: 0.315\n",
      "Accuracy at the end of Epoch 13: 0.319\n",
      "Accuracy at the end of Epoch 14: 0.343\n",
      "Accuracy at the end of Epoch 15: 0.355\n",
      "Accuracy at the end of Epoch 16: 0.361\n",
      "Accuracy at the end of Epoch 17: 0.361\n",
      "Accuracy at the end of Epoch 18: 0.363\n",
      "Accuracy at the end of Epoch 19: 0.373\n",
      "Accuracy at the end of Epoch 20: 0.354\n"
     ]
    }
   ],
   "source": [
    "model = AlexNet()\n",
    "criterion = nn.CrossEntropyLoss()\n",
    "optimizer = optim.Adam(model.parameters(), lr=0.01)\n",
    "\n",
    "for epoch in range(MAX_EPOCHS):\n",
    "    for i, data in enumerate(trainloader, 0):\n",
    "        inputs, labels = data\n",
    "        \n",
    "        # zero the parameter gradients\n",
    "        optimizer.zero_grad()\n",
    "\n",
    "        # Forward + Backward + Optimize \n",
    "        loss = criterion(model(inputs), labels)\n",
    "        loss.backward()\n",
    "        optimizer.step()\n",
    "    \n",
    "    print (\"Accuracy at the end of Epoch %d: %.3f\" % (epoch+1, compute_validation_accuracy(model, valloader)))"
   ]
  },
  {
   "cell_type": "code",
   "execution_count": 10,
   "metadata": {},
   "outputs": [
    {
     "name": "stdout",
     "output_type": "stream",
     "text": [
      "Test Accuracy = 0.377\n"
     ]
    }
   ],
   "source": [
    "print (\"Test Accuracy = %.3f\" % compute_validation_accuracy(model, testloader))"
   ]
  }
 ],
 "metadata": {
  "kernelspec": {
   "display_name": "cs682",
   "language": "python",
   "name": "cs682"
  },
  "language_info": {
   "codemirror_mode": {
    "name": "ipython",
    "version": 3
   },
   "file_extension": ".py",
   "mimetype": "text/x-python",
   "name": "python",
   "nbconvert_exporter": "python",
   "pygments_lexer": "ipython3",
   "version": "3.6.9"
  }
 },
 "nbformat": 4,
 "nbformat_minor": 2
}
